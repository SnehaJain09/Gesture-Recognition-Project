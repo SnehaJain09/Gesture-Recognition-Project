{
 "cells": [
  {
   "cell_type": "markdown",
   "metadata": {},
   "source": [
    "# Gesture Recognition Project\n",
    "This project involves building a 3D Convolutional Neural Network (CNN) to correctly recognize hand gestures by a user to control a smart TV.\n"
   ]
  },
  {
   "cell_type": "markdown",
   "metadata": {},
   "source": [
    "## Understanding the DataSet:\n",
    "\n",
    "The training data consists of a few hundred videos categorised into one of the five classes. Each video (typically 2-3 seconds long) is divided into a sequence of 30 frames(images). These videos have been recorded by various people performing one of the five gestures in front of a webcam - similar to what the smart TV will use. "
   ]
  },
  {
   "cell_type": "markdown",
   "metadata": {},
   "source": [
    "### Let's visualise the sample data for one of the action \"thumbs-down\" for one video (image-sequence)\n",
    "\n",
    "### The data has been placed in the folder \"Sample_Thumbs_Down\" in current directory.\n",
    "\n"
   ]
  },
  {
   "cell_type": "code",
   "execution_count": 37,
   "metadata": {},
   "outputs": [
    {
     "data": {
      "text/plain": [
       "<Figure size 4320x2160 with 0 Axes>"
      ]
     },
     "metadata": {},
     "output_type": "display_data"
    }
   ],
   "source": [
    "import glob\n",
    "import pandas as pd\n",
    "import matplotlib.pyplot as plt\n",
    "import matplotlib.image as mpimg\n",
    "%matplotlib inline\n",
    "\n",
    "images = []\n",
    "for img_path in glob.glob('Sample_Thumbs_Down/*.png'):\n",
    "    images.append(mpimg.imread(img_path))\n",
    "\n",
    "plt.figure(figsize=(60,30))\n",
    "columns = 10\n",
    "for i, image in enumerate(images):\n",
    "    plt.subplot(len(images) / columns + 1, columns, i + 1)\n",
    "    plt.imshow(image)"
   ]
  },
  {
   "cell_type": "code",
   "execution_count": 43,
   "metadata": {},
   "outputs": [],
   "source": [
    "# Doing the required imports :\n",
    "\n",
    "from keras.models import Sequential, Model\n",
    "from keras.layers import Dense, GRU, Flatten, TimeDistributed, Flatten, BatchNormalization, Activation, Dropout\n",
    "from keras.callbacks import ModelCheckpoint, ReduceLROnPlateau\n",
    "from keras import optimizers\n",
    "from keras.losses import categorical_crossentropy\n",
    "#from keras import optimizers\n",
    "from tensorflow.keras import optimizers\n",
    "from keras.layers.convolutional import Conv2D, MaxPooling3D, Conv3D, MaxPooling2D\n",
    "from keras.layers.recurrent import GRU\n",
    "from keras.layers import Activation, Dropout, ZeroPadding3D\n",
    "from keras.layers.recurrent import LSTM"
   ]
  },
  {
   "cell_type": "code",
   "execution_count": 44,
   "metadata": {},
   "outputs": [],
   "source": [
    "# Importing the python basic libraries and functions:\n",
    "import numpy as np\n",
    "import os\n",
    "#from scipy.misc import imread, imresize\n",
    "import datetime\n",
    "import os\n",
    "\n",
    "# Importing additional libraries which might be needed for image pre-processing :\n",
    "\n",
    "#import resize as imresize\n",
    "#import sckikit-image as skimage\n",
    "import cv2\n",
    "import imageio as imio\n",
    "from PIL import Image"
   ]
  },
  {
   "cell_type": "code",
   "execution_count": 45,
   "metadata": {},
   "outputs": [],
   "source": [
    "# Random seed is done to handle the reproducibility of the network and so that the results don't vary drastically:"
   ]
  },
  {
   "cell_type": "code",
   "execution_count": 46,
   "metadata": {},
   "outputs": [],
   "source": [
    "np.random.seed(30)\n",
    "import random as rn\n",
    "rn.seed(30)\n",
    "\n",
    "import tensorflow as tf\n",
    "from keras import backend as K\n",
    "\n",
    "import matplotlib.pyplot as plt"
   ]
  },
  {
   "cell_type": "markdown",
   "metadata": {},
   "source": [
    "In this block, you read the folder names for training and validation. You also set the `batch_size` here. Note that you set the batch size in such a way that you are able to use the GPU in full capacity. You keep increasing the batch size until the machine throws an error."
   ]
  },
  {
   "cell_type": "code",
   "execution_count": 47,
   "metadata": {},
   "outputs": [],
   "source": [
    "train_doc = np.random.permutation(open('datasets/Project_data/train.csv').readlines())\n",
    "val_doc = np.random.permutation(open('datasets/Project_data/val.csv').readlines())\n",
    "batch_size=25"
   ]
  },
  {
   "cell_type": "code",
   "execution_count": 18,
   "metadata": {},
   "outputs": [],
   "source": [
    "# Custom function to crop image :\n",
    "\n",
    "def crop_img(img, scale=1.0):\n",
    "    center_x, center_y = img.shape[1] / 2, img.shape[0] / 2\n",
    "    width_scaled, height_scaled = img.shape[1] * scale, img.shape[0] * scale\n",
    "    left_x, right_x = center_x - width_scaled / 2, center_x + width_scaled / 2\n",
    "    top_y, bottom_y = center_y - height_scaled / 2, center_y + height_scaled / 2\n",
    "    img_cropped = img[int(top_y):int(bottom_y), int(left_x):int(right_x)]\n",
    "    return img_cropped"
   ]
  },
  {
   "cell_type": "markdown",
   "metadata": {},
   "source": [
    "## Generator\n",
    "This is one of the most important part of the code. The overall structure of the generator has been given. In the generator, you are going to preprocess the images as you have images of 2 different dimensions as well as create a batch of video frames. "
   ]
  },
  {
   "cell_type": "code",
   "execution_count": 19,
   "metadata": {},
   "outputs": [],
   "source": [
    "def generator(source_path, folder_list, batch_size):\n",
    "    print( 'Source path = ', source_path, '; batch size =', batch_size)\n",
    "    \n",
    "    #create a list of image numbers you want to use for a particular video\n",
    "    img_idx = [0,1,2,4,6,8,10,12,14,16,18,20,22,24,26,27,28,29]\n",
    "    #list(range(0,29,2))\n",
    "    \n",
    "    while True:\n",
    "        t = np.random.permutation(folder_list)\n",
    "        \n",
    "# calculate the number of batches\n",
    "        num_batches = int(len(t)/batch_size)\n",
    "        \n",
    "# we iterate over the number of batches\n",
    "        for batch in range(num_batches): \n",
    "            \n",
    "# x is the number of images you use for each video, (y,z) is the final size of the input images and 3 is the number of channels RGB          \n",
    "            batch_data = np.zeros((batch_size,18,64,64,3))\n",
    "# batch_labels is the one hot representation of the output\n",
    "            batch_labels = np.zeros((batch_size,5))\n",
    "\n",
    "# iterate over the batch_size    \n",
    "            for folder in range(batch_size): \n",
    "# read all the images in the folder        \n",
    "                imgs = os.listdir(source_path+'/'+ t[folder + (batch*batch_size)].split(';')[0]) \n",
    "#  Iterate over the frames/images of a folder to read them in    \n",
    "                for idx,item in enumerate(img_idx):\n",
    "                    image = cv2.imread(source_path+'/'+ t[folder + (batch*batch_size)].strip().split(';')[0]+'/'+imgs[item],cv2.IMREAD_UNCHANGED).astype(np.float32)\n",
    "                    \n",
    "#crop the images and resize them. Note that the images are of 2 different shape \n",
    "#and the conv3D will throw error if the inputs in a batch have different shapes\n",
    "\n",
    "# Cropping image by 10 % of original size :\n",
    "                    image = crop_img(image, 0.10)\n",
    "    \n",
    "# Resizing the image :    \n",
    "                    if image.shape[1] == 160:\n",
    "                        image = cv2.resize(image[:,20:140,:],(64,64),interpolation = cv2.INTER_AREA).astype(np.float32)\n",
    "                    else:\n",
    "                        image = cv2.resize(image,(64,64),interpolation = cv2.INTER_AREA).astype(np.float32)                    \n",
    "                        \n",
    "#normalise and feed in the image\n",
    "\n",
    "                    batch_data[folder,idx,:,:,0] = (image[:,:,0])/255\n",
    "                    batch_data[folder,idx,:,:,1] = (image[:,:,1])/255\n",
    "                    batch_data[folder,idx,:,:,2] = (image[:,:,2])/255\n",
    "                    \n",
    "                batch_labels[folder, int(t[folder + (batch*batch_size)].strip().split(';')[2])] = 1\n",
    "#you yield the batch_data and the batch_labels, remember what does yield do                \n",
    "            yield batch_data, batch_labels \n",
    "\n",
    "        \n",
    "# write the code for the remaining data points which are left after full batches\n",
    "        if (len(t)%batch_size) != 0:\n",
    "            batch_data = np.zeros((len(t)%batch_size,18,64,64,3))\n",
    "            batch_labels = np.zeros((len(t)%batch_size,5))\n",
    "            for folder in range(len(t)%batch_size):\n",
    "                imgs = os.listdir(source_path+'/'+ t[folder + (num_batches*batch_size)].split(';')[0])\n",
    "                for idx,item in enumerate(img_idx):\n",
    "                    image = cv2.imread(source_path+'/'+ t[folder + (num_batches*batch_size)].strip().split(';')[0]+'/'+imgs[item],cv2.IMREAD_UNCHANGED).astype(np.float32)\n",
    "                    \n",
    "# Cropping image by 10 % of original size :\n",
    "                    image = crop_img(image, 0.10)\n",
    "\n",
    "# Resizing the image :\n",
    "                    if image.shape[1] == 160:\n",
    "                        image = cv2.resize(image[:,20:140,:],(64,64),interpolation = cv2.INTER_AREA).astype(np.float32)\n",
    "                    else:\n",
    "                        image = cv2.resize(image,(64,64),interpolation = cv2.INTER_AREA).astype(np.float32)\n",
    "\n",
    "# Perform normalization on images\n",
    "                    batch_data[folder,idx,:,:,0] = (image[:,:,0])/255\n",
    "                    batch_data[folder,idx,:,:,1] = (image[:,:,1])/255\n",
    "                    batch_data[folder,idx,:,:,2] = (image[:,:,2])/255\n",
    "\n",
    "                batch_labels[folder, int(t[folder + (num_batches*batch_size)].strip().split(';')[2])] = 1\n",
    "\n",
    "            yield batch_data, batch_labels\n"
   ]
  },
  {
   "cell_type": "markdown",
   "metadata": {},
   "source": [
    "Note here that a video is represented above in the generator as (number of images, height, width, number of channels). Take this into consideration while creating the model architecture."
   ]
  },
  {
   "cell_type": "code",
   "execution_count": 20,
   "metadata": {},
   "outputs": [
    {
     "name": "stdout",
     "output_type": "stream",
     "text": [
      "# training sequences = 663\n",
      "# validation sequences = 100\n",
      "# epochs = 5\n"
     ]
    }
   ],
   "source": [
    "curr_dt_time = datetime.datetime.now()\n",
    "train_path = 'datasets/Project_data/train'\n",
    "val_path = 'datasets/Project_data/val'\n",
    "num_train_sequences = len(train_doc)\n",
    "print('# training sequences =', num_train_sequences)\n",
    "num_val_sequences = len(val_doc)\n",
    "print('# validation sequences =', num_val_sequences)\n",
    "# choose the number of epochs\n",
    "num_epochs = 5\n",
    "print ('# epochs =', num_epochs)"
   ]
  },
  {
   "cell_type": "markdown",
   "metadata": {},
   "source": [
    "## Model\n",
    "Here you make the model using different functionalities that Keras provides. Remember to use `Conv3D` and `MaxPooling3D` and not `Conv2D` and `Maxpooling2D` for a 3D convolution model. You would want to use `TimeDistributed` while building a Conv2D + RNN model. Also remember that the last layer is the softmax. Design the network in such a way that the model is able to give good accuracy on the least number of parameters so that it can fit in the memory of the webcam."
   ]
  },
  {
   "cell_type": "markdown",
   "metadata": {},
   "source": [
    "# First Base Model : Conv 3D Model with 5 epochs, 25 batch size \n",
    "### Without dropouts in Conv layer and with batch normalization\n",
    "\n",
    "### Input image size 64X64 , adam optimiser with learning rate 0.0002 with decay, 18 images as input out of 30 "
   ]
  },
  {
   "cell_type": "code",
   "execution_count": 23,
   "metadata": {},
   "outputs": [
    {
     "name": "stdout",
     "output_type": "stream",
     "text": [
      "Model: \"sequential_1\"\n",
      "_________________________________________________________________\n",
      " Layer (type)                Output Shape              Param #   \n",
      "=================================================================\n",
      " conv3d_4 (Conv3D)           (None, 18, 64, 64, 8)     656       \n",
      "                                                                 \n",
      " activation_4 (Activation)   (None, 18, 64, 64, 8)     0         \n",
      "                                                                 \n",
      " batch_normalization_6 (Batc  (None, 18, 64, 64, 8)    32        \n",
      " hNormalization)                                                 \n",
      "                                                                 \n",
      " max_pooling3d_4 (MaxPooling  (None, 9, 32, 32, 8)     0         \n",
      " 3D)                                                             \n",
      "                                                                 \n",
      " conv3d_5 (Conv3D)           (None, 9, 32, 32, 16)     3472      \n",
      "                                                                 \n",
      " activation_5 (Activation)   (None, 9, 32, 32, 16)     0         \n",
      "                                                                 \n",
      " batch_normalization_7 (Batc  (None, 9, 32, 32, 16)    64        \n",
      " hNormalization)                                                 \n",
      "                                                                 \n",
      " max_pooling3d_5 (MaxPooling  (None, 4, 16, 16, 16)    0         \n",
      " 3D)                                                             \n",
      "                                                                 \n",
      " conv3d_6 (Conv3D)           (None, 4, 16, 16, 32)     13856     \n",
      "                                                                 \n",
      " batch_normalization_8 (Batc  (None, 4, 16, 16, 32)    128       \n",
      " hNormalization)                                                 \n",
      "                                                                 \n",
      " activation_6 (Activation)   (None, 4, 16, 16, 32)     0         \n",
      "                                                                 \n",
      " max_pooling3d_6 (MaxPooling  (None, 2, 8, 8, 32)      0         \n",
      " 3D)                                                             \n",
      "                                                                 \n",
      " conv3d_7 (Conv3D)           (None, 2, 8, 8, 64)       55360     \n",
      "                                                                 \n",
      " activation_7 (Activation)   (None, 2, 8, 8, 64)       0         \n",
      "                                                                 \n",
      " batch_normalization_9 (Batc  (None, 2, 8, 8, 64)      256       \n",
      " hNormalization)                                                 \n",
      "                                                                 \n",
      " max_pooling3d_7 (MaxPooling  (None, 1, 4, 4, 64)      0         \n",
      " 3D)                                                             \n",
      "                                                                 \n",
      " flatten_1 (Flatten)         (None, 1024)              0         \n",
      "                                                                 \n",
      " dense_3 (Dense)             (None, 64)                65600     \n",
      "                                                                 \n",
      " batch_normalization_10 (Bat  (None, 64)               256       \n",
      " chNormalization)                                                \n",
      "                                                                 \n",
      " dropout_2 (Dropout)         (None, 64)                0         \n",
      "                                                                 \n",
      " dense_4 (Dense)             (None, 64)                4160      \n",
      "                                                                 \n",
      " batch_normalization_11 (Bat  (None, 64)               256       \n",
      " chNormalization)                                                \n",
      "                                                                 \n",
      " dropout_3 (Dropout)         (None, 64)                0         \n",
      "                                                                 \n",
      " dense_5 (Dense)             (None, 5)                 325       \n",
      "                                                                 \n",
      "=================================================================\n",
      "Total params: 144,421\n",
      "Trainable params: 143,925\n",
      "Non-trainable params: 496\n",
      "_________________________________________________________________\n",
      "None\n"
     ]
    }
   ],
   "source": [
    "# Building the first model which is 3D Conv model:\n",
    "\n",
    "modelConv3D_1 = Sequential()\n",
    "\n",
    "modelConv3D_1.add(Conv3D(8, (3,3,3), padding='same', input_shape=(18,64,64,3)))\n",
    "modelConv3D_1.add(Activation('relu'))\n",
    "modelConv3D_1.add(BatchNormalization())\n",
    "modelConv3D_1.add(MaxPooling3D(pool_size=(2,2,2)))\n",
    "\n",
    "#modelConv3D_1.add(Dropout(0.25))\n",
    "\n",
    "modelConv3D_1.add(Conv3D(16, (3,3,3), padding='same'))\n",
    "modelConv3D_1.add(Activation('relu'))\n",
    "modelConv3D_1.add(BatchNormalization())\n",
    "modelConv3D_1.add(MaxPooling3D(pool_size=(2,2,2)))\n",
    "\n",
    "#modelConv3D_1.add(Dropout(0.25))\n",
    "\n",
    "modelConv3D_1.add(Conv3D(32, (3,3,3), padding='same'))\n",
    "modelConv3D_1.add(BatchNormalization())\n",
    "modelConv3D_1.add(Activation('relu'))\n",
    "modelConv3D_1.add(MaxPooling3D(pool_size=(2,2,2)))\n",
    "\n",
    "#modelConv3D_1.add(Dropout(0.25))\n",
    "\n",
    "modelConv3D_1.add(Conv3D(64, (3,3,3), padding='same'))\n",
    "modelConv3D_1.add(Activation('relu'))\n",
    "modelConv3D_1.add(BatchNormalization())\n",
    "modelConv3D_1.add(MaxPooling3D(pool_size=(2,2,2)))\n",
    "\n",
    "#modelConv3D_1.add(Dropout(0.25))\n",
    "\n",
    "modelConv3D_1.add(Flatten())\n",
    "modelConv3D_1.add(Dense(64, activation='relu'))\n",
    "modelConv3D_1.add(BatchNormalization())\n",
    "modelConv3D_1.add(Dropout(0.25))\n",
    "\n",
    "modelConv3D_1.add(Dense(64, activation='relu'))\n",
    "modelConv3D_1.add(BatchNormalization())\n",
    "modelConv3D_1.add(Dropout(0.25))\n",
    "\n",
    "modelConv3D_1.add(Dense(5, activation='softmax'))\n",
    "\n",
    "#write your optimizer\n",
    "optimiser = \"adam\"#write your optimizer\n",
    "# compile model :\n",
    "modelConv3D_1.compile(optimizer=optimiser, loss='categorical_crossentropy', metrics=['categorical_accuracy'])\n",
    "\n",
    "# Print the model summary :\n",
    "print (modelConv3D_1.summary())"
   ]
  },
  {
   "cell_type": "code",
   "execution_count": 24,
   "metadata": {},
   "outputs": [
    {
     "name": "stdout",
     "output_type": "stream",
     "text": [
      "Total Params in model: 144421\n"
     ]
    }
   ],
   "source": [
    "print(\"Total Params in model:\", modelConv3D_1.count_params())"
   ]
  },
  {
   "cell_type": "markdown",
   "metadata": {},
   "source": [
    "Now that you have written the model, the next step is to `compile` the model. When you print the `summary` of the model, you'll see the total number of parameters you have to train."
   ]
  },
  {
   "cell_type": "code",
   "execution_count": 25,
   "metadata": {
    "scrolled": true
   },
   "outputs": [],
   "source": [
    "#write your optimizer\n",
    "#optimiser = \n",
    "#sgd = optimizers.SGD(lr=0.001, decay=1e-6, momentum=0.7, nesterov=True)\n",
    "#model.compile(optimizer=sgd, loss='categorical_crossentropy', metrics=['categorical_accuracy'])\n",
    "#print (model.summary())"
   ]
  },
  {
   "cell_type": "markdown",
   "metadata": {},
   "source": [
    "Let us create the `train_generator` and the `val_generator` which will be used in `.fit_generator`."
   ]
  },
  {
   "cell_type": "code",
   "execution_count": 26,
   "metadata": {},
   "outputs": [],
   "source": [
    "train_generator = generator(train_path, train_doc, batch_size)\n",
    "val_generator = generator(val_path, val_doc, batch_size)"
   ]
  },
  {
   "cell_type": "code",
   "execution_count": 32,
   "metadata": {},
   "outputs": [],
   "source": [
    "model_name = 'model_init' + '_' + str(curr_dt_time).replace(' ','').replace(':','_') + '/'\n",
    "    \n",
    "if not os.path.exists(model_name):\n",
    "    os.mkdir(model_name)\n",
    "        \n",
    "filepath = model_name + 'model-{epoch:05d}-{loss:.5f}-{categorical_accuracy:.5f}-{val_loss:.5f}-{val_categorical_accuracy:.5f}.h5'\n",
    "\n",
    "checkpoint = ModelCheckpoint(filepath, monitor='val_loss', verbose=1, save_best_only=True, save_weights_only=False, mode='auto')\n",
    "\n",
    "# write the REducelronplateau code here\n",
    "LR = ReduceLROnPlateau(monitor='val_loss', factor=0.2, patience=3, verbose=1)\n",
    "\n",
    "callbacks_list = [checkpoint, LR]"
   ]
  },
  {
   "cell_type": "markdown",
   "metadata": {},
   "source": [
    "The `steps_per_epoch` and `validation_steps` are used by `fit_generator` to decide the number of next() calls it need to make."
   ]
  },
  {
   "cell_type": "code",
   "execution_count": 33,
   "metadata": {},
   "outputs": [],
   "source": [
    "if (num_train_sequences%batch_size) == 0:\n",
    "    steps_per_epoch = int(num_train_sequences/batch_size)\n",
    "else:\n",
    "    steps_per_epoch = (num_train_sequences//batch_size) + 1\n",
    "\n",
    "if (num_val_sequences%batch_size) == 0:\n",
    "    validation_steps = int(num_val_sequences/batch_size)\n",
    "else:\n",
    "    validation_steps = (num_val_sequences//batch_size) + 1"
   ]
  },
  {
   "cell_type": "markdown",
   "metadata": {},
   "source": [
    "Let us now fit the model. This will start training the model and with the help of the checkpoints, you'll be able to save the model at the end of each epoch."
   ]
  },
  {
   "cell_type": "code",
   "execution_count": 34,
   "metadata": {},
   "outputs": [
    {
     "name": "stdout",
     "output_type": "stream",
     "text": [
      "Epoch 1/5\n",
      "27/27 [==============================] - ETA: 0s - loss: 1.6508 - categorical_accuracy: 0.3469\n",
      "Epoch 00001: val_loss improved from inf to 1.77955, saving model to model_init_2024-05-0206_18_55.810623/model-00001-1.65083-0.34691-1.77955-0.24000.h5\n",
      "27/27 [==============================] - 79s 3s/step - loss: 1.6508 - categorical_accuracy: 0.3469 - val_loss: 1.7795 - val_categorical_accuracy: 0.2400 - lr: 0.0010\n",
      "Epoch 2/5\n",
      "27/27 [==============================] - ETA: 0s - loss: 1.6398 - categorical_accuracy: 0.3409\n",
      "Epoch 00002: val_loss improved from 1.77955 to 1.69474, saving model to model_init_2024-05-0206_18_55.810623/model-00002-1.63979-0.34087-1.69474-0.24000.h5\n",
      "27/27 [==============================] - 30s 1s/step - loss: 1.6398 - categorical_accuracy: 0.3409 - val_loss: 1.6947 - val_categorical_accuracy: 0.2400 - lr: 0.0010\n",
      "Epoch 3/5\n",
      "27/27 [==============================] - ETA: 0s - loss: 1.6095 - categorical_accuracy: 0.3725\n",
      "Epoch 00003: val_loss did not improve from 1.69474\n",
      "27/27 [==============================] - 24s 903ms/step - loss: 1.6095 - categorical_accuracy: 0.3725 - val_loss: 1.8146 - val_categorical_accuracy: 0.2100 - lr: 0.0010\n",
      "Epoch 4/5\n",
      "27/27 [==============================] - ETA: 0s - loss: 1.5048 - categorical_accuracy: 0.4118\n",
      "Epoch 00004: val_loss did not improve from 1.69474\n",
      "27/27 [==============================] - 23s 901ms/step - loss: 1.5048 - categorical_accuracy: 0.4118 - val_loss: 2.0053 - val_categorical_accuracy: 0.2200 - lr: 0.0010\n",
      "Epoch 5/5\n",
      "27/27 [==============================] - ETA: 0s - loss: 1.3642 - categorical_accuracy: 0.4449\n",
      "Epoch 00005: val_loss did not improve from 1.69474\n",
      "\n",
      "Epoch 00005: ReduceLROnPlateau reducing learning rate to 0.00020000000949949026.\n",
      "27/27 [==============================] - 24s 924ms/step - loss: 1.3642 - categorical_accuracy: 0.4449 - val_loss: 2.1988 - val_categorical_accuracy: 0.2600 - lr: 0.0010\n"
     ]
    }
   ],
   "source": [
    "# Modified the fit generator to use multiproessing to improve the training time :\n",
    "\n",
    "# This is for first model 3D Conv model: (modelConv3D_1)\n",
    "\n",
    "history = modelConv3D_1.fit(train_generator, steps_per_epoch=steps_per_epoch, epochs=num_epochs, verbose=1, \n",
    "                    callbacks=callbacks_list, validation_data=val_generator, \n",
    "                    validation_steps=validation_steps, class_weight=None, initial_epoch=0)"
   ]
  },
  {
   "cell_type": "code",
   "execution_count": 35,
   "metadata": {},
   "outputs": [
    {
     "data": {
      "image/png": "[encoded data removed]",
      "text/plain": [
       "<Figure size 432x288 with 1 Axes>"
      ]
     },
     "metadata": {
      "needs_background": "light"
     },
     "output_type": "display_data"
    },
    {
     "data": {
      "image/png": "[encoded data removed]",
      "text/plain": [
       "<Figure size 432x288 with 1 Axes>"
      ]
     },
     "metadata": {
      "needs_background": "light"
     },
     "output_type": "display_data"
    }
   ],
   "source": [
    "# Plotting the result of Model 1 :\n",
    "\n",
    "# summarize history for accuracy\n",
    "plt.plot(history.history['categorical_accuracy'])\n",
    "plt.plot(history.history['val_categorical_accuracy'])\n",
    "plt.title('model accuracy')\n",
    "plt.ylabel('accuracy')\n",
    "plt.xlabel('epoch')\n",
    "plt.legend(['train', 'test'], loc='upper left')\n",
    "plt.show()\n",
    "\n",
    "# summarize history for loss\n",
    "plt.plot(history.history['loss'])\n",
    "plt.plot(history.history['val_loss'])\n",
    "plt.title('model loss')\n",
    "plt.ylabel('loss')\n",
    "plt.xlabel('epoch')\n",
    "plt.legend(['train', 'test'], loc='upper left')\n",
    "plt.show()"
   ]
  },
  {
   "cell_type": "code",
   "execution_count": 38,
   "metadata": {},
   "outputs": [],
   "source": [
    "model_detail_df = pd.DataFrame()\n",
    "def model_result(model_name ,accuracy, loss, val_accuracy, val_loss):\n",
    "    model_detail_dic = {\"Model Name\" : model_name,\n",
    "                   \"Model Accuracy\" : accuracy * 100,\n",
    "                   \"Model Loss\" : loss * 100 ,\n",
    "                   \"Val Accuracy\" : val_accuracy * 100,\n",
    "                   \"Val Loss\" : val_loss * 100}\n",
    "\n",
    "    df = pd.DataFrame([model_detail_dic])\n",
    "    return df"
   ]
  },
  {
   "cell_type": "code",
   "execution_count": 39,
   "metadata": {},
   "outputs": [
    {
     "name": "stdout",
     "output_type": "stream",
     "text": [
      "      Model Name  Model Accuracy  Model Loss  Val Accuracy    Val Loss\n",
      "0  modelConv3D_1       44.494721  136.417484     25.999999  219.879627\n"
     ]
    }
   ],
   "source": [
    "df1 = model_result(\"modelConv3D_1\",history.history['categorical_accuracy'][-1], history.history['loss'][-1] , history.history['val_categorical_accuracy'][-1], history.history['val_loss'][-1])\n",
    "\n",
    "model_detail_df = pd.concat([model_detail_df,df1])\n",
    "print(model_detail_df.head(20))"
   ]
  },
  {
   "cell_type": "markdown",
   "metadata": {},
   "source": [
    "So we have got the training accuarcy of 44 % and validation accuracy of 25 % in the base model"
   ]
  },
  {
   "cell_type": "markdown",
   "metadata": {},
   "source": [
    "# Second Model  : Conv 3D Model with 20 epochs, 30 batch size \n",
    "Without dropouts in Conv layer and with batch normalization.\n",
    "Input image size 64X64 , adam optimiser with learning rate 0.0002 without decay, 18 images as input out of 30\n",
    "Changed droput to 0.50 from 0.25 in 1st dense layer "
   ]
  },
  {
   "cell_type": "code",
   "execution_count": 48,
   "metadata": {},
   "outputs": [],
   "source": [
    "batch_size = 30\n",
    "num_epochs = 20"
   ]
  },
  {
   "cell_type": "code",
   "execution_count": 49,
   "metadata": {},
   "outputs": [
    {
     "name": "stdout",
     "output_type": "stream",
     "text": [
      "Model: \"sequential_4\"\n",
      "_________________________________________________________________\n",
      " Layer (type)                Output Shape              Param #   \n",
      "=================================================================\n",
      " conv3d_16 (Conv3D)          (None, 18, 64, 64, 8)     656       \n",
      "                                                                 \n",
      " activation_16 (Activation)  (None, 18, 64, 64, 8)     0         \n",
      "                                                                 \n",
      " batch_normalization_24 (Bat  (None, 18, 64, 64, 8)    32        \n",
      " chNormalization)                                                \n",
      "                                                                 \n",
      " max_pooling3d_16 (MaxPoolin  (None, 9, 32, 32, 8)     0         \n",
      " g3D)                                                            \n",
      "                                                                 \n",
      " conv3d_17 (Conv3D)          (None, 9, 32, 32, 16)     3472      \n",
      "                                                                 \n",
      " activation_17 (Activation)  (None, 9, 32, 32, 16)     0         \n",
      "                                                                 \n",
      " batch_normalization_25 (Bat  (None, 9, 32, 32, 16)    64        \n",
      " chNormalization)                                                \n",
      "                                                                 \n",
      " max_pooling3d_17 (MaxPoolin  (None, 4, 16, 16, 16)    0         \n",
      " g3D)                                                            \n",
      "                                                                 \n",
      " conv3d_18 (Conv3D)          (None, 4, 16, 16, 32)     13856     \n",
      "                                                                 \n",
      " batch_normalization_26 (Bat  (None, 4, 16, 16, 32)    128       \n",
      " chNormalization)                                                \n",
      "                                                                 \n",
      " activation_18 (Activation)  (None, 4, 16, 16, 32)     0         \n",
      "                                                                 \n",
      " max_pooling3d_18 (MaxPoolin  (None, 2, 8, 8, 32)      0         \n",
      " g3D)                                                            \n",
      "                                                                 \n",
      " conv3d_19 (Conv3D)          (None, 2, 8, 8, 64)       55360     \n",
      "                                                                 \n",
      " activation_19 (Activation)  (None, 2, 8, 8, 64)       0         \n",
      "                                                                 \n",
      " batch_normalization_27 (Bat  (None, 2, 8, 8, 64)      256       \n",
      " chNormalization)                                                \n",
      "                                                                 \n",
      " max_pooling3d_19 (MaxPoolin  (None, 1, 4, 4, 64)      0         \n",
      " g3D)                                                            \n",
      "                                                                 \n",
      " flatten_4 (Flatten)         (None, 1024)              0         \n",
      "                                                                 \n",
      " dense_12 (Dense)            (None, 64)                65600     \n",
      "                                                                 \n",
      " batch_normalization_28 (Bat  (None, 64)               256       \n",
      " chNormalization)                                                \n",
      "                                                                 \n",
      " dropout_8 (Dropout)         (None, 64)                0         \n",
      "                                                                 \n",
      " dense_13 (Dense)            (None, 64)                4160      \n",
      "                                                                 \n",
      " batch_normalization_29 (Bat  (None, 64)               256       \n",
      " chNormalization)                                                \n",
      "                                                                 \n",
      " dropout_9 (Dropout)         (None, 64)                0         \n",
      "                                                                 \n",
      " dense_14 (Dense)            (None, 5)                 325       \n",
      "                                                                 \n",
      "=================================================================\n",
      "Total params: 144,421\n",
      "Trainable params: 143,925\n",
      "Non-trainable params: 496\n",
      "_________________________________________________________________\n",
      "None\n"
     ]
    }
   ],
   "source": [
    "# Building the second model which is 3D Conv model:\n",
    "\n",
    "modelConv3D_2 = Sequential()\n",
    "\n",
    "modelConv3D_2.add(Conv3D(8, (3,3,3), padding='same', input_shape=(18,64,64,3)))\n",
    "modelConv3D_2.add(Activation('relu'))\n",
    "modelConv3D_2.add(BatchNormalization())\n",
    "modelConv3D_2.add(MaxPooling3D(pool_size=(2,2,2)))\n",
    "\n",
    "#modelConv3D_2.add(Dropout(0.25))\n",
    "\n",
    "modelConv3D_2.add(Conv3D(16, (3,3,3), padding='same'))\n",
    "modelConv3D_2.add(Activation('relu'))\n",
    "modelConv3D_2.add(BatchNormalization())\n",
    "modelConv3D_2.add(MaxPooling3D(pool_size=(2,2,2)))\n",
    "\n",
    "#modelConv3D_2.add(Dropout(0.25))\n",
    "\n",
    "modelConv3D_2.add(Conv3D(32, (3,3,3), padding='same'))\n",
    "modelConv3D_2.add(BatchNormalization())\n",
    "modelConv3D_2.add(Activation('relu'))\n",
    "modelConv3D_2.add(MaxPooling3D(pool_size=(2,2,2)))\n",
    "\n",
    "#modelConv3D_2.add(Dropout(0.25))\n",
    "\n",
    "modelConv3D_2.add(Conv3D(64, (3,3,3), padding='same'))\n",
    "modelConv3D_2.add(Activation('relu'))\n",
    "modelConv3D_2.add(BatchNormalization())\n",
    "modelConv3D_2.add(MaxPooling3D(pool_size=(2,2,2)))\n",
    "\n",
    "#modelConv3D_2.add(Dropout(0.25))\n",
    "\n",
    "modelConv3D_2.add(Flatten())\n",
    "modelConv3D_2.add(Dense(64, activation='relu'))\n",
    "modelConv3D_2.add(BatchNormalization())\n",
    "modelConv3D_2.add(Dropout(0.50))\n",
    "\n",
    "modelConv3D_2.add(Dense(64, activation='relu'))\n",
    "modelConv3D_2.add(BatchNormalization())\n",
    "modelConv3D_2.add(Dropout(0.25))\n",
    "\n",
    "modelConv3D_2.add(Dense(5, activation='softmax'))\n",
    "\n",
    "#write your optimizer\n",
    "\n",
    "optimiser = optimizers.Adam(lr=0.0002)\n",
    "#write your optimizer\n",
    "#optimiser = \"adam\"#write your optimizer\n",
    "\n",
    "\n",
    "# compile model :\n",
    "modelConv3D_2.compile(optimizer=optimiser, loss='categorical_crossentropy', metrics=['categorical_accuracy'])\n",
    "\n",
    "# Print the model summary :\n",
    "print (modelConv3D_2.summary())"
   ]
  },
  {
   "cell_type": "code",
   "execution_count": 50,
   "metadata": {},
   "outputs": [
    {
     "name": "stdout",
     "output_type": "stream",
     "text": [
      "Total Params in model: 144421\n"
     ]
    }
   ],
   "source": [
    "print(\"Total Params in model:\", modelConv3D_2.count_params())"
   ]
  },
  {
   "cell_type": "code",
   "execution_count": 52,
   "metadata": {},
   "outputs": [],
   "source": [
    "train_generator = generator(train_path, train_doc, batch_size)\n",
    "val_generator = generator(val_path, val_doc, batch_size)\n",
    "\n",
    "model_name = 'model_init' + '_' + str(curr_dt_time).replace(' ','').replace(':','_') + '/'\n",
    "    \n",
    "if not os.path.exists(model_name):\n",
    "    os.mkdir(model_name)\n",
    "        \n",
    "filepath = model_name + 'model-{epoch:05d}-{loss:.5f}-{categorical_accuracy:.5f}-{val_loss:.5f}-{val_categorical_accuracy:.5f}.h5'\n",
    "\n",
    "checkpoint = ModelCheckpoint(filepath, monitor='val_loss', verbose=1, save_best_only=True, save_weights_only=False, mode='auto')\n",
    "\n",
    "# write the REducelronplateau code here\n",
    "LR = ReduceLROnPlateau(monitor='val_loss', factor=0.2, patience=4, verbose =1 )\n",
    "\n",
    "callbacks_list = [checkpoint, LR]\n",
    "\n",
    "if (num_train_sequences%batch_size) == 0:\n",
    "    steps_per_epoch = int(num_train_sequences/batch_size)\n",
    "else:\n",
    "    steps_per_epoch = (num_train_sequences//batch_size) + 1\n",
    "\n",
    "if (num_val_sequences%batch_size) == 0:\n",
    "    validation_steps = int(num_val_sequences/batch_size)\n",
    "else:\n",
    "    validation_steps = (num_val_sequences//batch_size) + 1"
   ]
  },
  {
   "cell_type": "code",
   "execution_count": 54,
   "metadata": {
    "scrolled": true
   },
   "outputs": [
    {
     "name": "stdout",
     "output_type": "stream",
     "text": [
      "Epoch 1/20\n",
      "23/23 [==============================] - ETA: 0s - loss: 2.0648 - categorical_accuracy: 0.2670Source path =  datasets/Project_data/val ; batch size = 30\n",
      "\n",
      "Epoch 00001: val_loss improved from inf to 1.62748, saving model to model_init_2024-05-0206_18_55.810623/model-00001-2.06480-0.26697-1.62748-0.21000.h5\n",
      "23/23 [==============================] - 24s 1s/step - loss: 2.0648 - categorical_accuracy: 0.2670 - val_loss: 1.6275 - val_categorical_accuracy: 0.2100 - lr: 2.0000e-04\n",
      "Epoch 2/20\n",
      "23/23 [==============================] - ETA: 0s - loss: 1.7840 - categorical_accuracy: 0.3303\n",
      "Epoch 00002: val_loss did not improve from 1.62748\n",
      "23/23 [==============================] - 24s 1s/step - loss: 1.7840 - categorical_accuracy: 0.3303 - val_loss: 1.7414 - val_categorical_accuracy: 0.2100 - lr: 2.0000e-04\n",
      "Epoch 3/20\n",
      "23/23 [==============================] - ETA: 0s - loss: 1.8160 - categorical_accuracy: 0.3047\n",
      "Epoch 00003: val_loss did not improve from 1.62748\n",
      "23/23 [==============================] - 24s 1s/step - loss: 1.8160 - categorical_accuracy: 0.3047 - val_loss: 1.8358 - val_categorical_accuracy: 0.2100 - lr: 2.0000e-04\n",
      "Epoch 4/20\n",
      "23/23 [==============================] - ETA: 0s - loss: 1.7545 - categorical_accuracy: 0.3152\n",
      "Epoch 00004: val_loss did not improve from 1.62748\n",
      "23/23 [==============================] - 23s 1s/step - loss: 1.7545 - categorical_accuracy: 0.3152 - val_loss: 1.9293 - val_categorical_accuracy: 0.2200 - lr: 2.0000e-04\n",
      "Epoch 5/20\n",
      "23/23 [==============================] - ETA: 0s - loss: 1.7144 - categorical_accuracy: 0.3650\n",
      "Epoch 00005: val_loss did not improve from 1.62748\n",
      "\n",
      "Epoch 00005: ReduceLROnPlateau reducing learning rate to 3.9999998989515007e-05.\n",
      "23/23 [==============================] - 23s 1s/step - loss: 1.7144 - categorical_accuracy: 0.3650 - val_loss: 2.0471 - val_categorical_accuracy: 0.2100 - lr: 2.0000e-04\n",
      "Epoch 6/20\n",
      "23/23 [==============================] - ETA: 0s - loss: 1.7428 - categorical_accuracy: 0.3348\n",
      "Epoch 00006: val_loss did not improve from 1.62748\n",
      "23/23 [==============================] - 24s 1s/step - loss: 1.7428 - categorical_accuracy: 0.3348 - val_loss: 2.0887 - val_categorical_accuracy: 0.2500 - lr: 4.0000e-05\n",
      "Epoch 7/20\n",
      "23/23 [==============================] - ETA: 0s - loss: 1.5789 - categorical_accuracy: 0.4103\n",
      "Epoch 00007: val_loss did not improve from 1.62748\n",
      "23/23 [==============================] - 25s 1s/step - loss: 1.5789 - categorical_accuracy: 0.4103 - val_loss: 2.2812 - val_categorical_accuracy: 0.1800 - lr: 4.0000e-05\n",
      "Epoch 8/20\n",
      "23/23 [==============================] - ETA: 0s - loss: 1.5669 - categorical_accuracy: 0.4148\n",
      "Epoch 00008: val_loss did not improve from 1.62748\n",
      "23/23 [==============================] - 23s 1s/step - loss: 1.5669 - categorical_accuracy: 0.4148 - val_loss: 2.3489 - val_categorical_accuracy: 0.1900 - lr: 4.0000e-05\n",
      "Epoch 9/20\n",
      "23/23 [==============================] - ETA: 0s - loss: 1.5878 - categorical_accuracy: 0.4163\n",
      "Epoch 00009: val_loss did not improve from 1.62748\n",
      "\n",
      "Epoch 00009: ReduceLROnPlateau reducing learning rate to 7.999999797903002e-06.\n",
      "23/23 [==============================] - 24s 1s/step - loss: 1.5878 - categorical_accuracy: 0.4163 - val_loss: 2.2808 - val_categorical_accuracy: 0.2100 - lr: 4.0000e-05\n",
      "Epoch 10/20\n",
      "23/23 [==============================] - ETA: 0s - loss: 1.5344 - categorical_accuracy: 0.3906\n",
      "Epoch 00010: val_loss did not improve from 1.62748\n",
      "23/23 [==============================] - 23s 1s/step - loss: 1.5344 - categorical_accuracy: 0.3906 - val_loss: 2.2684 - val_categorical_accuracy: 0.2200 - lr: 8.0000e-06\n",
      "Epoch 11/20\n",
      "23/23 [==============================] - ETA: 0s - loss: 1.5516 - categorical_accuracy: 0.3997\n",
      "Epoch 00011: val_loss did not improve from 1.62748\n",
      "23/23 [==============================] - 24s 1s/step - loss: 1.5516 - categorical_accuracy: 0.3997 - val_loss: 2.2995 - val_categorical_accuracy: 0.1600 - lr: 8.0000e-06\n",
      "Epoch 12/20\n",
      "23/23 [==============================] - ETA: 0s - loss: 1.6097 - categorical_accuracy: 0.3741\n",
      "Epoch 00012: val_loss did not improve from 1.62748\n",
      "23/23 [==============================] - 23s 1s/step - loss: 1.6097 - categorical_accuracy: 0.3741 - val_loss: 2.2366 - val_categorical_accuracy: 0.2200 - lr: 8.0000e-06\n",
      "Epoch 13/20\n",
      "23/23 [==============================] - ETA: 0s - loss: 1.5644 - categorical_accuracy: 0.3650\n",
      "Epoch 00013: val_loss did not improve from 1.62748\n",
      "\n",
      "Epoch 00013: ReduceLROnPlateau reducing learning rate to 1.5999999959603884e-06.\n",
      "23/23 [==============================] - 23s 1s/step - loss: 1.5644 - categorical_accuracy: 0.3650 - val_loss: 2.1732 - val_categorical_accuracy: 0.2100 - lr: 8.0000e-06\n",
      "Epoch 14/20\n",
      "23/23 [==============================] - ETA: 0s - loss: 1.5686 - categorical_accuracy: 0.3937\n",
      "Epoch 00014: val_loss did not improve from 1.62748\n",
      "23/23 [==============================] - 23s 1s/step - loss: 1.5686 - categorical_accuracy: 0.3937 - val_loss: 2.3239 - val_categorical_accuracy: 0.2000 - lr: 1.6000e-06\n",
      "Epoch 15/20\n",
      "23/23 [==============================] - ETA: 0s - loss: 1.5594 - categorical_accuracy: 0.3846\n",
      "Epoch 00015: val_loss did not improve from 1.62748\n",
      "23/23 [==============================] - 24s 1s/step - loss: 1.5594 - categorical_accuracy: 0.3846 - val_loss: 2.0458 - val_categorical_accuracy: 0.2000 - lr: 1.6000e-06\n",
      "Epoch 16/20\n",
      "23/23 [==============================] - ETA: 0s - loss: 1.5203 - categorical_accuracy: 0.4284\n",
      "Epoch 00016: val_loss did not improve from 1.62748\n",
      "23/23 [==============================] - 22s 1s/step - loss: 1.5203 - categorical_accuracy: 0.4284 - val_loss: 2.0377 - val_categorical_accuracy: 0.2800 - lr: 1.6000e-06\n",
      "Epoch 17/20\n",
      "23/23 [==============================] - ETA: 0s - loss: 1.5563 - categorical_accuracy: 0.4148\n",
      "Epoch 00017: val_loss did not improve from 1.62748\n",
      "\n",
      "Epoch 00017: ReduceLROnPlateau reducing learning rate to 3.200000037395512e-07.\n",
      "23/23 [==============================] - 23s 1s/step - loss: 1.5563 - categorical_accuracy: 0.4148 - val_loss: 1.9693 - val_categorical_accuracy: 0.2800 - lr: 1.6000e-06\n",
      "Epoch 18/20\n",
      "23/23 [==============================] - ETA: 0s - loss: 1.5011 - categorical_accuracy: 0.4042\n",
      "Epoch 00018: val_loss did not improve from 1.62748\n",
      "23/23 [==============================] - 24s 1s/step - loss: 1.5011 - categorical_accuracy: 0.4042 - val_loss: 1.9102 - val_categorical_accuracy: 0.3000 - lr: 3.2000e-07\n",
      "Epoch 19/20\n",
      "23/23 [==============================] - ETA: 0s - loss: 1.5488 - categorical_accuracy: 0.4087\n",
      "Epoch 00019: val_loss did not improve from 1.62748\n",
      "23/23 [==============================] - 24s 1s/step - loss: 1.5488 - categorical_accuracy: 0.4087 - val_loss: 1.7758 - val_categorical_accuracy: 0.3200 - lr: 3.2000e-07\n",
      "Epoch 20/20\n",
      "23/23 [==============================] - ETA: 0s - loss: 1.5342 - categorical_accuracy: 0.3861\n",
      "Epoch 00020: val_loss did not improve from 1.62748\n",
      "23/23 [==============================] - 23s 1s/step - loss: 1.5342 - categorical_accuracy: 0.3861 - val_loss: 1.7875 - val_categorical_accuracy: 0.3000 - lr: 3.2000e-07\n"
     ]
    }
   ],
   "source": [
    "# Modified the fit generator to use multiple worker without the multiprocessing training time :\n",
    "\n",
    "# This is for second model 3D Conv model: )\n",
    "\n",
    "history = modelConv3D_2.fit(train_generator, steps_per_epoch=steps_per_epoch, epochs=num_epochs, verbose=1, \n",
    "                    callbacks=callbacks_list, validation_data=val_generator, \n",
    "                    validation_steps=validation_steps, class_weight=None,use_multiprocessing=False,\n",
    "                     initial_epoch=0)"
   ]
  },
  {
   "cell_type": "code",
   "execution_count": 55,
   "metadata": {},
   "outputs": [
    {
     "name": "stdout",
     "output_type": "stream",
     "text": [
      "Total Params in model: 144421\n"
     ]
    }
   ],
   "source": [
    "print(\"Total Params in model:\", modelConv3D_2.count_params())"
   ]
  },
  {
   "cell_type": "code",
   "execution_count": 58,
   "metadata": {},
   "outputs": [
    {
     "data": {
      "image/png": "[encoded data removed]",
      "text/plain": [
       "<Figure size 432x288 with 1 Axes>"
      ]
     },
     "metadata": {
      "needs_background": "light"
     },
     "output_type": "display_data"
    },
    {
     "data": {
      "image/png": "[encoded data removed]",
      "text/plain": [
       "<Figure size 432x288 with 1 Axes>"
      ]
     },
     "metadata": {
      "needs_background": "light"
     },
     "output_type": "display_data"
    }
   ],
   "source": [
    "# Plotting the result of Model 2 :\n",
    "\n",
    "# summarize history for accuracy\n",
    "plt.plot(history.history['categorical_accuracy'])\n",
    "plt.plot(history.history['val_categorical_accuracy'])\n",
    "plt.title('model accuracy')\n",
    "plt.ylabel('accuracy')\n",
    "plt.xlabel('epoch')\n",
    "plt.legend(['train', 'test'], loc='upper left')\n",
    "plt.show()\n",
    "\n",
    "# summarize history for loss\n",
    "plt.plot(history.history['loss'])\n",
    "plt.plot(history.history['val_loss'])\n",
    "plt.title('model loss')\n",
    "plt.ylabel('loss')\n",
    "plt.xlabel('epoch')\n",
    "plt.legend(['train', 'test'], loc='upper left')\n",
    "plt.show()"
   ]
  },
  {
   "cell_type": "code",
   "execution_count": 59,
   "metadata": {},
   "outputs": [
    {
     "name": "stdout",
     "output_type": "stream",
     "text": [
      "      Model Name  Model Accuracy  Model Loss  Val Accuracy    Val Loss\n",
      "0  modelConv3D_1       44.494721  136.417484     25.999999  219.879627\n",
      "0  modelConv3D_2       38.612369  153.423560     30.000001  178.754282\n",
      "0  modelConv3D_2       38.612369  153.423560     30.000001  178.754282\n"
     ]
    }
   ],
   "source": [
    "df1 = model_result(\"modelConv3D_2\",history.history['categorical_accuracy'][-1], history.history['loss'][-1] , history.history['val_categorical_accuracy'][-1], history.history['val_loss'][-1])\n",
    "\n",
    "model_detail_df = pd.concat([model_detail_df,df1])\n",
    "print(model_detail_df.head(20))"
   ]
  },
  {
   "cell_type": "markdown",
   "metadata": {},
   "source": [
    "# Third Model  : Conv 3D Model with 20 epochs and 30 batch size , image size increaed to 84X84, reduced cropping to 3 % from 10 %\n",
    "Without dropouts in Conv layer and with batch normalization.\n",
    "adam optimiser with learning rate 0.0002 without decay, 18 images as input out of 30\n",
    "Reverted back dropout from 0.50 to 0.25 in 1st dense layer "
   ]
  },
  {
   "cell_type": "code",
   "execution_count": 70,
   "metadata": {},
   "outputs": [],
   "source": [
    "# Modified generator function :\n",
    "\n",
    "def generator_modified(source_path, folder_list, batch_size):\n",
    "    print( 'Source path = ', source_path, '; batch size =', batch_size)\n",
    "    \n",
    "    #create a list of image numbers you want to use for a particular video\n",
    "    img_idx = [1,2,4,6,7,8,10,12,14,16,18,20,21,22,24,26,27,29]\n",
    "    #list(range(0,29,2))\n",
    "    \n",
    "    while True:\n",
    "        t = np.random.permutation(folder_list)\n",
    "        \n",
    "# calculate the number of batches\n",
    "        num_batches = int(len(t)/batch_size)\n",
    "        \n",
    "# we iterate over the number of batches\n",
    "        for batch in range(num_batches): \n",
    "            \n",
    "# x is the number of images you use for each video, (y,z) is the final size of the input images and 3 is the number of channels RGB          \n",
    "            batch_data = np.zeros((batch_size,18,84,84,3))\n",
    "# batch_labels is the one hot representation of the output\n",
    "            batch_labels = np.zeros((batch_size,5))\n",
    "\n",
    "# iterate over the batch_size    \n",
    "            for folder in range(batch_size): \n",
    "# read all the images in the folder        \n",
    "                imgs = os.listdir(source_path+'/'+ t[folder + (batch*batch_size)].split(';')[0]) \n",
    "#  Iterate over the frames/images of a folder to read them in    \n",
    "                for idx,item in enumerate(img_idx):\n",
    "                    image = cv2.imread(source_path+'/'+ t[folder + (batch*batch_size)].strip().split(';')[0]+'/'+imgs[item],cv2.IMREAD_UNCHANGED).astype(np.float32)\n",
    "                    \n",
    "#crop the images and resize them. Note that the images are of 2 different shape \n",
    "#and the conv3D will throw error if the inputs in a batch have different shapes\n",
    "\n",
    "# Cropping image by 3 % of original size :\n",
    "                    image = crop_img(image, 0.03)\n",
    "    \n",
    "# Resizing the image :    \n",
    "                    if image.shape[1] == 160:\n",
    "                        image = cv2.resize(image[:,20:140,:],(84,84),interpolation = cv2.INTER_AREA).astype(np.float32)\n",
    "                    else:\n",
    "                        image = cv2.resize(image,(84,84),interpolation = cv2.INTER_AREA).astype(np.float32)                    \n",
    "                        \n",
    "#normalise and feed in the image\n",
    "\n",
    "                    batch_data[folder,idx,:,:,0] = (image[:,:,0])/255\n",
    "                    batch_data[folder,idx,:,:,1] = (image[:,:,1])/255\n",
    "                    batch_data[folder,idx,:,:,2] = (image[:,:,2])/255\n",
    "                    \n",
    "                batch_labels[folder, int(t[folder + (batch*batch_size)].strip().split(';')[2])] = 1\n",
    "#you yield the batch_data and the batch_labels, remember what does yield do                \n",
    "            yield batch_data, batch_labels \n",
    "\n",
    "        \n",
    "# write the code for the remaining data points which are left after full batches\n",
    "        if (len(t)%batch_size) != 0:\n",
    "            batch_data = np.zeros((len(t)%batch_size,18,84,84,3))\n",
    "            batch_labels = np.zeros((len(t)%batch_size,5))\n",
    "            for folder in range(len(t)%batch_size):\n",
    "                imgs = os.listdir(source_path+'/'+ t[folder + (num_batches*batch_size)].split(';')[0])\n",
    "                for idx,item in enumerate(img_idx):\n",
    "                    image = cv2.imread(source_path+'/'+ t[folder + (num_batches*batch_size)].strip().split(';')[0]+'/'+imgs[item],cv2.IMREAD_UNCHANGED).astype(np.float32)\n",
    "                    \n",
    "# Cropping image by 3 % of original size :\n",
    "                    image = crop_img(image, 0.03)\n",
    "\n",
    "# Resizing the image :\n",
    "                    if image.shape[1] == 160:\n",
    "                        image = cv2.resize(image[:,20:140,:],(84,84),interpolation = cv2.INTER_AREA).astype(np.float32)\n",
    "                    else:\n",
    "                        image = cv2.resize(image,(84,84),interpolation = cv2.INTER_AREA).astype(np.float32)\n",
    "\n",
    "# Perform normalization on images\n",
    "                    batch_data[folder,idx,:,:,0] = (image[:,:,0])/255\n",
    "                    batch_data[folder,idx,:,:,1] = (image[:,:,1])/255\n",
    "                    batch_data[folder,idx,:,:,2] = (image[:,:,2])/255\n",
    "\n",
    "                batch_labels[folder, int(t[folder + (num_batches*batch_size)].strip().split(';')[2])] = 1\n",
    "\n",
    "            yield batch_data, batch_labels\n"
   ]
  },
  {
   "cell_type": "code",
   "execution_count": 71,
   "metadata": {},
   "outputs": [
    {
     "name": "stdout",
     "output_type": "stream",
     "text": [
      "# training sequences = 663\n",
      "# validation sequences = 100\n",
      "# epochs = 20\n",
      "# batch_size = 30\n"
     ]
    }
   ],
   "source": [
    "curr_dt_time = datetime.datetime.now()\n",
    "train_path = 'datasets/Project_data/train'\n",
    "val_path = 'datasets/Project_data/val'\n",
    "num_train_sequences = len(train_doc)\n",
    "print('# training sequences =', num_train_sequences)\n",
    "num_val_sequences = len(val_doc)\n",
    "print('# validation sequences =', num_val_sequences)\n",
    "# choose the number of epochs\n",
    "num_epochs = 20\n",
    "print ('# epochs =', num_epochs)\n",
    "\n",
    "batch_size = 30\n",
    "print ('# batch_size =', batch_size)"
   ]
  },
  {
   "cell_type": "code",
   "execution_count": 72,
   "metadata": {},
   "outputs": [
    {
     "name": "stdout",
     "output_type": "stream",
     "text": [
      "Model: \"sequential_7\"\n",
      "_________________________________________________________________\n",
      " Layer (type)                Output Shape              Param #   \n",
      "=================================================================\n",
      " conv3d_28 (Conv3D)          (None, 18, 84, 84, 8)     656       \n",
      "                                                                 \n",
      " activation_28 (Activation)  (None, 18, 84, 84, 8)     0         \n",
      "                                                                 \n",
      " batch_normalization_42 (Bat  (None, 18, 84, 84, 8)    32        \n",
      " chNormalization)                                                \n",
      "                                                                 \n",
      " max_pooling3d_28 (MaxPoolin  (None, 9, 42, 42, 8)     0         \n",
      " g3D)                                                            \n",
      "                                                                 \n",
      " conv3d_29 (Conv3D)          (None, 9, 42, 42, 16)     3472      \n",
      "                                                                 \n",
      " activation_29 (Activation)  (None, 9, 42, 42, 16)     0         \n",
      "                                                                 \n",
      " batch_normalization_43 (Bat  (None, 9, 42, 42, 16)    64        \n",
      " chNormalization)                                                \n",
      "                                                                 \n",
      " max_pooling3d_29 (MaxPoolin  (None, 4, 21, 21, 16)    0         \n",
      " g3D)                                                            \n",
      "                                                                 \n",
      " conv3d_30 (Conv3D)          (None, 4, 21, 21, 32)     13856     \n",
      "                                                                 \n",
      " batch_normalization_44 (Bat  (None, 4, 21, 21, 32)    128       \n",
      " chNormalization)                                                \n",
      "                                                                 \n",
      " activation_30 (Activation)  (None, 4, 21, 21, 32)     0         \n",
      "                                                                 \n",
      " max_pooling3d_30 (MaxPoolin  (None, 2, 10, 10, 32)    0         \n",
      " g3D)                                                            \n",
      "                                                                 \n",
      " conv3d_31 (Conv3D)          (None, 2, 10, 10, 64)     55360     \n",
      "                                                                 \n",
      " activation_31 (Activation)  (None, 2, 10, 10, 64)     0         \n",
      "                                                                 \n",
      " batch_normalization_45 (Bat  (None, 2, 10, 10, 64)    256       \n",
      " chNormalization)                                                \n",
      "                                                                 \n",
      " max_pooling3d_31 (MaxPoolin  (None, 1, 5, 5, 64)      0         \n",
      " g3D)                                                            \n",
      "                                                                 \n",
      " flatten_7 (Flatten)         (None, 1600)              0         \n",
      "                                                                 \n",
      " dense_21 (Dense)            (None, 128)               204928    \n",
      "                                                                 \n",
      " batch_normalization_46 (Bat  (None, 128)              512       \n",
      " chNormalization)                                                \n",
      "                                                                 \n",
      " dropout_14 (Dropout)        (None, 128)               0         \n",
      "                                                                 \n",
      " dense_22 (Dense)            (None, 64)                8256      \n",
      "                                                                 \n",
      " batch_normalization_47 (Bat  (None, 64)               256       \n",
      " chNormalization)                                                \n",
      "                                                                 \n",
      " dropout_15 (Dropout)        (None, 64)                0         \n",
      "                                                                 \n",
      " dense_23 (Dense)            (None, 5)                 325       \n",
      "                                                                 \n",
      "=================================================================\n",
      "Total params: 288,101\n",
      "Trainable params: 287,477\n",
      "Non-trainable params: 624\n",
      "_________________________________________________________________\n",
      "None\n"
     ]
    }
   ],
   "source": [
    "# Building the  model which is 3D Conv model:\n",
    "\n",
    "modelConv3D_3 = Sequential()\n",
    "\n",
    "modelConv3D_3.add(Conv3D(8, (3,3,3), padding='same', input_shape=(18,84,84,3)))\n",
    "modelConv3D_3.add(Activation('relu'))\n",
    "modelConv3D_3.add(BatchNormalization())\n",
    "modelConv3D_3.add(MaxPooling3D(pool_size=(2,2,2)))\n",
    "\n",
    "#modelConv3D_3.add(Dropout(0.25))\n",
    "\n",
    "modelConv3D_3.add(Conv3D(16, (3,3,3), padding='same'))\n",
    "modelConv3D_3.add(Activation('relu'))\n",
    "modelConv3D_3.add(BatchNormalization())\n",
    "modelConv3D_3.add(MaxPooling3D(pool_size=(2,2,2)))\n",
    "\n",
    "#modelConv3D_3.add(Dropout(0.25))\n",
    "\n",
    "modelConv3D_3.add(Conv3D(32, (3,3,3), padding='same'))\n",
    "modelConv3D_3.add(BatchNormalization())\n",
    "modelConv3D_3.add(Activation('relu'))\n",
    "modelConv3D_3.add(MaxPooling3D(pool_size=(2,2,2)))\n",
    "\n",
    "#modelConv3D_3.add(Dropout(0.25))\n",
    "\n",
    "modelConv3D_3.add(Conv3D(64, (3,3,3), padding='same'))\n",
    "modelConv3D_3.add(Activation('relu'))\n",
    "modelConv3D_3.add(BatchNormalization())\n",
    "modelConv3D_3.add(MaxPooling3D(pool_size=(2,2,2)))\n",
    "\n",
    "#modelConv3D_3.add(Dropout(0.25))\n",
    "\n",
    "modelConv3D_3.add(Flatten())\n",
    "\n",
    "modelConv3D_3.add(Dense(128, activation='relu'))\n",
    "modelConv3D_3.add(BatchNormalization())\n",
    "modelConv3D_3.add(Dropout(0.25))\n",
    "\n",
    "modelConv3D_3.add(Dense(64, activation='relu'))\n",
    "modelConv3D_3.add(BatchNormalization())\n",
    "modelConv3D_3.add(Dropout(0.25))\n",
    "\n",
    "modelConv3D_3.add(Dense(5, activation='softmax'))\n",
    "\n",
    "#write your optimizer\n",
    "optimiser = optimizers.Adam(lr=0.0002)\n",
    "#optimiser = \n",
    "#sgd = optimizers.SGD(lr=0.001, decay=1e-6, momentum=0.7, nesterov=True)\n",
    "\n",
    "# compile model :\n",
    "modelConv3D_3.compile(optimizer=optimiser, loss='categorical_crossentropy', metrics=['categorical_accuracy'])\n",
    "\n",
    "# Print the model summary :\n",
    "print (modelConv3D_3.summary())"
   ]
  },
  {
   "cell_type": "code",
   "execution_count": 73,
   "metadata": {},
   "outputs": [
    {
     "name": "stdout",
     "output_type": "stream",
     "text": [
      "Total Params in model: 288101\n"
     ]
    }
   ],
   "source": [
    "print(\"Total Params in model:\", modelConv3D_3.count_params())"
   ]
  },
  {
   "cell_type": "code",
   "execution_count": 74,
   "metadata": {},
   "outputs": [],
   "source": [
    "train_generator = generator_modified(train_path, train_doc, batch_size)\n",
    "val_generator = generator_modified(val_path, val_doc, batch_size)\n",
    "\n",
    "model_name = 'model_init' + '_' + str(curr_dt_time).replace(' ','').replace(':','_') + '/'\n",
    "    \n",
    "if not os.path.exists(model_name):\n",
    "    os.mkdir(model_name)\n",
    "        \n",
    "filepath = model_name + 'model-{epoch:05d}-{loss:.5f}-{categorical_accuracy:.5f}-{val_loss:.5f}-{val_categorical_accuracy:.5f}.h5'\n",
    "\n",
    "checkpoint = ModelCheckpoint(filepath, monitor='val_loss', verbose=1, save_best_only=True, save_weights_only=False, mode='auto')\n",
    "\n",
    "# write the REducelronplateau code here\n",
    "LR = ReduceLROnPlateau(monitor='val_loss', factor=0.2, patience=4, verbose =1)\n",
    "\n",
    "callbacks_list = [checkpoint, LR]\n",
    "\n",
    "if (num_train_sequences%batch_size) == 0:\n",
    "    steps_per_epoch = int(num_train_sequences/batch_size)\n",
    "else:\n",
    "    steps_per_epoch = (num_train_sequences//batch_size) + 1\n",
    "\n",
    "if (num_val_sequences%batch_size) == 0:\n",
    "    validation_steps = int(num_val_sequences/batch_size)\n",
    "else:\n",
    "    validation_steps = (num_val_sequences//batch_size) + 1"
   ]
  },
  {
   "cell_type": "code",
   "execution_count": 75,
   "metadata": {},
   "outputs": [
    {
     "name": "stdout",
     "output_type": "stream",
     "text": [
      "Source path =  datasets/Project_data/train ; batch size = 30\n",
      "Epoch 1/20\n",
      "23/23 [==============================] - ETA: 0s - loss: 2.1473 - categorical_accuracy: 0.2519Source path =  datasets/Project_data/val ; batch size = 30\n",
      "\n",
      "Epoch 00001: val_loss improved from inf to 1.69356, saving model to model_init_2024-05-0206_53_59.750890/model-00001-2.14726-0.25189-1.69356-0.22000.h5\n",
      "23/23 [==============================] - 38s 2s/step - loss: 2.1473 - categorical_accuracy: 0.2519 - val_loss: 1.6936 - val_categorical_accuracy: 0.2200 - lr: 2.0000e-04\n",
      "Epoch 2/20\n",
      "22/23 [===========================>..] - ETA: 1s - loss: 1.8564 - categorical_accuracy: 0.3227\n",
      "Epoch 00002: val_loss did not improve from 1.69356\n",
      "23/23 [==============================] - 27s 1s/step - loss: 1.8545 - categorical_accuracy: 0.3228 - val_loss: 1.8437 - val_categorical_accuracy: 0.2400 - lr: 2.0000e-04\n",
      "Epoch 3/20\n",
      "23/23 [==============================] - ETA: 0s - loss: 1.6913 - categorical_accuracy: 0.3484\n",
      "Epoch 00003: val_loss did not improve from 1.69356\n",
      "23/23 [==============================] - 25s 1s/step - loss: 1.6913 - categorical_accuracy: 0.3484 - val_loss: 1.9759 - val_categorical_accuracy: 0.1900 - lr: 2.0000e-04\n",
      "Epoch 4/20\n",
      "23/23 [==============================] - ETA: 0s - loss: 1.6953 - categorical_accuracy: 0.3590\n",
      "Epoch 00004: val_loss did not improve from 1.69356\n",
      "23/23 [==============================] - 24s 1s/step - loss: 1.6953 - categorical_accuracy: 0.3590 - val_loss: 2.0215 - val_categorical_accuracy: 0.2100 - lr: 2.0000e-04\n",
      "Epoch 5/20\n",
      "23/23 [==============================] - ETA: 0s - loss: 1.6177 - categorical_accuracy: 0.3982\n",
      "Epoch 00005: val_loss did not improve from 1.69356\n",
      "\n",
      "Epoch 00005: ReduceLROnPlateau reducing learning rate to 3.9999998989515007e-05.\n",
      "23/23 [==============================] - 26s 1s/step - loss: 1.6177 - categorical_accuracy: 0.3982 - val_loss: 2.1727 - val_categorical_accuracy: 0.1900 - lr: 2.0000e-04\n",
      "Epoch 6/20\n",
      "23/23 [==============================] - ETA: 0s - loss: 1.4937 - categorical_accuracy: 0.4223\n",
      "Epoch 00006: val_loss did not improve from 1.69356\n",
      "23/23 [==============================] - 26s 1s/step - loss: 1.4937 - categorical_accuracy: 0.4223 - val_loss: 2.2454 - val_categorical_accuracy: 0.2000 - lr: 4.0000e-05\n",
      "Epoch 7/20\n",
      "22/23 [===========================>..] - ETA: 0s - loss: 1.4863 - categorical_accuracy: 0.4212\n",
      "Epoch 00007: val_loss did not improve from 1.69356\n",
      "23/23 [==============================] - 26s 1s/step - loss: 1.4922 - categorical_accuracy: 0.4208 - val_loss: 2.3993 - val_categorical_accuracy: 0.1700 - lr: 4.0000e-05\n",
      "Epoch 8/20\n",
      "23/23 [==============================] - ETA: 0s - loss: 1.4655 - categorical_accuracy: 0.4314\n",
      "Epoch 00008: val_loss did not improve from 1.69356\n",
      "23/23 [==============================] - 25s 1s/step - loss: 1.4655 - categorical_accuracy: 0.4314 - val_loss: 2.4036 - val_categorical_accuracy: 0.1300 - lr: 4.0000e-05\n",
      "Epoch 9/20\n",
      "22/23 [===========================>..] - ETA: 0s - loss: 1.4934 - categorical_accuracy: 0.4182\n",
      "Epoch 00009: val_loss did not improve from 1.69356\n",
      "\n",
      "Epoch 00009: ReduceLROnPlateau reducing learning rate to 7.999999797903002e-06.\n",
      "23/23 [==============================] - 26s 1s/step - loss: 1.4954 - categorical_accuracy: 0.4163 - val_loss: 2.3500 - val_categorical_accuracy: 0.1600 - lr: 4.0000e-05\n",
      "Epoch 10/20\n",
      "22/23 [===========================>..] - ETA: 0s - loss: 1.4926 - categorical_accuracy: 0.4242\n",
      "Epoch 00010: val_loss did not improve from 1.69356\n",
      "23/23 [==============================] - 25s 1s/step - loss: 1.4925 - categorical_accuracy: 0.4238 - val_loss: 2.2428 - val_categorical_accuracy: 0.1600 - lr: 8.0000e-06\n",
      "Epoch 11/20\n",
      "23/23 [==============================] - ETA: 0s - loss: 1.5109 - categorical_accuracy: 0.4133\n",
      "Epoch 00011: val_loss did not improve from 1.69356\n",
      "23/23 [==============================] - 42s 2s/step - loss: 1.5109 - categorical_accuracy: 0.4133 - val_loss: 2.2766 - val_categorical_accuracy: 0.1800 - lr: 8.0000e-06\n",
      "Epoch 12/20\n",
      "23/23 [==============================] - ETA: 0s - loss: 1.4769 - categorical_accuracy: 0.4163\n",
      "Epoch 00012: val_loss did not improve from 1.69356\n",
      "23/23 [==============================] - 119s 5s/step - loss: 1.4769 - categorical_accuracy: 0.4163 - val_loss: 2.3220 - val_categorical_accuracy: 0.1500 - lr: 8.0000e-06\n",
      "Epoch 13/20\n",
      "23/23 [==============================] - ETA: 0s - loss: 1.4828 - categorical_accuracy: 0.4480\n",
      "Epoch 00013: val_loss did not improve from 1.69356\n",
      "\n",
      "Epoch 00013: ReduceLROnPlateau reducing learning rate to 1.5999999959603884e-06.\n",
      "23/23 [==============================] - 79s 4s/step - loss: 1.4828 - categorical_accuracy: 0.4480 - val_loss: 2.1389 - val_categorical_accuracy: 0.1600 - lr: 8.0000e-06\n",
      "Epoch 14/20\n",
      "23/23 [==============================] - ETA: 0s - loss: 1.4218 - categorical_accuracy: 0.4344\n",
      "Epoch 00014: val_loss did not improve from 1.69356\n",
      "23/23 [==============================] - 25s 1s/step - loss: 1.4218 - categorical_accuracy: 0.4344 - val_loss: 2.0915 - val_categorical_accuracy: 0.1800 - lr: 1.6000e-06\n",
      "Epoch 15/20\n",
      "22/23 [===========================>..] - ETA: 0s - loss: 1.4878 - categorical_accuracy: 0.4015\n",
      "Epoch 00015: val_loss did not improve from 1.69356\n",
      "23/23 [==============================] - 26s 1s/step - loss: 1.4875 - categorical_accuracy: 0.4012 - val_loss: 1.8972 - val_categorical_accuracy: 0.2200 - lr: 1.6000e-06\n",
      "Epoch 16/20\n",
      "22/23 [===========================>..] - ETA: 0s - loss: 1.4457 - categorical_accuracy: 0.4409\n",
      "Epoch 00016: val_loss did not improve from 1.69356\n",
      "23/23 [==============================] - 24s 1s/step - loss: 1.4467 - categorical_accuracy: 0.4404 - val_loss: 1.9227 - val_categorical_accuracy: 0.2500 - lr: 1.6000e-06\n",
      "Epoch 17/20\n",
      "22/23 [===========================>..] - ETA: 0s - loss: 1.4396 - categorical_accuracy: 0.4242\n",
      "Epoch 00017: val_loss did not improve from 1.69356\n",
      "\n",
      "Epoch 00017: ReduceLROnPlateau reducing learning rate to 3.200000037395512e-07.\n",
      "23/23 [==============================] - 25s 1s/step - loss: 1.4406 - categorical_accuracy: 0.4238 - val_loss: 1.8406 - val_categorical_accuracy: 0.3200 - lr: 1.6000e-06\n",
      "Epoch 18/20\n",
      "23/23 [==============================] - ETA: 0s - loss: 1.4211 - categorical_accuracy: 0.4480\n",
      "Epoch 00018: val_loss did not improve from 1.69356\n",
      "23/23 [==============================] - 26s 1s/step - loss: 1.4211 - categorical_accuracy: 0.4480 - val_loss: 1.7216 - val_categorical_accuracy: 0.3200 - lr: 3.2000e-07\n",
      "Epoch 19/20\n",
      "22/23 [===========================>..] - ETA: 1s - loss: 1.4379 - categorical_accuracy: 0.4303\n",
      "Epoch 00019: val_loss improved from 1.69356 to 1.65332, saving model to model_init_2024-05-0206_53_59.750890/model-00019-1.44454-0.42836-1.65332-0.39000.h5\n",
      "23/23 [==============================] - 26s 1s/step - loss: 1.4445 - categorical_accuracy: 0.4284 - val_loss: 1.6533 - val_categorical_accuracy: 0.3900 - lr: 3.2000e-07\n",
      "Epoch 20/20\n",
      "23/23 [==============================] - ETA: 0s - loss: 1.4589 - categorical_accuracy: 0.4299\n",
      "Epoch 00020: val_loss did not improve from 1.65332\n",
      "23/23 [==============================] - 25s 1s/step - loss: 1.4589 - categorical_accuracy: 0.4299 - val_loss: 1.7760 - val_categorical_accuracy: 0.3100 - lr: 3.2000e-07\n"
     ]
    }
   ],
   "source": [
    "history = modelConv3D_3.fit(train_generator, steps_per_epoch=steps_per_epoch, epochs=num_epochs, verbose=1, \n",
    "                    callbacks=callbacks_list, validation_data=val_generator, \n",
    "                    validation_steps=validation_steps, class_weight=None, initial_epoch=0)"
   ]
  },
  {
   "cell_type": "code",
   "execution_count": 76,
   "metadata": {},
   "outputs": [
    {
     "data": {
      "image/png": "[encoded data removed]",
      "text/plain": [
       "<Figure size 432x288 with 1 Axes>"
      ]
     },
     "metadata": {
      "needs_background": "light"
     },
     "output_type": "display_data"
    },
    {
     "data": {
      "image/png": "[encoded data removed]",
      "text/plain": [
       "<Figure size 432x288 with 1 Axes>"
      ]
     },
     "metadata": {
      "needs_background": "light"
     },
     "output_type": "display_data"
    }
   ],
   "source": [
    "# Plotting the result of Model 3 :\n",
    "\n",
    "# summarize history for accuracy\n",
    "plt.plot(history.history['categorical_accuracy'])\n",
    "plt.plot(history.history['val_categorical_accuracy'])\n",
    "plt.title('model accuracy')\n",
    "plt.ylabel('accuracy')\n",
    "plt.xlabel('epoch')\n",
    "plt.legend(['train', 'test'], loc='upper left')\n",
    "plt.show()\n",
    "\n",
    "# summarize history for loss\n",
    "plt.plot(history.history['loss'])\n",
    "plt.plot(history.history['val_loss'])\n",
    "plt.title('model loss')\n",
    "plt.ylabel('loss')\n",
    "plt.xlabel('epoch')\n",
    "plt.legend(['train', 'test'], loc='upper left')\n",
    "plt.show()"
   ]
  },
  {
   "cell_type": "code",
   "execution_count": 77,
   "metadata": {},
   "outputs": [
    {
     "name": "stdout",
     "output_type": "stream",
     "text": [
      "      Model Name  Model Accuracy  Model Loss  Val Accuracy    Val Loss\n",
      "0  modelConv3D_1       44.494721  136.417484     25.999999  219.879627\n",
      "0  modelConv3D_2       38.612369  153.423560     30.000001  178.754282\n",
      "0  modelConv3D_2       38.612369  153.423560     30.000001  178.754282\n",
      "0  modelConv3D_3       42.986426  145.889616     31.000000  177.600634\n"
     ]
    }
   ],
   "source": [
    "df1 = model_result(\"modelConv3D_3\",history.history['categorical_accuracy'][-1], history.history['loss'][-1] , history.history['val_categorical_accuracy'][-1], history.history['val_loss'][-1])\n",
    "\n",
    "model_detail_df = pd.concat([model_detail_df,df1])\n",
    "print(model_detail_df.head(20))"
   ]
  },
  {
   "cell_type": "markdown",
   "metadata": {},
   "source": [
    "# Fourth Model : Conv 3D model \n",
    "## Increase the image size to 100x100, batch size 50, epoch 30"
   ]
  },
  {
   "cell_type": "code",
   "execution_count": 78,
   "metadata": {},
   "outputs": [],
   "source": [
    "train_doc = np.random.permutation(open('datasets/Project_data/train.csv').readlines())\n",
    "val_doc = np.random.permutation(open('datasets/Project_data/val.csv').readlines())"
   ]
  },
  {
   "cell_type": "code",
   "execution_count": 79,
   "metadata": {},
   "outputs": [],
   "source": [
    "def generator(source_path, folder_list, batch_size):\n",
    "    print( 'Source path = ', source_path, '; batch size =', batch_size)\n",
    "    \n",
    "    #create a list of image numbers you want to use for a particular video\n",
    "    img_idx = [1,2,4,6,7,8,10,12,14,16,18,20,21,22,24,26,27,29]\n",
    "    #list(range(0,29,2))\n",
    "    \n",
    "    while True:\n",
    "        t = np.random.permutation(folder_list)\n",
    "        \n",
    "# calculate the number of batches\n",
    "        num_batches = int(len(t)/batch_size)\n",
    "        \n",
    "# we iterate over the number of batches\n",
    "        for batch in range(num_batches): \n",
    "            \n",
    "# x is the number of images you use for each video, (y,z) is the final size of the input images and 3 is the number of channels RGB          \n",
    "            batch_data = np.zeros((batch_size,18,100,100,3))\n",
    "# batch_labels is the one hot representation of the output\n",
    "            batch_labels = np.zeros((batch_size,5))\n",
    "\n",
    "# iterate over the batch_size    \n",
    "            for folder in range(batch_size): \n",
    "# read all the images in the folder        \n",
    "                imgs = os.listdir(source_path+'/'+ t[folder + (batch*batch_size)].split(';')[0]) \n",
    "#  Iterate over the frames/images of a folder to read them in    \n",
    "                for idx,item in enumerate(img_idx):\n",
    "                    image = cv2.imread(source_path+'/'+ t[folder + (batch*batch_size)].strip().split(';')[0]+'/'+imgs[item],cv2.IMREAD_UNCHANGED).astype(np.float32)\n",
    "                    \n",
    "#crop the images and resize them. Note that the images are of 2 different shape \n",
    "#and the conv3D will throw error if the inputs in a batch have different shapes\n",
    "\n",
    "# Cropping image by 10 % of original size :\n",
    "                    image = crop_img(image, 0.02)\n",
    "    \n",
    "# Resizing the image :    \n",
    "                    if image.shape[1] == 160:\n",
    "                        image = cv2.resize(image[:,20:140,:],(100,100),interpolation = cv2.INTER_AREA).astype(np.float32)\n",
    "                    else:\n",
    "                        image = cv2.resize(image,(100,100),interpolation = cv2.INTER_AREA).astype(np.float32)                    \n",
    "                        \n",
    "#normalise and feed in the image\n",
    "\n",
    "                    batch_data[folder,idx,:,:,0] = (image[:,:,0])/255\n",
    "                    batch_data[folder,idx,:,:,1] = (image[:,:,1])/255\n",
    "                    batch_data[folder,idx,:,:,2] = (image[:,:,2])/255\n",
    "                    \n",
    "                batch_labels[folder, int(t[folder + (batch*batch_size)].strip().split(';')[2])] = 1\n",
    "#you yield the batch_data and the batch_labels, remember what does yield do                \n",
    "            yield batch_data, batch_labels \n",
    "\n",
    "        \n",
    "# write the code for the remaining data points which are left after full batches\n",
    "        if (len(t)%batch_size) != 0:\n",
    "            batch_data = np.zeros((len(t)%batch_size,18,100,100,3))\n",
    "            batch_labels = np.zeros((len(t)%batch_size,5))\n",
    "            for folder in range(len(t)%batch_size):\n",
    "                imgs = os.listdir(source_path+'/'+ t[folder + (num_batches*batch_size)].split(';')[0])\n",
    "                for idx,item in enumerate(img_idx):\n",
    "                    image = cv2.imread(source_path+'/'+ t[folder + (num_batches*batch_size)].strip().split(';')[0]+'/'+imgs[item],cv2.IMREAD_UNCHANGED).astype(np.float32)\n",
    "                    \n",
    "# Cropping image by 10 % of original size :\n",
    "                    image = crop_img(image, 0.02)\n",
    "\n",
    "# Resizing the image :\n",
    "                    if image.shape[1] == 160:\n",
    "                        image = cv2.resize(image[:,20:140,:],(100,100),interpolation = cv2.INTER_AREA).astype(np.float32)\n",
    "                    else:\n",
    "                        image = cv2.resize(image,(100,100),interpolation = cv2.INTER_AREA).astype(np.float32)\n",
    "\n",
    "# Perform normalization on images\n",
    "                    batch_data[folder,idx,:,:,0] = (image[:,:,0])/255\n",
    "                    batch_data[folder,idx,:,:,1] = (image[:,:,1])/255\n",
    "                    batch_data[folder,idx,:,:,2] = (image[:,:,2])/255\n",
    "\n",
    "                batch_labels[folder, int(t[folder + (num_batches*batch_size)].strip().split(';')[2])] = 1\n",
    "\n",
    "            yield batch_data, batch_labels\n"
   ]
  },
  {
   "cell_type": "code",
   "execution_count": 80,
   "metadata": {},
   "outputs": [],
   "source": [
    "modelConv3D_4 = Sequential()\n",
    "\n",
    "modelConv3D_4.add(Conv3D(8, \n",
    "                 kernel_size=(3,3,3), \n",
    "                 input_shape=(18,100,100,3),\n",
    "                 padding='same'))\n",
    "modelConv3D_4.add(BatchNormalization())\n",
    "modelConv3D_4.add(Activation('relu'))\n",
    "\n",
    "modelConv3D_4.add(MaxPooling3D(pool_size=(2,2,2)))\n",
    "\n",
    "modelConv3D_4.add(Conv3D(16, \n",
    "                 kernel_size=(3,3,3), \n",
    "                 padding='same'))\n",
    "modelConv3D_4.add(BatchNormalization())\n",
    "modelConv3D_4.add(Activation('relu'))\n",
    "\n",
    "modelConv3D_4.add(MaxPooling3D(pool_size=(2,2,2)))\n",
    "\n",
    "modelConv3D_4.add(Conv3D(32, \n",
    "                 kernel_size=(1,3,3), \n",
    "                 padding='same'))\n",
    "modelConv3D_4.add(BatchNormalization())\n",
    "modelConv3D_4.add(Activation('relu'))\n",
    "\n",
    "modelConv3D_4.add(MaxPooling3D(pool_size=(2,2,2)))\n",
    "\n",
    "modelConv3D_4.add(Conv3D(64, \n",
    "                 kernel_size=(1,3,3), \n",
    "                 padding='same'))\n",
    "modelConv3D_4.add(Activation('relu'))\n",
    "modelConv3D_4.add(Dropout(0.25))\n",
    "\n",
    "modelConv3D_4.add(MaxPooling3D(pool_size=(2,2,2)))\n",
    "\n",
    "#Flatten Layers\n",
    "modelConv3D_4.add(Flatten())\n",
    "\n",
    "modelConv3D_4.add(Dense(256, activation='relu'))\n",
    "modelConv3D_4.add(Dropout(0.25))\n",
    "\n",
    "modelConv3D_4.add(Dense(128, activation='relu'))\n",
    "modelConv3D_4.add(Dropout(0.25))\n",
    "\n",
    "#softmax layer\n",
    "modelConv3D_4.add(Dense(5, activation='softmax'))"
   ]
  },
  {
   "cell_type": "code",
   "execution_count": 82,
   "metadata": {},
   "outputs": [
    {
     "name": "stdout",
     "output_type": "stream",
     "text": [
      "Model: \"sequential_8\"\n",
      "_________________________________________________________________\n",
      " Layer (type)                Output Shape              Param #   \n",
      "=================================================================\n",
      " conv3d_32 (Conv3D)          (None, 18, 100, 100, 8)   656       \n",
      "                                                                 \n",
      " batch_normalization_48 (Bat  (None, 18, 100, 100, 8)  32        \n",
      " chNormalization)                                                \n",
      "                                                                 \n",
      " activation_32 (Activation)  (None, 18, 100, 100, 8)   0         \n",
      "                                                                 \n",
      " max_pooling3d_32 (MaxPoolin  (None, 9, 50, 50, 8)     0         \n",
      " g3D)                                                            \n",
      "                                                                 \n",
      " conv3d_33 (Conv3D)          (None, 9, 50, 50, 16)     3472      \n",
      "                                                                 \n",
      " batch_normalization_49 (Bat  (None, 9, 50, 50, 16)    64        \n",
      " chNormalization)                                                \n",
      "                                                                 \n",
      " activation_33 (Activation)  (None, 9, 50, 50, 16)     0         \n",
      "                                                                 \n",
      " max_pooling3d_33 (MaxPoolin  (None, 4, 25, 25, 16)    0         \n",
      " g3D)                                                            \n",
      "                                                                 \n",
      " conv3d_34 (Conv3D)          (None, 4, 25, 25, 32)     4640      \n",
      "                                                                 \n",
      " batch_normalization_50 (Bat  (None, 4, 25, 25, 32)    128       \n",
      " chNormalization)                                                \n",
      "                                                                 \n",
      " activation_34 (Activation)  (None, 4, 25, 25, 32)     0         \n",
      "                                                                 \n",
      " max_pooling3d_34 (MaxPoolin  (None, 2, 12, 12, 32)    0         \n",
      " g3D)                                                            \n",
      "                                                                 \n",
      " conv3d_35 (Conv3D)          (None, 2, 12, 12, 64)     18496     \n",
      "                                                                 \n",
      " activation_35 (Activation)  (None, 2, 12, 12, 64)     0         \n",
      "                                                                 \n",
      " dropout_16 (Dropout)        (None, 2, 12, 12, 64)     0         \n",
      "                                                                 \n",
      " max_pooling3d_35 (MaxPoolin  (None, 1, 6, 6, 64)      0         \n",
      " g3D)                                                            \n",
      "                                                                 \n",
      " flatten_8 (Flatten)         (None, 2304)              0         \n",
      "                                                                 \n",
      " dense_24 (Dense)            (None, 256)               590080    \n",
      "                                                                 \n",
      " dropout_17 (Dropout)        (None, 256)               0         \n",
      "                                                                 \n",
      " dense_25 (Dense)            (None, 128)               32896     \n",
      "                                                                 \n",
      " dropout_18 (Dropout)        (None, 128)               0         \n",
      "                                                                 \n",
      " dense_26 (Dense)            (None, 5)                 645       \n",
      "                                                                 \n",
      "=================================================================\n",
      "Total params: 651,109\n",
      "Trainable params: 650,997\n",
      "Non-trainable params: 112\n",
      "_________________________________________________________________\n",
      "None\n"
     ]
    }
   ],
   "source": [
    "#write your optimizer\n",
    "optimiser = \"adam\"\n",
    "modelConv3D_4.compile(optimizer=optimiser, loss='categorical_crossentropy', metrics=['categorical_accuracy'])\n",
    "print (modelConv3D_4.summary())"
   ]
  },
  {
   "cell_type": "code",
   "execution_count": 83,
   "metadata": {},
   "outputs": [
    {
     "name": "stdout",
     "output_type": "stream",
     "text": [
      "Total Params in model: 651109\n"
     ]
    }
   ],
   "source": [
    "print(\"Total Params in model:\", modelConv3D_4.count_params())"
   ]
  },
  {
   "cell_type": "code",
   "execution_count": 84,
   "metadata": {},
   "outputs": [
    {
     "name": "stdout",
     "output_type": "stream",
     "text": [
      "# training sequences = 663\n",
      "# validation sequences = 100\n"
     ]
    }
   ],
   "source": [
    "curr_dt_time = datetime.datetime.now()\n",
    "train_path = 'datasets/Project_data/train'\n",
    "val_path = 'datasets/Project_data/val'\n",
    "num_train_sequences = len(train_doc)\n",
    "print('# training sequences =', num_train_sequences)\n",
    "num_val_sequences = len(val_doc)\n",
    "print('# validation sequences =', num_val_sequences)\n",
    "\n",
    "batch_size = 50\n",
    "num_epochs = 30\n",
    "\n",
    "train_generator = generator(train_path, train_doc, batch_size)\n",
    "val_generator = generator(val_path, val_doc, batch_size)"
   ]
  },
  {
   "cell_type": "code",
   "execution_count": 85,
   "metadata": {},
   "outputs": [],
   "source": [
    "model_name = 'model_init' + '_' + str(curr_dt_time).replace(' ','').replace(':','_') + '/'\n",
    "    \n",
    "if not os.path.exists(model_name):\n",
    "    os.mkdir(model_name)\n",
    "        \n",
    "filepath = model_name + 'model-{epoch:05d}-{loss:.5f}-{categorical_accuracy:.5f}-{val_loss:.5f}-{val_categorical_accuracy:.5f}.h5'\n",
    "\n",
    "checkpoint = ModelCheckpoint(filepath, monitor='val_loss', verbose=1, save_best_only=True, save_weights_only=False, mode='auto')\n",
    "\n",
    "# write the Reducelronplateau code here\n",
    "LR = ReduceLROnPlateau(monitor='val_loss', factor=0.4, patience=2, cooldown=1, verbose=1)\n",
    "callbacks_list = [checkpoint, LR]"
   ]
  },
  {
   "cell_type": "code",
   "execution_count": 87,
   "metadata": {},
   "outputs": [
    {
     "name": "stdout",
     "output_type": "stream",
     "text": [
      "Epoch 1/30\n",
      "14/14 [==============================] - ETA: 0s - loss: 1.6232 - categorical_accuracy: 0.2549Source path =  datasets/Project_data/val ; batch size = 50\n",
      "\n",
      "Epoch 00001: val_loss improved from inf to 1.60384, saving model to model_init_2024-05-0207_08_55.566511/model-00001-1.62324-0.25490-1.60384-0.20000.h5\n",
      "14/14 [==============================] - 27s 2s/step - loss: 1.6232 - categorical_accuracy: 0.2549 - val_loss: 1.6038 - val_categorical_accuracy: 0.2000 - lr: 0.0010\n",
      "Epoch 2/30\n",
      "14/14 [==============================] - ETA: 0s - loss: 1.5413 - categorical_accuracy: 0.3017\n",
      "Epoch 00002: val_loss did not improve from 1.60384\n",
      "14/14 [==============================] - 27s 2s/step - loss: 1.5413 - categorical_accuracy: 0.3017 - val_loss: 1.6166 - val_categorical_accuracy: 0.2000 - lr: 0.0010\n",
      "Epoch 3/30\n",
      "14/14 [==============================] - ETA: 0s - loss: 1.4908 - categorical_accuracy: 0.3680\n",
      "Epoch 00003: val_loss did not improve from 1.60384\n",
      "\n",
      "Epoch 00003: ReduceLROnPlateau reducing learning rate to 0.0004000000189989805.\n",
      "14/14 [==============================] - 27s 2s/step - loss: 1.4908 - categorical_accuracy: 0.3680 - val_loss: 1.6228 - val_categorical_accuracy: 0.1800 - lr: 0.0010\n",
      "Epoch 4/30\n",
      "14/14 [==============================] - ETA: 0s - loss: 1.4359 - categorical_accuracy: 0.3725\n",
      "Epoch 00004: val_loss did not improve from 1.60384\n",
      "14/14 [==============================] - 28s 2s/step - loss: 1.4359 - categorical_accuracy: 0.3725 - val_loss: 1.6240 - val_categorical_accuracy: 0.2100 - lr: 4.0000e-04\n",
      "Epoch 5/30\n",
      "14/14 [==============================] - ETA: 0s - loss: 1.4332 - categorical_accuracy: 0.3861\n",
      "Epoch 00005: val_loss did not improve from 1.60384\n",
      "\n",
      "Epoch 00005: ReduceLROnPlateau reducing learning rate to 0.00016000000759959222.\n",
      "14/14 [==============================] - 26s 2s/step - loss: 1.4332 - categorical_accuracy: 0.3861 - val_loss: 1.6309 - val_categorical_accuracy: 0.2000 - lr: 4.0000e-04\n",
      "Epoch 6/30\n",
      "14/14 [==============================] - ETA: 0s - loss: 1.4217 - categorical_accuracy: 0.3906\n",
      "Epoch 00006: val_loss did not improve from 1.60384\n",
      "14/14 [==============================] - 27s 2s/step - loss: 1.4217 - categorical_accuracy: 0.3906 - val_loss: 1.6563 - val_categorical_accuracy: 0.1200 - lr: 1.6000e-04\n",
      "Epoch 7/30\n",
      "14/14 [==============================] - ETA: 0s - loss: 1.4025 - categorical_accuracy: 0.3922\n",
      "Epoch 00007: val_loss did not improve from 1.60384\n",
      "\n",
      "Epoch 00007: ReduceLROnPlateau reducing learning rate to 6.40000042039901e-05.\n",
      "14/14 [==============================] - 27s 2s/step - loss: 1.4025 - categorical_accuracy: 0.3922 - val_loss: 1.6349 - val_categorical_accuracy: 0.1700 - lr: 1.6000e-04\n",
      "Epoch 8/30\n",
      "14/14 [==============================] - ETA: 0s - loss: 1.3703 - categorical_accuracy: 0.4268\n",
      "Epoch 00008: val_loss did not improve from 1.60384\n",
      "14/14 [==============================] - 27s 2s/step - loss: 1.3703 - categorical_accuracy: 0.4268 - val_loss: 1.6475 - val_categorical_accuracy: 0.2400 - lr: 6.4000e-05\n",
      "Epoch 9/30\n",
      "14/14 [==============================] - ETA: 0s - loss: 1.3727 - categorical_accuracy: 0.4238\n",
      "Epoch 00009: val_loss did not improve from 1.60384\n",
      "\n",
      "Epoch 00009: ReduceLROnPlateau reducing learning rate to 2.560000284574926e-05.\n",
      "14/14 [==============================] - 27s 2s/step - loss: 1.3727 - categorical_accuracy: 0.4238 - val_loss: 1.6399 - val_categorical_accuracy: 0.2200 - lr: 6.4000e-05\n",
      "Epoch 10/30\n",
      "14/14 [==============================] - ETA: 0s - loss: 1.3742 - categorical_accuracy: 0.4329\n",
      "Epoch 00010: val_loss did not improve from 1.60384\n",
      "14/14 [==============================] - 27s 2s/step - loss: 1.3742 - categorical_accuracy: 0.4329 - val_loss: 1.6674 - val_categorical_accuracy: 0.1700 - lr: 2.5600e-05\n",
      "Epoch 11/30\n",
      "14/14 [==============================] - ETA: 0s - loss: 1.3341 - categorical_accuracy: 0.4525\n",
      "Epoch 00011: val_loss did not improve from 1.60384\n",
      "\n",
      "Epoch 00011: ReduceLROnPlateau reducing learning rate to 1.0240000847261399e-05.\n",
      "14/14 [==============================] - 27s 2s/step - loss: 1.3341 - categorical_accuracy: 0.4525 - val_loss: 1.6371 - val_categorical_accuracy: 0.2000 - lr: 2.5600e-05\n",
      "Epoch 12/30\n",
      "14/14 [==============================] - ETA: 0s - loss: 1.3555 - categorical_accuracy: 0.4133\n",
      "Epoch 00012: val_loss did not improve from 1.60384\n",
      "14/14 [==============================] - 27s 2s/step - loss: 1.3555 - categorical_accuracy: 0.4133 - val_loss: 1.6322 - val_categorical_accuracy: 0.2200 - lr: 1.0240e-05\n",
      "Epoch 13/30\n",
      "14/14 [==============================] - ETA: 0s - loss: 1.3640 - categorical_accuracy: 0.4465\n",
      "Epoch 00013: val_loss did not improve from 1.60384\n",
      "\n",
      "Epoch 00013: ReduceLROnPlateau reducing learning rate to 4.09600033890456e-06.\n",
      "14/14 [==============================] - 27s 2s/step - loss: 1.3640 - categorical_accuracy: 0.4465 - val_loss: 1.6327 - val_categorical_accuracy: 0.2100 - lr: 1.0240e-05\n",
      "Epoch 14/30\n",
      "14/14 [==============================] - ETA: 0s - loss: 1.3681 - categorical_accuracy: 0.4344\n",
      "Epoch 00014: val_loss did not improve from 1.60384\n",
      "14/14 [==============================] - 26s 2s/step - loss: 1.3681 - categorical_accuracy: 0.4344 - val_loss: 1.6271 - val_categorical_accuracy: 0.1800 - lr: 4.0960e-06\n",
      "Epoch 15/30\n",
      "14/14 [==============================] - ETA: 0s - loss: 1.3442 - categorical_accuracy: 0.4314\n",
      "Epoch 00015: val_loss did not improve from 1.60384\n",
      "\n",
      "Epoch 00015: ReduceLROnPlateau reducing learning rate to 1.6384001355618238e-06.\n",
      "14/14 [==============================] - 27s 2s/step - loss: 1.3442 - categorical_accuracy: 0.4314 - val_loss: 1.6231 - val_categorical_accuracy: 0.2200 - lr: 4.0960e-06\n",
      "Epoch 16/30\n",
      "14/14 [==============================] - ETA: 0s - loss: 1.3348 - categorical_accuracy: 0.4449\n",
      "Epoch 00016: val_loss did not improve from 1.60384\n",
      "14/14 [==============================] - 27s 2s/step - loss: 1.3348 - categorical_accuracy: 0.4449 - val_loss: 1.6373 - val_categorical_accuracy: 0.2300 - lr: 1.6384e-06\n",
      "Epoch 17/30\n",
      "14/14 [==============================] - ETA: 0s - loss: 1.3477 - categorical_accuracy: 0.4389\n",
      "Epoch 00017: val_loss did not improve from 1.60384\n",
      "\n",
      "Epoch 00017: ReduceLROnPlateau reducing learning rate to 6.553600542247295e-07.\n",
      "14/14 [==============================] - 27s 2s/step - loss: 1.3477 - categorical_accuracy: 0.4389 - val_loss: 1.6092 - val_categorical_accuracy: 0.2400 - lr: 1.6384e-06\n",
      "Epoch 18/30\n",
      "14/14 [==============================] - ETA: 0s - loss: 1.3569 - categorical_accuracy: 0.4148\n",
      "Epoch 00018: val_loss improved from 1.60384 to 1.58677, saving model to model_init_2024-05-0207_08_55.566511/model-00018-1.35694-0.41478-1.58677-0.28000.h5\n",
      "14/14 [==============================] - 27s 2s/step - loss: 1.3569 - categorical_accuracy: 0.4148 - val_loss: 1.5868 - val_categorical_accuracy: 0.2800 - lr: 6.5536e-07\n",
      "Epoch 19/30\n",
      "14/14 [==============================] - ETA: 0s - loss: 1.3510 - categorical_accuracy: 0.4434\n",
      "Epoch 00019: val_loss did not improve from 1.58677\n",
      "14/14 [==============================] - 26s 2s/step - loss: 1.3510 - categorical_accuracy: 0.4434 - val_loss: 1.5899 - val_categorical_accuracy: 0.2600 - lr: 6.5536e-07\n",
      "Epoch 20/30\n",
      "14/14 [==============================] - ETA: 0s - loss: 1.3777 - categorical_accuracy: 0.4072\n",
      "Epoch 00020: val_loss improved from 1.58677 to 1.56333, saving model to model_init_2024-05-0207_08_55.566511/model-00020-1.37771-0.40724-1.56333-0.28000.h5\n",
      "14/14 [==============================] - 27s 2s/step - loss: 1.3777 - categorical_accuracy: 0.4072 - val_loss: 1.5633 - val_categorical_accuracy: 0.2800 - lr: 6.5536e-07\n",
      "Epoch 21/30\n",
      "14/14 [==============================] - ETA: 0s - loss: 1.3338 - categorical_accuracy: 0.4465\n",
      "Epoch 00021: val_loss did not improve from 1.56333\n",
      "14/14 [==============================] - 28s 2s/step - loss: 1.3338 - categorical_accuracy: 0.4465 - val_loss: 1.5655 - val_categorical_accuracy: 0.2900 - lr: 6.5536e-07\n",
      "Epoch 22/30\n",
      "14/14 [==============================] - ETA: 0s - loss: 1.3494 - categorical_accuracy: 0.4389\n",
      "Epoch 00022: val_loss improved from 1.56333 to 1.53129, saving model to model_init_2024-05-0207_08_55.566511/model-00022-1.34943-0.43891-1.53129-0.33000.h5\n",
      "14/14 [==============================] - 27s 2s/step - loss: 1.3494 - categorical_accuracy: 0.4389 - val_loss: 1.5313 - val_categorical_accuracy: 0.3300 - lr: 6.5536e-07\n",
      "Epoch 23/30\n",
      "14/14 [==============================] - ETA: 0s - loss: 1.3384 - categorical_accuracy: 0.4540\n",
      "Epoch 00023: val_loss did not improve from 1.53129\n",
      "14/14 [==============================] - 27s 2s/step - loss: 1.3384 - categorical_accuracy: 0.4540 - val_loss: 1.5424 - val_categorical_accuracy: 0.3200 - lr: 6.5536e-07\n",
      "Epoch 24/30\n",
      "14/14 [==============================] - ETA: 0s - loss: 1.3592 - categorical_accuracy: 0.4163\n",
      "Epoch 00024: val_loss did not improve from 1.53129\n",
      "\n",
      "Epoch 00024: ReduceLROnPlateau reducing learning rate to 2.6214402168989184e-07.\n",
      "14/14 [==============================] - 27s 2s/step - loss: 1.3592 - categorical_accuracy: 0.4163 - val_loss: 1.5339 - val_categorical_accuracy: 0.3200 - lr: 6.5536e-07\n",
      "Epoch 25/30\n",
      "14/14 [==============================] - ETA: 0s - loss: 1.3818 - categorical_accuracy: 0.4238\n",
      "Epoch 00025: val_loss improved from 1.53129 to 1.51870, saving model to model_init_2024-05-0207_08_55.566511/model-00025-1.38184-0.42383-1.51870-0.33000.h5\n",
      "14/14 [==============================] - 27s 2s/step - loss: 1.3818 - categorical_accuracy: 0.4238 - val_loss: 1.5187 - val_categorical_accuracy: 0.3300 - lr: 2.6214e-07\n",
      "Epoch 26/30\n",
      "14/14 [==============================] - ETA: 0s - loss: 1.3113 - categorical_accuracy: 0.4525\n",
      "Epoch 00026: val_loss improved from 1.51870 to 1.51561, saving model to model_init_2024-05-0207_08_55.566511/model-00026-1.31126-0.45249-1.51561-0.37000.h5\n",
      "14/14 [==============================] - 27s 2s/step - loss: 1.3113 - categorical_accuracy: 0.4525 - val_loss: 1.5156 - val_categorical_accuracy: 0.3700 - lr: 2.6214e-07\n",
      "Epoch 27/30\n",
      "14/14 [==============================] - ETA: 0s - loss: 1.3590 - categorical_accuracy: 0.4238\n",
      "Epoch 00027: val_loss improved from 1.51561 to 1.49621, saving model to model_init_2024-05-0207_08_55.566511/model-00027-1.35901-0.42383-1.49621-0.33000.h5\n",
      "14/14 [==============================] - 27s 2s/step - loss: 1.3590 - categorical_accuracy: 0.4238 - val_loss: 1.4962 - val_categorical_accuracy: 0.3300 - lr: 2.6214e-07\n",
      "Epoch 28/30\n",
      "14/14 [==============================] - ETA: 0s - loss: 1.3255 - categorical_accuracy: 0.4359\n",
      "Epoch 00028: val_loss improved from 1.49621 to 1.47932, saving model to model_init_2024-05-0207_08_55.566511/model-00028-1.32546-0.43590-1.47932-0.30000.h5\n",
      "14/14 [==============================] - 27s 2s/step - loss: 1.3255 - categorical_accuracy: 0.4359 - val_loss: 1.4793 - val_categorical_accuracy: 0.3000 - lr: 2.6214e-07\n",
      "Epoch 29/30\n",
      "14/14 [==============================] - ETA: 0s - loss: 1.3613 - categorical_accuracy: 0.4103\n",
      "Epoch 00029: val_loss improved from 1.47932 to 1.47586, saving model to model_init_2024-05-0207_08_55.566511/model-00029-1.36128-0.41026-1.47586-0.32000.h5\n",
      "14/14 [==============================] - 27s 2s/step - loss: 1.3613 - categorical_accuracy: 0.4103 - val_loss: 1.4759 - val_categorical_accuracy: 0.3200 - lr: 2.6214e-07\n",
      "Epoch 30/30\n",
      "14/14 [==============================] - ETA: 0s - loss: 1.3493 - categorical_accuracy: 0.4525\n",
      "Epoch 00030: val_loss improved from 1.47586 to 1.41791, saving model to model_init_2024-05-0207_08_55.566511/model-00030-1.34927-0.45249-1.41791-0.36000.h5\n",
      "14/14 [==============================] - 27s 2s/step - loss: 1.3493 - categorical_accuracy: 0.4525 - val_loss: 1.4179 - val_categorical_accuracy: 0.3600 - lr: 2.6214e-07\n"
     ]
    }
   ],
   "source": [
    "if (num_train_sequences%batch_size) == 0:\n",
    "    steps_per_epoch = int(num_train_sequences/batch_size)\n",
    "else:\n",
    "    steps_per_epoch = (num_train_sequences//batch_size) + 1\n",
    "\n",
    "if (num_val_sequences%batch_size) == 0:\n",
    "    validation_steps = int(num_val_sequences/batch_size)\n",
    "else:\n",
    "    validation_steps = (num_val_sequences//batch_size) + 1\n",
    "    \n",
    "history = modelConv3D_4.fit(train_generator, steps_per_epoch=steps_per_epoch, epochs=num_epochs, verbose=1, \n",
    "                    callbacks=callbacks_list, validation_data=val_generator, \n",
    "                    validation_steps=validation_steps, class_weight=None, initial_epoch=0)\n"
   ]
  },
  {
   "cell_type": "code",
   "execution_count": 89,
   "metadata": {},
   "outputs": [
    {
     "data": {
      "image/png": "[encoded data removed]",
      "text/plain": [
       "<Figure size 432x288 with 1 Axes>"
      ]
     },
     "metadata": {
      "needs_background": "light"
     },
     "output_type": "display_data"
    },
    {
     "data": {
      "image/png": "[encoded data removed]",
      "text/plain": [
       "<Figure size 432x288 with 1 Axes>"
      ]
     },
     "metadata": {
      "needs_background": "light"
     },
     "output_type": "display_data"
    }
   ],
   "source": [
    "# Plotting the result of Model 4 :\n",
    "\n",
    "# summarize history for accuracy\n",
    "plt.plot(history.history['categorical_accuracy'])\n",
    "plt.plot(history.history['val_categorical_accuracy'])\n",
    "plt.title('model accuracy')\n",
    "plt.ylabel('accuracy')\n",
    "plt.xlabel('epoch')\n",
    "plt.legend(['train', 'test'], loc='upper left')\n",
    "plt.show()\n",
    "\n",
    "# summarize history for loss\n",
    "plt.plot(history.history['loss'])\n",
    "plt.plot(history.history['val_loss'])\n",
    "plt.title('model loss')\n",
    "plt.ylabel('loss')\n",
    "plt.xlabel('epoch')\n",
    "plt.legend(['train', 'test'], loc='upper left')\n",
    "plt.show()"
   ]
  },
  {
   "cell_type": "code",
   "execution_count": 90,
   "metadata": {},
   "outputs": [
    {
     "name": "stdout",
     "output_type": "stream",
     "text": [
      "      Model Name  Model Accuracy  Model Loss  Val Accuracy    Val Loss\n",
      "0  modelConv3D_1       44.494721  136.417484     25.999999  219.879627\n",
      "0  modelConv3D_2       38.612369  153.423560     30.000001  178.754282\n",
      "0  modelConv3D_2       38.612369  153.423560     30.000001  178.754282\n",
      "0  modelConv3D_3       42.986426  145.889616     31.000000  177.600634\n",
      "0  modelConv3D_4       45.248869  134.927368     36.000001  141.790569\n"
     ]
    }
   ],
   "source": [
    "df1 = model_result(\"modelConv3D_4\",history.history['categorical_accuracy'][-1], history.history['loss'][-1] , history.history['val_categorical_accuracy'][-1], history.history['val_loss'][-1])\n",
    "\n",
    "model_detail_df = pd.concat([model_detail_df,df1])\n",
    "print(model_detail_df.head(20))"
   ]
  },
  {
   "cell_type": "markdown",
   "metadata": {},
   "source": [
    "# Model 5 : Conv 3D model\n",
    "\n",
    "## batch size 30, increased image inputs to 30 , image size recuced to 84"
   ]
  },
  {
   "cell_type": "code",
   "execution_count": 91,
   "metadata": {},
   "outputs": [],
   "source": [
    "batch_size = 30"
   ]
  },
  {
   "cell_type": "code",
   "execution_count": 92,
   "metadata": {},
   "outputs": [],
   "source": [
    "def generator(source_path, folder_list, batch_size):\n",
    "    print( 'Source path = ', source_path, '; batch size =', batch_size)\n",
    "    \n",
    "    #create a list of image numbers you want to use for a particular video\n",
    "    img_idx = [x for x in range(0, 30)] \n",
    "    #list(range(0,29,2))\n",
    "    \n",
    "    while True:\n",
    "        t = np.random.permutation(folder_list)\n",
    "        \n",
    "# calculate the number of batches\n",
    "        num_batches = int(len(t)/batch_size)\n",
    "        \n",
    "# we iterate over the number of batches\n",
    "        for batch in range(num_batches): \n",
    "            \n",
    "# x is the number of images you use for each video, (y,z) is the final size of the input images and 3 is the number of channels RGB          \n",
    "            batch_data = np.zeros((batch_size,30,84,84,3))\n",
    "# batch_labels is the one hot representation of the output\n",
    "            batch_labels = np.zeros((batch_size,5))\n",
    "\n",
    "# iterate over the batch_size    \n",
    "            for folder in range(batch_size): \n",
    "# read all the images in the folder        \n",
    "                imgs = os.listdir(source_path+'/'+ t[folder + (batch*batch_size)].split(';')[0]) \n",
    "#  Iterate over the frames/images of a folder to read them in    \n",
    "                for idx,item in enumerate(img_idx):\n",
    "                    image = cv2.imread(source_path+'/'+ t[folder + (batch*batch_size)].strip().split(';')[0]+'/'+imgs[item],cv2.IMREAD_UNCHANGED).astype(np.float32)\n",
    "                    \n",
    "#crop the images and resize them. Note that the images are of 2 different shape \n",
    "#and the conv3D will throw error if the inputs in a batch have different shapes\n",
    "                    if image.shape[1] == 160:\n",
    "                        image = cv2.resize(image[:,20:140,:],(84,84),interpolation = cv2.INTER_AREA).astype(np.float32)\n",
    "                    else:\n",
    "                        image = cv2.resize(image,(84,84),interpolation = cv2.INTER_AREA).astype(np.float32)\n",
    "                                \n",
    "#normalise and feed in the image\n",
    "\n",
    "                    batch_data[folder,idx,:,:,0] = (image[:,:,0])/255\n",
    "                    batch_data[folder,idx,:,:,1] = (image[:,:,1])/255\n",
    "                    batch_data[folder,idx,:,:,2] = (image[:,:,2])/255\n",
    "                    \n",
    "                batch_labels[folder, int(t[folder + (batch*batch_size)].strip().split(';')[2])] = 1\n",
    "#you yield the batch_data and the batch_labels, remember what does yield do                \n",
    "            yield batch_data, batch_labels \n",
    "\n",
    "        \n",
    "# write the code for the remaining data points which are left after full batches\n",
    "        if (len(t)%batch_size) != 0:\n",
    "            batch_data = np.zeros((len(t)%batch_size,30,84,84,3))\n",
    "            batch_labels = np.zeros((len(t)%batch_size,5))\n",
    "            for folder in range(len(t)%batch_size):\n",
    "                imgs = os.listdir(source_path+'/'+ t[folder + (num_batches*batch_size)].split(';')[0])\n",
    "                for idx,item in enumerate(img_idx):\n",
    "                    image = cv2.imread(source_path+'/'+ t[folder + (num_batches*batch_size)].strip().split(';')[0]+'/'+imgs[item],cv2.IMREAD_UNCHANGED).astype(np.float32)\n",
    "                    if image.shape[1] == 160:\n",
    "                        image = cv2.resize(image[:,20:140,:],(84,84),interpolation = cv2.INTER_AREA).astype(np.float32)\n",
    "                    else:\n",
    "                        image = cv2.resize(image,(84,84),interpolation = cv2.INTER_AREA).astype(np.float32)\n",
    "\n",
    "                    batch_data[folder,idx,:,:,0] = (image[:,:,0])/255\n",
    "                    batch_data[folder,idx,:,:,1] = (image[:,:,1])/255\n",
    "                    batch_data[folder,idx,:,:,2] = (image[:,:,2])/255\n",
    "\n",
    "                batch_labels[folder, int(t[folder + (num_batches*batch_size)].strip().split(';')[2])] = 1\n",
    "\n",
    "            yield batch_data, batch_labels"
   ]
  },
  {
   "cell_type": "code",
   "execution_count": 93,
   "metadata": {},
   "outputs": [
    {
     "name": "stdout",
     "output_type": "stream",
     "text": [
      "# training sequences = 663\n",
      "# validation sequences = 100\n",
      "# epochs = 30\n"
     ]
    }
   ],
   "source": [
    "curr_dt_time = datetime.datetime.now()\n",
    "train_path = 'datasets/Project_data/train'\n",
    "val_path = 'datasets/Project_data/val'\n",
    "num_train_sequences = len(train_doc)\n",
    "print('# training sequences =', num_train_sequences)\n",
    "num_val_sequences = len(val_doc)\n",
    "print('# validation sequences =', num_val_sequences)\n",
    "# choose the number of epochs\n",
    "num_epochs = 30\n",
    "print ('# epochs =', num_epochs)"
   ]
  },
  {
   "cell_type": "code",
   "execution_count": 95,
   "metadata": {},
   "outputs": [
    {
     "name": "stdout",
     "output_type": "stream",
     "text": [
      "Model: \"sequential_10\"\n",
      "_________________________________________________________________\n",
      " Layer (type)                Output Shape              Param #   \n",
      "=================================================================\n",
      " conv3d_40 (Conv3D)          (None, 30, 84, 84, 8)     656       \n",
      "                                                                 \n",
      " activation_40 (Activation)  (None, 30, 84, 84, 8)     0         \n",
      "                                                                 \n",
      " batch_normalization_57 (Bat  (None, 30, 84, 84, 8)    32        \n",
      " chNormalization)                                                \n",
      "                                                                 \n",
      " max_pooling3d_40 (MaxPoolin  (None, 15, 42, 42, 8)    0         \n",
      " g3D)                                                            \n",
      "                                                                 \n",
      " conv3d_41 (Conv3D)          (None, 15, 42, 42, 16)    3472      \n",
      "                                                                 \n",
      " activation_41 (Activation)  (None, 15, 42, 42, 16)    0         \n",
      "                                                                 \n",
      " batch_normalization_58 (Bat  (None, 15, 42, 42, 16)   64        \n",
      " chNormalization)                                                \n",
      "                                                                 \n",
      " max_pooling3d_41 (MaxPoolin  (None, 7, 21, 21, 16)    0         \n",
      " g3D)                                                            \n",
      "                                                                 \n",
      " conv3d_42 (Conv3D)          (None, 7, 21, 21, 32)     13856     \n",
      "                                                                 \n",
      " batch_normalization_59 (Bat  (None, 7, 21, 21, 32)    128       \n",
      " chNormalization)                                                \n",
      "                                                                 \n",
      " activation_42 (Activation)  (None, 7, 21, 21, 32)     0         \n",
      "                                                                 \n",
      " max_pooling3d_42 (MaxPoolin  (None, 3, 10, 10, 32)    0         \n",
      " g3D)                                                            \n",
      "                                                                 \n",
      " conv3d_43 (Conv3D)          (None, 3, 10, 10, 64)     55360     \n",
      "                                                                 \n",
      " activation_43 (Activation)  (None, 3, 10, 10, 64)     0         \n",
      "                                                                 \n",
      " batch_normalization_60 (Bat  (None, 3, 10, 10, 64)    256       \n",
      " chNormalization)                                                \n",
      "                                                                 \n",
      " max_pooling3d_43 (MaxPoolin  (None, 1, 5, 5, 64)      0         \n",
      " g3D)                                                            \n",
      "                                                                 \n",
      " flatten_10 (Flatten)        (None, 1600)              0         \n",
      "                                                                 \n",
      " dense_30 (Dense)            (None, 64)                102464    \n",
      "                                                                 \n",
      " batch_normalization_61 (Bat  (None, 64)               256       \n",
      " chNormalization)                                                \n",
      "                                                                 \n",
      " dropout_21 (Dropout)        (None, 64)                0         \n",
      "                                                                 \n",
      " dense_31 (Dense)            (None, 64)                4160      \n",
      "                                                                 \n",
      " batch_normalization_62 (Bat  (None, 64)               256       \n",
      " chNormalization)                                                \n",
      "                                                                 \n",
      " dropout_22 (Dropout)        (None, 64)                0         \n",
      "                                                                 \n",
      " dense_32 (Dense)            (None, 5)                 325       \n",
      "                                                                 \n",
      "=================================================================\n",
      "Total params: 181,285\n",
      "Trainable params: 180,789\n",
      "Non-trainable params: 496\n",
      "_________________________________________________________________\n",
      "None\n"
     ]
    }
   ],
   "source": [
    "\n",
    "#write your model here\n",
    "\n",
    "modelConv3D_5 = Sequential()\n",
    "\n",
    "modelConv3D_5.add(Conv3D(8, (3,3,3), padding='same', input_shape=(30,84,84,3)))\n",
    "modelConv3D_5.add(Activation('relu'))\n",
    "modelConv3D_5.add(BatchNormalization())\n",
    "modelConv3D_5.add(MaxPooling3D(pool_size=(2,2,2)))\n",
    "\n",
    "#modelConv3D_5.add(Dropout(0.25))\n",
    "\n",
    "modelConv3D_5.add(Conv3D(16, (3,3,3), padding='same'))\n",
    "modelConv3D_5.add(Activation('relu'))\n",
    "modelConv3D_5.add(BatchNormalization())\n",
    "modelConv3D_5.add(MaxPooling3D(pool_size=(2,2,2)))\n",
    "\n",
    "#modelConv3D_5.add(Dropout(0.25))\n",
    "\n",
    "modelConv3D_5.add(Conv3D(32, (3,3,3), padding='same'))\n",
    "modelConv3D_5.add(BatchNormalization())\n",
    "modelConv3D_5.add(Activation('relu'))\n",
    "modelConv3D_5.add(MaxPooling3D(pool_size=(2,2,2)))\n",
    "\n",
    "#modelConv3D_5.add(Dropout(0.25))\n",
    "\n",
    "modelConv3D_5.add(Conv3D(64, (3,3,3), padding='same'))\n",
    "modelConv3D_5.add(Activation('relu'))\n",
    "modelConv3D_5.add(BatchNormalization())\n",
    "modelConv3D_5.add(MaxPooling3D(pool_size=(2,2,2)))\n",
    "\n",
    "#modelConv3D_5.add(Dropout(0.25))\n",
    "\n",
    "modelConv3D_5.add(Flatten())\n",
    "modelConv3D_5.add(Dense(64, activation='relu'))\n",
    "modelConv3D_5.add(BatchNormalization())\n",
    "modelConv3D_5.add(Dropout(0.25))\n",
    "\n",
    "modelConv3D_5.add(Dense(64, activation='relu'))\n",
    "modelConv3D_5.add(BatchNormalization())\n",
    "modelConv3D_5.add(Dropout(0.25))\n",
    "\n",
    "modelConv3D_5.add(Dense(5, activation='softmax'))\n",
    "\n",
    "#write your optimizer\n",
    "optimiser = optimizers.Adam(lr=0.0002)\n",
    "#optimiser = \n",
    "#sgd = optimizers.SGD(lr=0.001, decay=1e-6, momentum=0.7, nesterov=True)\n",
    "\n",
    "# compile model :\n",
    "modelConv3D_5.compile(optimizer=optimiser, loss='categorical_crossentropy', metrics=['categorical_accuracy'])\n",
    "print (modelConv3D_5.summary())"
   ]
  },
  {
   "cell_type": "code",
   "execution_count": 96,
   "metadata": {},
   "outputs": [
    {
     "name": "stdout",
     "output_type": "stream",
     "text": [
      "Total Params in model: 181285\n"
     ]
    }
   ],
   "source": [
    "print(\"Total Params in model:\", modelConv3D_5.count_params())"
   ]
  },
  {
   "cell_type": "code",
   "execution_count": 98,
   "metadata": {},
   "outputs": [],
   "source": [
    "train_generator = generator(train_path, train_doc, batch_size)\n",
    "val_generator = generator(val_path, val_doc, batch_size)\n",
    "\n",
    "model_name = 'model_init' + '_' + str(curr_dt_time).replace(' ','').replace(':','_') + '/'\n",
    "    \n",
    "if not os.path.exists(model_name):\n",
    "    os.mkdir(model_name)\n",
    "        \n",
    "filepath = model_name + 'model-{epoch:05d}-{loss:.5f}-{categorical_accuracy:.5f}-{val_loss:.5f}-{val_categorical_accuracy:.5f}.h5'\n",
    "\n",
    "checkpoint = ModelCheckpoint(filepath, monitor='val_loss', verbose=1, save_best_only=True, save_weights_only=False, mode='auto')\n",
    "\n",
    "# write the REducelronplateau code here\n",
    "LR = ReduceLROnPlateau(monitor='val_loss', factor=0.2, patience=4)\n",
    "\n",
    "callbacks_list = [checkpoint, LR]\n",
    "\n",
    "if (num_train_sequences%batch_size) == 0:\n",
    "    steps_per_epoch = int(num_train_sequences/batch_size)\n",
    "else:\n",
    "    steps_per_epoch = (num_train_sequences//batch_size) + 1\n",
    "\n",
    "if (num_val_sequences%batch_size) == 0:\n",
    "    validation_steps = int(num_val_sequences/batch_size)\n",
    "else:\n",
    "    validation_steps = (num_val_sequences//batch_size) + 1"
   ]
  },
  {
   "cell_type": "code",
   "execution_count": 99,
   "metadata": {},
   "outputs": [
    {
     "name": "stdout",
     "output_type": "stream",
     "text": [
      "Source path =  datasets/Project_data/train ; batch size = 30\n",
      "Epoch 1/30\n",
      "23/23 [==============================] - ETA: 0s - loss: 2.1996 - categorical_accuracy: 0.2504Source path =  datasets/Project_data/val ; batch size = 30\n",
      "\n",
      "Epoch 00001: val_loss improved from inf to 1.62823, saving model to model_init_2024-05-0207_29_12.960563/model-00001-2.19965-0.25038-1.62823-0.21000.h5\n",
      "23/23 [==============================] - 49s 2s/step - loss: 2.1996 - categorical_accuracy: 0.2504 - val_loss: 1.6282 - val_categorical_accuracy: 0.2100 - lr: 2.0000e-04\n",
      "Epoch 2/30\n",
      "23/23 [==============================] - ETA: 0s - loss: 1.6578 - categorical_accuracy: 0.4178\n",
      "Epoch 00002: val_loss did not improve from 1.62823\n",
      "23/23 [==============================] - 47s 2s/step - loss: 1.6578 - categorical_accuracy: 0.4178 - val_loss: 1.7394 - val_categorical_accuracy: 0.2000 - lr: 2.0000e-04\n",
      "Epoch 3/30\n",
      "23/23 [==============================] - ETA: 0s - loss: 1.4578 - categorical_accuracy: 0.4661\n",
      "Epoch 00003: val_loss did not improve from 1.62823\n",
      "23/23 [==============================] - 47s 2s/step - loss: 1.4578 - categorical_accuracy: 0.4661 - val_loss: 1.9473 - val_categorical_accuracy: 0.1700 - lr: 2.0000e-04\n",
      "Epoch 4/30\n",
      "22/23 [===========================>..] - ETA: 1s - loss: 1.2536 - categorical_accuracy: 0.5182\n",
      "Epoch 00004: val_loss did not improve from 1.62823\n",
      "23/23 [==============================] - 45s 2s/step - loss: 1.2665 - categorical_accuracy: 0.5158 - val_loss: 2.0335 - val_categorical_accuracy: 0.2400 - lr: 2.0000e-04\n",
      "Epoch 5/30\n",
      "23/23 [==============================] - ETA: 0s - loss: 1.1662 - categorical_accuracy: 0.5354\n",
      "Epoch 00005: val_loss did not improve from 1.62823\n",
      "23/23 [==============================] - 47s 2s/step - loss: 1.1662 - categorical_accuracy: 0.5354 - val_loss: 2.4014 - val_categorical_accuracy: 0.2100 - lr: 2.0000e-04\n",
      "Epoch 6/30\n",
      "22/23 [===========================>..] - ETA: 1s - loss: 1.1923 - categorical_accuracy: 0.5470\n",
      "Epoch 00006: val_loss did not improve from 1.62823\n",
      "23/23 [==============================] - 47s 2s/step - loss: 1.1933 - categorical_accuracy: 0.5460 - val_loss: 2.5928 - val_categorical_accuracy: 0.2600 - lr: 4.0000e-05\n",
      "Epoch 7/30\n",
      "22/23 [===========================>..] - ETA: 1s - loss: 1.1268 - categorical_accuracy: 0.5652\n",
      "Epoch 00007: val_loss did not improve from 1.62823\n",
      "23/23 [==============================] - 48s 2s/step - loss: 1.1257 - categorical_accuracy: 0.5656 - val_loss: 2.9265 - val_categorical_accuracy: 0.1700 - lr: 4.0000e-05\n",
      "Epoch 8/30\n",
      "22/23 [===========================>..] - ETA: 1s - loss: 1.0742 - categorical_accuracy: 0.5879\n",
      "Epoch 00008: val_loss did not improve from 1.62823\n",
      "23/23 [==============================] - 46s 2s/step - loss: 1.0827 - categorical_accuracy: 0.5867 - val_loss: 3.1265 - val_categorical_accuracy: 0.2200 - lr: 4.0000e-05\n",
      "Epoch 9/30\n",
      "23/23 [==============================] - ETA: 0s - loss: 1.0893 - categorical_accuracy: 0.5701\n",
      "Epoch 00009: val_loss did not improve from 1.62823\n",
      "23/23 [==============================] - 48s 2s/step - loss: 1.0893 - categorical_accuracy: 0.5701 - val_loss: 3.2722 - val_categorical_accuracy: 0.2100 - lr: 4.0000e-05\n",
      "Epoch 10/30\n",
      "22/23 [===========================>..] - ETA: 1s - loss: 0.9383 - categorical_accuracy: 0.6288\n",
      "Epoch 00010: val_loss did not improve from 1.62823\n",
      "23/23 [==============================] - 47s 2s/step - loss: 0.9360 - categorical_accuracy: 0.6305 - val_loss: 3.4064 - val_categorical_accuracy: 0.2100 - lr: 8.0000e-06\n",
      "Epoch 11/30\n",
      "23/23 [==============================] - ETA: 0s - loss: 1.0326 - categorical_accuracy: 0.5913\n",
      "Epoch 00011: val_loss did not improve from 1.62823\n",
      "23/23 [==============================] - 48s 2s/step - loss: 1.0326 - categorical_accuracy: 0.5913 - val_loss: 3.2381 - val_categorical_accuracy: 0.2100 - lr: 8.0000e-06\n",
      "Epoch 12/30\n",
      "23/23 [==============================] - ETA: 0s - loss: 1.0626 - categorical_accuracy: 0.5777\n",
      "Epoch 00012: val_loss did not improve from 1.62823\n",
      "23/23 [==============================] - 46s 2s/step - loss: 1.0626 - categorical_accuracy: 0.5777 - val_loss: 3.2781 - val_categorical_accuracy: 0.2300 - lr: 8.0000e-06\n",
      "Epoch 13/30\n",
      "23/23 [==============================] - ETA: 0s - loss: 0.9424 - categorical_accuracy: 0.6229\n",
      "Epoch 00013: val_loss did not improve from 1.62823\n",
      "23/23 [==============================] - 48s 2s/step - loss: 0.9424 - categorical_accuracy: 0.6229 - val_loss: 3.2629 - val_categorical_accuracy: 0.2100 - lr: 8.0000e-06\n",
      "Epoch 14/30\n",
      "22/23 [===========================>..] - ETA: 1s - loss: 0.9926 - categorical_accuracy: 0.6197\n",
      "Epoch 00014: val_loss did not improve from 1.62823\n",
      "23/23 [==============================] - 48s 2s/step - loss: 0.9947 - categorical_accuracy: 0.6184 - val_loss: 3.0817 - val_categorical_accuracy: 0.2100 - lr: 1.6000e-06\n",
      "Epoch 15/30\n",
      "22/23 [===========================>..] - ETA: 1s - loss: 1.0145 - categorical_accuracy: 0.6258\n",
      "Epoch 00015: val_loss did not improve from 1.62823\n",
      "23/23 [==============================] - 47s 2s/step - loss: 1.0191 - categorical_accuracy: 0.6229 - val_loss: 3.1737 - val_categorical_accuracy: 0.1800 - lr: 1.6000e-06\n",
      "Epoch 16/30\n",
      "22/23 [===========================>..] - ETA: 1s - loss: 1.0124 - categorical_accuracy: 0.6136\n",
      "Epoch 00016: val_loss did not improve from 1.62823\n",
      "23/23 [==============================] - 45s 2s/step - loss: 1.0138 - categorical_accuracy: 0.6139 - val_loss: 2.8946 - val_categorical_accuracy: 0.2400 - lr: 1.6000e-06\n",
      "Epoch 17/30\n",
      "22/23 [===========================>..] - ETA: 1s - loss: 0.9274 - categorical_accuracy: 0.6273\n",
      "Epoch 00017: val_loss did not improve from 1.62823\n",
      "23/23 [==============================] - 47s 2s/step - loss: 0.9384 - categorical_accuracy: 0.6244 - val_loss: 2.7594 - val_categorical_accuracy: 0.2200 - lr: 1.6000e-06\n",
      "Epoch 18/30\n",
      "23/23 [==============================] - ETA: 0s - loss: 0.9575 - categorical_accuracy: 0.6486\n",
      "Epoch 00018: val_loss did not improve from 1.62823\n",
      "23/23 [==============================] - 47s 2s/step - loss: 0.9575 - categorical_accuracy: 0.6486 - val_loss: 2.5972 - val_categorical_accuracy: 0.2200 - lr: 3.2000e-07\n",
      "Epoch 19/30\n",
      "22/23 [===========================>..] - ETA: 1s - loss: 1.0332 - categorical_accuracy: 0.5939\n",
      "Epoch 00019: val_loss did not improve from 1.62823\n",
      "23/23 [==============================] - 48s 2s/step - loss: 1.0303 - categorical_accuracy: 0.5958 - val_loss: 2.5400 - val_categorical_accuracy: 0.2000 - lr: 3.2000e-07\n",
      "Epoch 20/30\n",
      "23/23 [==============================] - ETA: 0s - loss: 1.0104 - categorical_accuracy: 0.6154\n",
      "Epoch 00020: val_loss did not improve from 1.62823\n",
      "23/23 [==============================] - 46s 2s/step - loss: 1.0104 - categorical_accuracy: 0.6154 - val_loss: 2.2126 - val_categorical_accuracy: 0.2700 - lr: 3.2000e-07\n",
      "Epoch 21/30\n",
      "22/23 [===========================>..] - ETA: 1s - loss: 0.9557 - categorical_accuracy: 0.6439\n",
      "Epoch 00021: val_loss did not improve from 1.62823\n",
      "23/23 [==============================] - 48s 2s/step - loss: 0.9615 - categorical_accuracy: 0.6425 - val_loss: 2.0467 - val_categorical_accuracy: 0.2800 - lr: 3.2000e-07\n",
      "Epoch 22/30\n",
      "23/23 [==============================] - ETA: 0s - loss: 0.9985 - categorical_accuracy: 0.5913\n",
      "Epoch 00022: val_loss did not improve from 1.62823\n",
      "23/23 [==============================] - 47s 2s/step - loss: 0.9985 - categorical_accuracy: 0.5913 - val_loss: 1.8360 - val_categorical_accuracy: 0.3300 - lr: 6.4000e-08\n",
      "Epoch 23/30\n",
      "23/23 [==============================] - ETA: 0s - loss: 1.0244 - categorical_accuracy: 0.6033\n",
      "Epoch 00023: val_loss did not improve from 1.62823\n",
      "23/23 [==============================] - 46s 2s/step - loss: 1.0244 - categorical_accuracy: 0.6033 - val_loss: 1.6923 - val_categorical_accuracy: 0.3300 - lr: 6.4000e-08\n",
      "Epoch 24/30\n",
      "22/23 [===========================>..] - ETA: 1s - loss: 1.0745 - categorical_accuracy: 0.5758\n",
      "Epoch 00024: val_loss did not improve from 1.62823\n",
      "23/23 [==============================] - 45s 2s/step - loss: 1.0784 - categorical_accuracy: 0.5747 - val_loss: 1.6902 - val_categorical_accuracy: 0.3100 - lr: 6.4000e-08\n",
      "Epoch 25/30\n",
      "23/23 [==============================] - ETA: 0s - loss: 0.9885 - categorical_accuracy: 0.5988\n",
      "Epoch 00025: val_loss improved from 1.62823 to 1.47437, saving model to model_init_2024-05-0207_29_12.960563/model-00025-0.98845-0.59879-1.47437-0.43000.h5\n",
      "23/23 [==============================] - 129s 6s/step - loss: 0.9885 - categorical_accuracy: 0.5988 - val_loss: 1.4744 - val_categorical_accuracy: 0.4300 - lr: 6.4000e-08\n",
      "Epoch 26/30\n",
      "23/23 [==============================] - ETA: 0s - loss: 0.9877 - categorical_accuracy: 0.5928\n",
      "Epoch 00026: val_loss improved from 1.47437 to 1.34373, saving model to model_init_2024-05-0207_29_12.960563/model-00026-0.98774-0.59276-1.34373-0.45000.h5\n",
      "23/23 [==============================] - 152s 7s/step - loss: 0.9877 - categorical_accuracy: 0.5928 - val_loss: 1.3437 - val_categorical_accuracy: 0.4500 - lr: 6.4000e-08\n",
      "Epoch 27/30\n",
      "23/23 [==============================] - ETA: 0s - loss: 0.9944 - categorical_accuracy: 0.6154\n",
      "Epoch 00027: val_loss improved from 1.34373 to 1.28023, saving model to model_init_2024-05-0207_29_12.960563/model-00027-0.99445-0.61538-1.28023-0.54000.h5\n",
      "23/23 [==============================] - 64s 3s/step - loss: 0.9944 - categorical_accuracy: 0.6154 - val_loss: 1.2802 - val_categorical_accuracy: 0.5400 - lr: 6.4000e-08\n",
      "Epoch 28/30\n",
      "23/23 [==============================] - ETA: 0s - loss: 0.9858 - categorical_accuracy: 0.6048\n",
      "Epoch 00028: val_loss did not improve from 1.28023\n",
      "23/23 [==============================] - 45s 2s/step - loss: 0.9858 - categorical_accuracy: 0.6048 - val_loss: 1.3464 - val_categorical_accuracy: 0.5400 - lr: 6.4000e-08\n",
      "Epoch 29/30\n",
      "22/23 [===========================>..] - ETA: 1s - loss: 0.9442 - categorical_accuracy: 0.6152\n",
      "Epoch 00029: val_loss improved from 1.28023 to 1.22714, saving model to model_init_2024-05-0207_29_12.960563/model-00029-0.94730-0.61388-1.22714-0.56000.h5\n",
      "23/23 [==============================] - 47s 2s/step - loss: 0.9473 - categorical_accuracy: 0.6139 - val_loss: 1.2271 - val_categorical_accuracy: 0.5600 - lr: 6.4000e-08\n",
      "Epoch 30/30\n",
      "23/23 [==============================] - ETA: 0s - loss: 1.0106 - categorical_accuracy: 0.5913\n",
      "Epoch 00030: val_loss did not improve from 1.22714\n",
      "23/23 [==============================] - 48s 2s/step - loss: 1.0106 - categorical_accuracy: 0.5913 - val_loss: 1.2882 - val_categorical_accuracy: 0.5300 - lr: 6.4000e-08\n"
     ]
    }
   ],
   "source": [
    "history = modelConv3D_5.fit(train_generator, steps_per_epoch=steps_per_epoch, epochs=num_epochs, verbose=1, \n",
    "                    callbacks=callbacks_list, validation_data=val_generator, \n",
    "                    validation_steps=validation_steps, class_weight=None,  initial_epoch=0)"
   ]
  },
  {
   "cell_type": "code",
   "execution_count": 101,
   "metadata": {},
   "outputs": [
    {
     "data": {
      "image/png": "[encoded data removed]",
      "text/plain": [
       "<Figure size 432x288 with 1 Axes>"
      ]
     },
     "metadata": {
      "needs_background": "light"
     },
     "output_type": "display_data"
    },
    {
     "data": {
      "image/png": "[encoded data removed]",
      "text/plain": [
       "<Figure size 432x288 with 1 Axes>"
      ]
     },
     "metadata": {
      "needs_background": "light"
     },
     "output_type": "display_data"
    }
   ],
   "source": [
    "# Plotting the result of Model 5 :\n",
    "\n",
    "# summarize history for accuracy\n",
    "plt.plot(history.history['categorical_accuracy'])\n",
    "plt.plot(history.history['val_categorical_accuracy'])\n",
    "plt.title('model accuracy')\n",
    "plt.ylabel('accuracy')\n",
    "plt.xlabel('epoch')\n",
    "plt.legend(['train', 'test'], loc='upper left')\n",
    "plt.show()\n",
    "\n",
    "# summarize history for loss\n",
    "plt.plot(history.history['loss'])\n",
    "plt.plot(history.history['val_loss'])\n",
    "plt.title('model loss')\n",
    "plt.ylabel('loss')\n",
    "plt.xlabel('epoch')\n",
    "plt.legend(['train', 'test'], loc='upper left')\n",
    "plt.show()"
   ]
  },
  {
   "cell_type": "code",
   "execution_count": 102,
   "metadata": {},
   "outputs": [
    {
     "name": "stdout",
     "output_type": "stream",
     "text": [
      "      Model Name  Model Accuracy  Model Loss  Val Accuracy    Val Loss\n",
      "0  modelConv3D_1       44.494721  136.417484     25.999999  219.879627\n",
      "0  modelConv3D_2       38.612369  153.423560     30.000001  178.754282\n",
      "0  modelConv3D_2       38.612369  153.423560     30.000001  178.754282\n",
      "0  modelConv3D_3       42.986426  145.889616     31.000000  177.600634\n",
      "0  modelConv3D_4       45.248869  134.927368     36.000001  141.790569\n",
      "0  modelConv3D_5       59.125191  101.061988     52.999997  128.816605\n"
     ]
    }
   ],
   "source": [
    "df1 = model_result(\"modelConv3D_5\",history.history['categorical_accuracy'][-1], history.history['loss'][-1] , history.history['val_categorical_accuracy'][-1], history.history['val_loss'][-1])\n",
    "\n",
    "model_detail_df = pd.concat([model_detail_df,df1])\n",
    "print(model_detail_df.head(20))"
   ]
  },
  {
   "cell_type": "markdown",
   "metadata": {},
   "source": [
    "### _We have tried multiple experiments with Conv 3D model but the performance of models are not as expected, so lets try with the other models for the same problem statement._"
   ]
  },
  {
   "cell_type": "markdown",
   "metadata": {},
   "source": [
    "# Model 6 : CNN - LSTM Model "
   ]
  },
  {
   "cell_type": "code",
   "execution_count": 103,
   "metadata": {},
   "outputs": [],
   "source": [
    "# Input\n",
    "input_shape=(30,120,120,3)"
   ]
  },
  {
   "cell_type": "code",
   "execution_count": 104,
   "metadata": {},
   "outputs": [
    {
     "name": "stdout",
     "output_type": "stream",
     "text": [
      "Model: \"sequential_11\"\n",
      "_________________________________________________________________\n",
      " Layer (type)                Output Shape              Param #   \n",
      "=================================================================\n",
      " time_distributed (TimeDistr  (None, 30, 120, 120, 16)  448      \n",
      " ibuted)                                                         \n",
      "                                                                 \n",
      " time_distributed_1 (TimeDis  (None, 30, 120, 120, 16)  64       \n",
      " tributed)                                                       \n",
      "                                                                 \n",
      " time_distributed_2 (TimeDis  (None, 30, 60, 60, 16)   0         \n",
      " tributed)                                                       \n",
      "                                                                 \n",
      " time_distributed_3 (TimeDis  (None, 30, 60, 60, 32)   4640      \n",
      " tributed)                                                       \n",
      "                                                                 \n",
      " time_distributed_4 (TimeDis  (None, 30, 60, 60, 32)   128       \n",
      " tributed)                                                       \n",
      "                                                                 \n",
      " time_distributed_5 (TimeDis  (None, 30, 30, 30, 32)   0         \n",
      " tributed)                                                       \n",
      "                                                                 \n",
      " time_distributed_6 (TimeDis  (None, 30, 30, 30, 64)   18496     \n",
      " tributed)                                                       \n",
      "                                                                 \n",
      " time_distributed_7 (TimeDis  (None, 30, 30, 30, 64)   256       \n",
      " tributed)                                                       \n",
      "                                                                 \n",
      " time_distributed_8 (TimeDis  (None, 30, 15, 15, 64)   0         \n",
      " tributed)                                                       \n",
      "                                                                 \n",
      " time_distributed_9 (TimeDis  (None, 30, 15, 15, 128)  73856     \n",
      " tributed)                                                       \n",
      "                                                                 \n",
      " time_distributed_10 (TimeDi  (None, 30, 15, 15, 128)  512       \n",
      " stributed)                                                      \n",
      "                                                                 \n",
      " time_distributed_11 (TimeDi  (None, 30, 7, 7, 128)    0         \n",
      " stributed)                                                      \n",
      "                                                                 \n",
      " time_distributed_12 (TimeDi  (None, 30, 7, 7, 256)    295168    \n",
      " stributed)                                                      \n",
      "                                                                 \n",
      " time_distributed_13 (TimeDi  (None, 30, 7, 7, 256)    1024      \n",
      " stributed)                                                      \n",
      "                                                                 \n",
      " time_distributed_14 (TimeDi  (None, 30, 3, 3, 256)    0         \n",
      " stributed)                                                      \n",
      "                                                                 \n",
      " time_distributed_15 (TimeDi  (None, 30, 2304)         0         \n",
      " stributed)                                                      \n",
      "                                                                 \n",
      " lstm (LSTM)                 (None, 128)               1245696   \n",
      "                                                                 \n",
      " dropout_23 (Dropout)        (None, 128)               0         \n",
      "                                                                 \n",
      " dense_33 (Dense)            (None, 128)               16512     \n",
      "                                                                 \n",
      " dropout_24 (Dropout)        (None, 128)               0         \n",
      "                                                                 \n",
      " dense_34 (Dense)            (None, 5)                 645       \n",
      "                                                                 \n",
      "=================================================================\n",
      "Total params: 1,657,445\n",
      "Trainable params: 1,656,453\n",
      "Non-trainable params: 992\n",
      "_________________________________________________________________\n",
      "None\n"
     ]
    }
   ],
   "source": [
    "\n",
    "#write your model here\n",
    "CNNlstm_1 = Sequential()\n",
    "\n",
    "CNNlstm_1.add(TimeDistributed(Conv2D(16, (3, 3) , padding='same', activation='relu'),\n",
    "                          input_shape=input_shape))\n",
    "CNNlstm_1.add(TimeDistributed(BatchNormalization()))\n",
    "CNNlstm_1.add(TimeDistributed(MaxPooling2D((2, 2))))\n",
    "\n",
    "CNNlstm_1.add(TimeDistributed(Conv2D(32, (3, 3) , padding='same', activation='relu')))\n",
    "CNNlstm_1.add(TimeDistributed(BatchNormalization()))\n",
    "CNNlstm_1.add(TimeDistributed(MaxPooling2D((2, 2))))\n",
    "\n",
    "CNNlstm_1.add(TimeDistributed(Conv2D(64, (3, 3) , padding='same', activation='relu')))\n",
    "CNNlstm_1.add(TimeDistributed(BatchNormalization()))\n",
    "CNNlstm_1.add(TimeDistributed(MaxPooling2D((2, 2))))\n",
    "\n",
    "CNNlstm_1.add(TimeDistributed(Conv2D(128, (3, 3) , padding='same', activation='relu')))\n",
    "CNNlstm_1.add(TimeDistributed(BatchNormalization()))\n",
    "CNNlstm_1.add(TimeDistributed(MaxPooling2D((2, 2))))\n",
    "\n",
    "CNNlstm_1.add(TimeDistributed(Conv2D(256, (3, 3) , padding='same', activation='relu')))\n",
    "CNNlstm_1.add(TimeDistributed(BatchNormalization()))\n",
    "CNNlstm_1.add(TimeDistributed(MaxPooling2D((2, 2))))\n",
    "\n",
    "CNNlstm_1.add(TimeDistributed(Flatten()))\n",
    "\n",
    "\n",
    "CNNlstm_1.add(LSTM(128))\n",
    "CNNlstm_1.add(Dropout(0.25))\n",
    "\n",
    "CNNlstm_1.add(Dense(128,activation='relu'))\n",
    "CNNlstm_1.add(Dropout(0.25))\n",
    "\n",
    "CNNlstm_1.add(Dense(5, activation='softmax'))\n",
    "\n",
    "\n",
    "#write your optimizer\n",
    "optimiser = optimizers.Adam()\n",
    "#optimiser = \n",
    "#sgd = optimizers.SGD(lr=0.001, decay=1e-6, momentum=0.7, nesterov=True)\n",
    "\n",
    "# compile model :\n",
    "CNNlstm_1.compile(optimizer=optimiser, loss='categorical_crossentropy', metrics=['categorical_accuracy'])\n",
    "print (CNNlstm_1.summary())"
   ]
  },
  {
   "cell_type": "code",
   "execution_count": 106,
   "metadata": {},
   "outputs": [
    {
     "name": "stdout",
     "output_type": "stream",
     "text": [
      "# training sequences = 663\n",
      "# validation sequences = 100\n",
      "# epochs = 20\n"
     ]
    }
   ],
   "source": [
    "batch_size = 20\n",
    "curr_dt_time = datetime.datetime.now()\n",
    "train_path = 'datasets/Project_data/train'\n",
    "val_path = 'datasets/Project_data/val'\n",
    "num_train_sequences = len(train_doc)\n",
    "print('# training sequences =', num_train_sequences)\n",
    "num_val_sequences = len(val_doc)\n",
    "print('# validation sequences =', num_val_sequences)\n",
    "# choose the number of epochs\n",
    "num_epochs = 20\n",
    "print ('# epochs =', num_epochs)\n"
   ]
  },
  {
   "cell_type": "code",
   "execution_count": 107,
   "metadata": {},
   "outputs": [],
   "source": [
    "def generatorLSTM(source_path, folder_list, batch_size):\n",
    "    print( 'Source path = ', source_path, '; batch size =', batch_size)\n",
    "    \n",
    "    #create a list of image numbers you want to use for a particular video\n",
    "    img_idx = [x for x in range(0, 30)]\n",
    "    #list(range(0,29,2))\n",
    "    \n",
    "    while True:\n",
    "        t = np.random.permutation(folder_list)\n",
    "        \n",
    "# calculate the number of batches\n",
    "        num_batches = int(len(t)/batch_size)\n",
    "        \n",
    "# we iterate over the number of batches\n",
    "        for batch in range(num_batches): \n",
    "            \n",
    "# x is the number of images you use for each video, (y,z) is the final size of the input images and 3 is the number of channels RGB          \n",
    "            batch_data = np.zeros((batch_size,30,120,120,3))\n",
    "# batch_labels is the one hot representation of the output\n",
    "            batch_labels = np.zeros((batch_size,5))\n",
    "\n",
    "# iterate over the batch_size    \n",
    "            for folder in range(batch_size): \n",
    "# read all the images in the folder        \n",
    "                imgs = os.listdir(source_path+'/'+ t[folder + (batch*batch_size)].split(';')[0]) \n",
    "#  Iterate over the frames/images of a folder to read them in    \n",
    "                for idx,item in enumerate(img_idx):\n",
    "                    image = cv2.imread(source_path+'/'+ t[folder + (batch*batch_size)].strip().split(';')[0]+'/'+imgs[item],cv2.IMREAD_UNCHANGED).astype(np.float32)\n",
    "                    \n",
    "#crop the images and resize them. Note that the images are of 2 different shape \n",
    "#and the conv3D will throw error if the inputs in a batch have different shapes\n",
    "                    if image.shape[1] == 160:\n",
    "                        image = cv2.resize(image[:,20:140,:],(120,120),interpolation = cv2.INTER_AREA).astype(np.float32)\n",
    "                    else:\n",
    "                        image = cv2.resize(image,(120,120),interpolation = cv2.INTER_AREA).astype(np.float32)\n",
    "                                \n",
    "#normalise and feed in the image\n",
    "\n",
    "                    batch_data[folder,idx,:,:,0] = (image[:,:,0])/255\n",
    "                    batch_data[folder,idx,:,:,1] = (image[:,:,1])/255\n",
    "                    batch_data[folder,idx,:,:,2] = (image[:,:,2])/255\n",
    "                    \n",
    "                batch_labels[folder, int(t[folder + (batch*batch_size)].strip().split(';')[2])] = 1\n",
    "#you yield the batch_data and the batch_labels, remember what does yield do                \n",
    "            yield batch_data, batch_labels \n",
    "\n",
    "        \n",
    "# write the code for the remaining data points which are left after full batches\n",
    "        if (len(t)%batch_size) != 0:\n",
    "            batch_data = np.zeros((len(t)%batch_size,30,120,120,3))\n",
    "            batch_labels = np.zeros((len(t)%batch_size,5))\n",
    "            for folder in range(len(t)%batch_size):\n",
    "                imgs = os.listdir(source_path+'/'+ t[folder + (num_batches*batch_size)].split(';')[0])\n",
    "                for idx,item in enumerate(img_idx):\n",
    "                    image = cv2.imread(source_path+'/'+ t[folder + (num_batches*batch_size)].strip().split(';')[0]+'/'+imgs[item],cv2.IMREAD_UNCHANGED).astype(np.float32)\n",
    "                    if image.shape[1] == 160:\n",
    "                        image = cv2.resize(image[:,20:140,:],(120,120),interpolation = cv2.INTER_AREA).astype(np.float32)\n",
    "                    else:\n",
    "                        image = cv2.resize(image,(120,120),interpolation = cv2.INTER_AREA).astype(np.float32)\n",
    "\n",
    "                    batch_data[folder,idx,:,:,0] = (image[:,:,0])/255\n",
    "                    batch_data[folder,idx,:,:,1] = (image[:,:,1])/255\n",
    "                    batch_data[folder,idx,:,:,2] = (image[:,:,2])/255\n",
    "\n",
    "                batch_labels[folder, int(t[folder + (num_batches*batch_size)].strip().split(';')[2])] = 1\n",
    "\n",
    "            yield batch_data, batch_labels"
   ]
  },
  {
   "cell_type": "code",
   "execution_count": 108,
   "metadata": {},
   "outputs": [],
   "source": [
    "train_generator = generatorLSTM(train_path, train_doc, batch_size)\n",
    "val_generator = generatorLSTM(val_path, val_doc, batch_size)\n",
    "\n",
    "model_name = 'model_init' + '_' + str(curr_dt_time).replace(' ','').replace(':','_') + '/'\n",
    "    \n",
    "if not os.path.exists(model_name):\n",
    "    os.mkdir(model_name)\n",
    "        \n",
    "filepath = model_name + 'model-{epoch:05d}-{loss:.5f}-{categorical_accuracy:.5f}-{val_loss:.5f}-{val_categorical_accuracy:.5f}.h5'\n",
    "\n",
    "checkpoint = ModelCheckpoint(filepath, monitor='val_loss', verbose=1, save_best_only=True, save_weights_only=False, mode='auto')\n",
    "\n",
    "# write the REducelronplateau code here\n",
    "LR = ReduceLROnPlateau(monitor='val_loss', factor=0.2, patience=4)\n",
    "\n",
    "callbacks_list = [checkpoint, LR]\n",
    "\n",
    "if (num_train_sequences%batch_size) == 0:\n",
    "    steps_per_epoch = int(num_train_sequences/batch_size)\n",
    "else:\n",
    "    steps_per_epoch = (num_train_sequences//batch_size) + 1\n",
    "\n",
    "if (num_val_sequences%batch_size) == 0:\n",
    "    validation_steps = int(num_val_sequences/batch_size)\n",
    "else:\n",
    "    validation_steps = (num_val_sequences//batch_size) + 1"
   ]
  },
  {
   "cell_type": "code",
   "execution_count": 109,
   "metadata": {},
   "outputs": [
    {
     "name": "stdout",
     "output_type": "stream",
     "text": [
      "Source path =  datasets/Project_data/train ; batch size = 20\n",
      "Epoch 1/20\n",
      "34/34 [==============================] - ETA: 0s - loss: 1.4196 - categorical_accuracy: 0.3786Source path =  datasets/Project_data/val ; batch size = 20\n",
      "\n",
      "Epoch 00001: val_loss improved from inf to 1.80863, saving model to model_init_2024-05-0207_59_41.276742/model-00001-1.41965-0.37858-1.80863-0.21000.h5\n",
      "34/34 [==============================] - 54s 2s/step - loss: 1.4196 - categorical_accuracy: 0.3786 - val_loss: 1.8086 - val_categorical_accuracy: 0.2100 - lr: 0.0010\n",
      "Epoch 2/20\n",
      "34/34 [==============================] - ETA: 0s - loss: 1.1993 - categorical_accuracy: 0.4766\n",
      "Epoch 00002: val_loss did not improve from 1.80863\n",
      "34/34 [==============================] - 51s 2s/step - loss: 1.1993 - categorical_accuracy: 0.4766 - val_loss: 1.9025 - val_categorical_accuracy: 0.1700 - lr: 0.0010\n",
      "Epoch 3/20\n",
      "34/34 [==============================] - ETA: 0s - loss: 1.1222 - categorical_accuracy: 0.5264\n",
      "Epoch 00003: val_loss did not improve from 1.80863\n",
      "34/34 [==============================] - 50s 2s/step - loss: 1.1222 - categorical_accuracy: 0.5264 - val_loss: 1.8397 - val_categorical_accuracy: 0.2500 - lr: 0.0010\n",
      "Epoch 4/20\n",
      "34/34 [==============================] - ETA: 0s - loss: 0.9241 - categorical_accuracy: 0.6365\n",
      "Epoch 00004: val_loss did not improve from 1.80863\n",
      "34/34 [==============================] - 50s 1s/step - loss: 0.9241 - categorical_accuracy: 0.6365 - val_loss: 2.1207 - val_categorical_accuracy: 0.2200 - lr: 0.0010\n",
      "Epoch 5/20\n",
      "34/34 [==============================] - ETA: 0s - loss: 0.9319 - categorical_accuracy: 0.6184\n",
      "Epoch 00005: val_loss did not improve from 1.80863\n",
      "34/34 [==============================] - 49s 1s/step - loss: 0.9319 - categorical_accuracy: 0.6184 - val_loss: 3.0347 - val_categorical_accuracy: 0.2000 - lr: 0.0010\n",
      "Epoch 6/20\n",
      "34/34 [==============================] - ETA: 0s - loss: 0.8575 - categorical_accuracy: 0.6244\n",
      "Epoch 00006: val_loss did not improve from 1.80863\n",
      "34/34 [==============================] - 49s 1s/step - loss: 0.8575 - categorical_accuracy: 0.6244 - val_loss: 2.6380 - val_categorical_accuracy: 0.2100 - lr: 2.0000e-04\n",
      "Epoch 7/20\n",
      "34/34 [==============================] - ETA: 0s - loss: 0.7948 - categorical_accuracy: 0.6787\n",
      "Epoch 00007: val_loss did not improve from 1.80863\n",
      "34/34 [==============================] - 49s 1s/step - loss: 0.7948 - categorical_accuracy: 0.6787 - val_loss: 2.2243 - val_categorical_accuracy: 0.2500 - lr: 2.0000e-04\n",
      "Epoch 8/20\n",
      "34/34 [==============================] - ETA: 0s - loss: 0.7492 - categorical_accuracy: 0.7029\n",
      "Epoch 00008: val_loss did not improve from 1.80863\n",
      "34/34 [==============================] - 49s 1s/step - loss: 0.7492 - categorical_accuracy: 0.7029 - val_loss: 1.9752 - val_categorical_accuracy: 0.3000 - lr: 2.0000e-04\n",
      "Epoch 9/20\n",
      "34/34 [==============================] - ETA: 0s - loss: 0.7175 - categorical_accuracy: 0.7360\n",
      "Epoch 00009: val_loss did not improve from 1.80863\n",
      "34/34 [==============================] - 49s 1s/step - loss: 0.7175 - categorical_accuracy: 0.7360 - val_loss: 2.2965 - val_categorical_accuracy: 0.3000 - lr: 2.0000e-04\n",
      "Epoch 10/20\n",
      "34/34 [==============================] - ETA: 0s - loss: 0.6180 - categorical_accuracy: 0.7753\n",
      "Epoch 00010: val_loss did not improve from 1.80863\n",
      "34/34 [==============================] - 49s 1s/step - loss: 0.6180 - categorical_accuracy: 0.7753 - val_loss: 2.0040 - val_categorical_accuracy: 0.3900 - lr: 4.0000e-05\n",
      "Epoch 11/20\n",
      "34/34 [==============================] - ETA: 0s - loss: 0.6144 - categorical_accuracy: 0.7406\n",
      "Epoch 00011: val_loss did not improve from 1.80863\n",
      "34/34 [==============================] - 49s 1s/step - loss: 0.6144 - categorical_accuracy: 0.7406 - val_loss: 2.0784 - val_categorical_accuracy: 0.3600 - lr: 4.0000e-05\n",
      "Epoch 12/20\n",
      "34/34 [==============================] - ETA: 0s - loss: 0.6153 - categorical_accuracy: 0.7557\n",
      "Epoch 00012: val_loss did not improve from 1.80863\n",
      "34/34 [==============================] - 49s 1s/step - loss: 0.6153 - categorical_accuracy: 0.7557 - val_loss: 2.0333 - val_categorical_accuracy: 0.3800 - lr: 4.0000e-05\n",
      "Epoch 13/20\n",
      "34/34 [==============================] - ETA: 0s - loss: 0.5908 - categorical_accuracy: 0.7858\n",
      "Epoch 00013: val_loss did not improve from 1.80863\n",
      "34/34 [==============================] - 49s 1s/step - loss: 0.5908 - categorical_accuracy: 0.7858 - val_loss: 2.1079 - val_categorical_accuracy: 0.3200 - lr: 4.0000e-05\n",
      "Epoch 14/20\n",
      "34/34 [==============================] - ETA: 0s - loss: 0.5769 - categorical_accuracy: 0.7768\n",
      "Epoch 00014: val_loss improved from 1.80863 to 1.63147, saving model to model_init_2024-05-0207_59_41.276742/model-00014-0.57689-0.77677-1.63147-0.42000.h5\n",
      "34/34 [==============================] - 49s 1s/step - loss: 0.5769 - categorical_accuracy: 0.7768 - val_loss: 1.6315 - val_categorical_accuracy: 0.4200 - lr: 8.0000e-06\n",
      "Epoch 15/20\n",
      "34/34 [==============================] - ETA: 0s - loss: 0.5622 - categorical_accuracy: 0.7964\n",
      "Epoch 00015: val_loss improved from 1.63147 to 1.61136, saving model to model_init_2024-05-0207_59_41.276742/model-00015-0.56225-0.79638-1.61136-0.44000.h5\n",
      "34/34 [==============================] - 49s 1s/step - loss: 0.5622 - categorical_accuracy: 0.7964 - val_loss: 1.6114 - val_categorical_accuracy: 0.4400 - lr: 8.0000e-06\n",
      "Epoch 16/20\n",
      "34/34 [==============================] - ETA: 0s - loss: 0.5694 - categorical_accuracy: 0.7873\n",
      "Epoch 00016: val_loss improved from 1.61136 to 1.33874, saving model to model_init_2024-05-0207_59_41.276742/model-00016-0.56942-0.78733-1.33874-0.50000.h5\n",
      "34/34 [==============================] - 49s 1s/step - loss: 0.5694 - categorical_accuracy: 0.7873 - val_loss: 1.3387 - val_categorical_accuracy: 0.5000 - lr: 8.0000e-06\n",
      "Epoch 17/20\n",
      "34/34 [==============================] - ETA: 0s - loss: 0.5938 - categorical_accuracy: 0.7768\n",
      "Epoch 00017: val_loss improved from 1.33874 to 1.09421, saving model to model_init_2024-05-0207_59_41.276742/model-00017-0.59384-0.77677-1.09421-0.55000.h5\n",
      "34/34 [==============================] - 50s 1s/step - loss: 0.5938 - categorical_accuracy: 0.7768 - val_loss: 1.0942 - val_categorical_accuracy: 0.5500 - lr: 8.0000e-06\n",
      "Epoch 18/20\n",
      "34/34 [==============================] - ETA: 0s - loss: 0.5443 - categorical_accuracy: 0.8054\n",
      "Epoch 00018: val_loss did not improve from 1.09421\n",
      "34/34 [==============================] - 50s 1s/step - loss: 0.5443 - categorical_accuracy: 0.8054 - val_loss: 1.1071 - val_categorical_accuracy: 0.5900 - lr: 8.0000e-06\n",
      "Epoch 19/20\n",
      "34/34 [==============================] - ETA: 0s - loss: 0.5415 - categorical_accuracy: 0.7873\n",
      "Epoch 00019: val_loss improved from 1.09421 to 0.98869, saving model to model_init_2024-05-0207_59_41.276742/model-00019-0.54155-0.78733-0.98869-0.66000.h5\n",
      "34/34 [==============================] - 49s 1s/step - loss: 0.5415 - categorical_accuracy: 0.7873 - val_loss: 0.9887 - val_categorical_accuracy: 0.6600 - lr: 8.0000e-06\n",
      "Epoch 20/20\n",
      "34/34 [==============================] - ETA: 0s - loss: 0.5536 - categorical_accuracy: 0.8009\n",
      "Epoch 00020: val_loss improved from 0.98869 to 0.83913, saving model to model_init_2024-05-0207_59_41.276742/model-00020-0.55363-0.80090-0.83913-0.70000.h5\n",
      "34/34 [==============================] - 49s 1s/step - loss: 0.5536 - categorical_accuracy: 0.8009 - val_loss: 0.8391 - val_categorical_accuracy: 0.7000 - lr: 8.0000e-06\n"
     ]
    }
   ],
   "source": [
    "history = CNNlstm_1.fit(train_generator, steps_per_epoch=steps_per_epoch, epochs=num_epochs, verbose=1, \n",
    "                    callbacks=callbacks_list, validation_data=val_generator, \n",
    "                    validation_steps=validation_steps, class_weight=None, workers=1, initial_epoch=0)"
   ]
  },
  {
   "cell_type": "code",
   "execution_count": 111,
   "metadata": {},
   "outputs": [
    {
     "name": "stdout",
     "output_type": "stream",
     "text": [
      "Total Params in model: 1657445\n"
     ]
    }
   ],
   "source": [
    "print(\"Total Params in model:\", CNNlstm_1.count_params())"
   ]
  },
  {
   "cell_type": "code",
   "execution_count": 112,
   "metadata": {},
   "outputs": [
    {
     "data": {
      "image/png": "[encoded data removed]",
      "text/plain": [
       "<Figure size 432x288 with 1 Axes>"
      ]
     },
     "metadata": {
      "needs_background": "light"
     },
     "output_type": "display_data"
    },
    {
     "data": {
      "image/png": "[encoded data removed]",
      "text/plain": [
       "<Figure size 432x288 with 1 Axes>"
      ]
     },
     "metadata": {
      "needs_background": "light"
     },
     "output_type": "display_data"
    }
   ],
   "source": [
    "# Plotting the result of Model 6 :\n",
    "\n",
    "# summarize history for accuracy\n",
    "plt.plot(history.history['categorical_accuracy'])\n",
    "plt.plot(history.history['val_categorical_accuracy'])\n",
    "plt.title('model accuracy')\n",
    "plt.ylabel('accuracy')\n",
    "plt.xlabel('epoch')\n",
    "plt.legend(['train', 'test'], loc='upper left')\n",
    "plt.show()\n",
    "\n",
    "# summarize history for loss\n",
    "plt.plot(history.history['loss'])\n",
    "plt.plot(history.history['val_loss'])\n",
    "plt.title('model loss')\n",
    "plt.ylabel('loss')\n",
    "plt.xlabel('epoch')\n",
    "plt.legend(['train', 'test'], loc='upper left')\n",
    "plt.show()"
   ]
  },
  {
   "cell_type": "code",
   "execution_count": 154,
   "metadata": {},
   "outputs": [
    {
     "name": "stdout",
     "output_type": "stream",
     "text": [
      "      Model Name  Model Accuracy  Model Loss  Val Accuracy    Val Loss\n",
      "0  modelConv3D_1       44.494721  136.417484     25.999999  219.879627\n",
      "0  modelConv3D_2       38.612369  153.423560     30.000001  178.754282\n",
      "0  modelConv3D_2       38.612369  153.423560     30.000001  178.754282\n",
      "0  modelConv3D_3       42.986426  145.889616     31.000000  177.600634\n",
      "0  modelConv3D_4       45.248869  134.927368     36.000001  141.790569\n",
      "0  modelConv3D_5       59.125191  101.061988     52.999997  128.816605\n",
      "0  modelConv3D_6       80.090499   55.362916     69.999999   83.913064\n",
      "0      CNNlstm_1       92.458522   25.206617     77.999997   66.047078\n"
     ]
    }
   ],
   "source": [
    "df1 = model_result(\"CNNlstm_1\",history.history['categorical_accuracy'][-1], history.history['loss'][-1] , history.history['val_categorical_accuracy'][-1], history.history['val_loss'][-1])\n",
    "\n",
    "model_detail_df = pd.concat([model_detail_df,df1])\n",
    "print(model_detail_df.head(20))"
   ]
  },
  {
   "cell_type": "markdown",
   "metadata": {},
   "source": [
    "# Model 7 : CNN - LSTM Model , Increase layers , increase epoch to 25"
   ]
  },
  {
   "cell_type": "code",
   "execution_count": 147,
   "metadata": {},
   "outputs": [
    {
     "name": "stdout",
     "output_type": "stream",
     "text": [
      "Model: \"sequential_17\"\n",
      "_________________________________________________________________\n",
      " Layer (type)                Output Shape              Param #   \n",
      "=================================================================\n",
      " conv3d_52 (Conv3D)          (None, 30, 120, 120, 16)  1312      \n",
      "                                                                 \n",
      " activation_52 (Activation)  (None, 30, 120, 120, 16)  0         \n",
      "                                                                 \n",
      " batch_normalization_98 (Bat  (None, 30, 120, 120, 16)  64       \n",
      " chNormalization)                                                \n",
      "                                                                 \n",
      " conv3d_53 (Conv3D)          (None, 30, 120, 120, 16)  6928      \n",
      "                                                                 \n",
      " activation_53 (Activation)  (None, 30, 120, 120, 16)  0         \n",
      "                                                                 \n",
      " batch_normalization_99 (Bat  (None, 30, 120, 120, 16)  64       \n",
      " chNormalization)                                                \n",
      "                                                                 \n",
      " max_pooling3d_48 (MaxPoolin  (None, 15, 60, 60, 16)   0         \n",
      " g3D)                                                            \n",
      "                                                                 \n",
      " conv3d_54 (Conv3D)          (None, 15, 60, 60, 32)    13856     \n",
      "                                                                 \n",
      " activation_54 (Activation)  (None, 15, 60, 60, 32)    0         \n",
      "                                                                 \n",
      " batch_normalization_100 (Ba  (None, 15, 60, 60, 32)   128       \n",
      " tchNormalization)                                               \n",
      "                                                                 \n",
      " conv3d_55 (Conv3D)          (None, 15, 60, 60, 32)    27680     \n",
      "                                                                 \n",
      " activation_55 (Activation)  (None, 15, 60, 60, 32)    0         \n",
      "                                                                 \n",
      " batch_normalization_101 (Ba  (None, 15, 60, 60, 32)   128       \n",
      " tchNormalization)                                               \n",
      "                                                                 \n",
      " max_pooling3d_49 (MaxPoolin  (None, 7, 30, 30, 32)    0         \n",
      " g3D)                                                            \n",
      "                                                                 \n",
      " conv3d_56 (Conv3D)          (None, 7, 30, 30, 64)     55360     \n",
      "                                                                 \n",
      " activation_56 (Activation)  (None, 7, 30, 30, 64)     0         \n",
      "                                                                 \n",
      " batch_normalization_102 (Ba  (None, 7, 30, 30, 64)    256       \n",
      " tchNormalization)                                               \n",
      "                                                                 \n",
      " conv3d_57 (Conv3D)          (None, 7, 30, 30, 64)     110656    \n",
      "                                                                 \n",
      " activation_57 (Activation)  (None, 7, 30, 30, 64)     0         \n",
      "                                                                 \n",
      " batch_normalization_103 (Ba  (None, 7, 30, 30, 64)    256       \n",
      " tchNormalization)                                               \n",
      "                                                                 \n",
      " max_pooling3d_50 (MaxPoolin  (None, 3, 15, 15, 64)    0         \n",
      " g3D)                                                            \n",
      "                                                                 \n",
      " conv3d_58 (Conv3D)          (None, 3, 15, 15, 128)    221312    \n",
      "                                                                 \n",
      " activation_58 (Activation)  (None, 3, 15, 15, 128)    0         \n",
      "                                                                 \n",
      " batch_normalization_104 (Ba  (None, 3, 15, 15, 128)   512       \n",
      " tchNormalization)                                               \n",
      "                                                                 \n",
      " conv3d_59 (Conv3D)          (None, 3, 15, 15, 128)    442496    \n",
      "                                                                 \n",
      " activation_59 (Activation)  (None, 3, 15, 15, 128)    0         \n",
      "                                                                 \n",
      " batch_normalization_105 (Ba  (None, 3, 15, 15, 128)   512       \n",
      " tchNormalization)                                               \n",
      "                                                                 \n",
      " max_pooling3d_51 (MaxPoolin  (None, 1, 7, 7, 128)     0         \n",
      " g3D)                                                            \n",
      "                                                                 \n",
      " flatten_17 (Flatten)        (None, 6272)              0         \n",
      "                                                                 \n",
      " dense_46 (Dense)            (None, 64)                401472    \n",
      "                                                                 \n",
      " batch_normalization_106 (Ba  (None, 64)               256       \n",
      " tchNormalization)                                               \n",
      "                                                                 \n",
      " dropout_35 (Dropout)        (None, 64)                0         \n",
      "                                                                 \n",
      " dense_47 (Dense)            (None, 64)                4160      \n",
      "                                                                 \n",
      " batch_normalization_107 (Ba  (None, 64)               256       \n",
      " tchNormalization)                                               \n",
      "                                                                 \n",
      " dropout_36 (Dropout)        (None, 64)                0         \n",
      "                                                                 \n",
      " dense_48 (Dense)            (None, 5)                 325       \n",
      "                                                                 \n",
      "=================================================================\n",
      "Total params: 1,287,989\n",
      "Trainable params: 1,286,773\n",
      "Non-trainable params: 1,216\n",
      "_________________________________________________________________\n",
      "None\n"
     ]
    }
   ],
   "source": [
    "input_shape=(30,120,120,3)\n",
    "\n",
    "CNNlstm_2 = Sequential()\n",
    "CNNlstm_2.add(Conv3D(16, (3,3,3), padding='same',\n",
    "         input_shape=(input_shape)))\n",
    "CNNlstm_2.add(Activation('relu'))\n",
    "CNNlstm_2.add(BatchNormalization())\n",
    "\n",
    "CNNlstm_2.add(Conv3D(16, (3,3,3), padding='same',\n",
    "         input_shape=(input_shape)))\n",
    "CNNlstm_2.add(Activation('relu'))\n",
    "CNNlstm_2.add(BatchNormalization())\n",
    "\n",
    "CNNlstm_2.add(MaxPooling3D(pool_size=(2, 2, 2)))\n",
    "\n",
    "CNNlstm_2.add(Conv3D(32, (3,3,3), padding='same'))\n",
    "CNNlstm_2.add(Activation('relu'))\n",
    "CNNlstm_2.add(BatchNormalization())\n",
    "\n",
    "CNNlstm_2.add(Conv3D(32, (3,3,3), padding='same'))\n",
    "CNNlstm_2.add(Activation('relu'))\n",
    "CNNlstm_2.add(BatchNormalization())\n",
    "\n",
    "CNNlstm_2.add(MaxPooling3D(pool_size=(2, 2, 2)))\n",
    "\n",
    "CNNlstm_2.add(Conv3D(64, (3,3,3), padding='same'))\n",
    "CNNlstm_2.add(Activation('relu'))\n",
    "CNNlstm_2.add(BatchNormalization())\n",
    "\n",
    "CNNlstm_2.add(Conv3D(64, (3,3,3), padding='same'))\n",
    "CNNlstm_2.add(Activation('relu'))\n",
    "CNNlstm_2.add(BatchNormalization())\n",
    "\n",
    "CNNlstm_2.add(MaxPooling3D(pool_size=(2, 2, 2)))\n",
    "\n",
    "CNNlstm_2.add(Conv3D(128, (3,3,3), padding='same'))\n",
    "CNNlstm_2.add(Activation('relu'))\n",
    "CNNlstm_2.add(BatchNormalization())\n",
    "\n",
    "CNNlstm_2.add(Conv3D(128, (3,3,3), padding='same'))\n",
    "CNNlstm_2.add(Activation('relu'))\n",
    "CNNlstm_2.add(BatchNormalization())\n",
    "CNNlstm_2.add(MaxPooling3D(pool_size=(2, 2, 2)))\n",
    "\n",
    "\n",
    "CNNlstm_2.add(Flatten())\n",
    "CNNlstm_2.add(Dense(64,activation='relu'))\n",
    "CNNlstm_2.add(BatchNormalization())\n",
    "CNNlstm_2.add(Dropout(0.25))\n",
    "\n",
    "CNNlstm_2.add(Dense(64,activation='relu'))\n",
    "CNNlstm_2.add(BatchNormalization())\n",
    "CNNlstm_2.add(Dropout(0.25))\n",
    "\n",
    "\n",
    "CNNlstm_2.add(Dense(5,activation='softmax'))\n",
    "\n",
    "optimiser = optimizers.Adam()\n",
    "CNNlstm_2.compile(optimizer=optimiser, loss='categorical_crossentropy', metrics=['categorical_accuracy'])\n",
    "print (CNNlstm_2.summary())"
   ]
  },
  {
   "cell_type": "code",
   "execution_count": 148,
   "metadata": {},
   "outputs": [
    {
     "name": "stdout",
     "output_type": "stream",
     "text": [
      "Total Params in model: 1287989\n"
     ]
    }
   ],
   "source": [
    "print(\"Total Params in model:\", CNNlstm_2.count_params())"
   ]
  },
  {
   "cell_type": "code",
   "execution_count": 149,
   "metadata": {},
   "outputs": [
    {
     "name": "stdout",
     "output_type": "stream",
     "text": [
      "# training sequences = 663\n",
      "# validation sequences = 100\n",
      "# epochs = 25\n"
     ]
    }
   ],
   "source": [
    "batch_size = 20\n",
    "curr_dt_time = datetime.datetime.now()\n",
    "train_path = 'datasets/Project_data/train'\n",
    "val_path = 'datasets/Project_data/val'\n",
    "num_train_sequences = len(train_doc)\n",
    "print('# training sequences =', num_train_sequences)\n",
    "num_val_sequences = len(val_doc)\n",
    "print('# validation sequences =', num_val_sequences)\n",
    "# choose the number of epochs\n",
    "num_epochs = 25\n",
    "print ('# epochs =', num_epochs)\n"
   ]
  },
  {
   "cell_type": "code",
   "execution_count": 150,
   "metadata": {},
   "outputs": [],
   "source": [
    "train_generator = generatorLSTM(train_path, train_doc, batch_size)\n",
    "val_generator = generatorLSTM(val_path, val_doc, batch_size)\n",
    "\n",
    "model_name = 'model_init' + '_' + str(curr_dt_time).replace(' ','').replace(':','_') + '/'\n",
    "    \n",
    "if not os.path.exists(model_name):\n",
    "    os.mkdir(model_name)\n",
    "        \n",
    "filepath = model_name + 'model-{epoch:05d}-{loss:.5f}-{categorical_accuracy:.5f}-{val_loss:.5f}-{val_categorical_accuracy:.5f}.h5'\n",
    "\n",
    "checkpoint = ModelCheckpoint(filepath, monitor='val_loss', verbose=1, save_best_only=True, save_weights_only=False, mode='auto')\n",
    "\n",
    "# write the REducelronplateau code here\n",
    "LR = ReduceLROnPlateau(monitor='val_loss', factor=0.2, patience=4)\n",
    "\n",
    "callbacks_list = [checkpoint, LR]\n",
    "\n",
    "if (num_train_sequences%batch_size) == 0:\n",
    "    steps_per_epoch = int(num_train_sequences/batch_size)\n",
    "else:\n",
    "    steps_per_epoch = (num_train_sequences//batch_size) + 1\n",
    "\n",
    "if (num_val_sequences%batch_size) == 0:\n",
    "    validation_steps = int(num_val_sequences/batch_size)\n",
    "else:\n",
    "    validation_steps = (num_val_sequences//batch_size) + 1"
   ]
  },
  {
   "cell_type": "code",
   "execution_count": 151,
   "metadata": {},
   "outputs": [
    {
     "name": "stdout",
     "output_type": "stream",
     "text": [
      "Source path =  datasets/Project_data/train ; batch size = 20\n",
      "Epoch 1/25\n",
      "34/34 [==============================] - ETA: 0s - loss: 1.5786 - categorical_accuracy: 0.3756Source path =  datasets/Project_data/val ; batch size = 20\n",
      "\n",
      "Epoch 00001: val_loss improved from inf to 3.36985, saving model to model_init_2024-05-0209_13_07.991341/model-00001-1.57862-0.37557-3.36985-0.23000.h5\n",
      "34/34 [==============================] - 105s 3s/step - loss: 1.5786 - categorical_accuracy: 0.3756 - val_loss: 3.3698 - val_categorical_accuracy: 0.2300 - lr: 0.0010\n",
      "Epoch 2/25\n",
      "34/34 [==============================] - ETA: 0s - loss: 1.3213 - categorical_accuracy: 0.4932\n",
      "Epoch 00002: val_loss improved from 3.36985 to 2.66077, saving model to model_init_2024-05-0209_13_07.991341/model-00002-1.32135-0.49321-2.66077-0.17000.h5\n",
      "34/34 [==============================] - 74s 2s/step - loss: 1.3213 - categorical_accuracy: 0.4932 - val_loss: 2.6608 - val_categorical_accuracy: 0.1700 - lr: 0.0010\n",
      "Epoch 3/25\n",
      "34/34 [==============================] - ETA: 0s - loss: 1.0521 - categorical_accuracy: 0.5852\n",
      "Epoch 00003: val_loss did not improve from 2.66077\n",
      "34/34 [==============================] - 48s 1s/step - loss: 1.0521 - categorical_accuracy: 0.5852 - val_loss: 3.1847 - val_categorical_accuracy: 0.2100 - lr: 0.0010\n",
      "Epoch 4/25\n",
      "34/34 [==============================] - ETA: 0s - loss: 1.0535 - categorical_accuracy: 0.5943\n",
      "Epoch 00004: val_loss improved from 2.66077 to 2.49946, saving model to model_init_2024-05-0209_13_07.991341/model-00004-1.05346-0.59427-2.49946-0.20000.h5\n",
      "34/34 [==============================] - 49s 1s/step - loss: 1.0535 - categorical_accuracy: 0.5943 - val_loss: 2.4995 - val_categorical_accuracy: 0.2000 - lr: 0.0010\n",
      "Epoch 5/25\n",
      "34/34 [==============================] - ETA: 0s - loss: 0.9286 - categorical_accuracy: 0.6320\n",
      "Epoch 00005: val_loss improved from 2.49946 to 1.95312, saving model to model_init_2024-05-0209_13_07.991341/model-00005-0.92864-0.63198-1.95312-0.28000.h5\n",
      "34/34 [==============================] - 49s 1s/step - loss: 0.9286 - categorical_accuracy: 0.6320 - val_loss: 1.9531 - val_categorical_accuracy: 0.2800 - lr: 0.0010\n",
      "Epoch 6/25\n",
      "34/34 [==============================] - ETA: 0s - loss: 0.9861 - categorical_accuracy: 0.6229\n",
      "Epoch 00006: val_loss did not improve from 1.95312\n",
      "34/34 [==============================] - 48s 1s/step - loss: 0.9861 - categorical_accuracy: 0.6229 - val_loss: 2.2890 - val_categorical_accuracy: 0.2700 - lr: 0.0010\n",
      "Epoch 7/25\n",
      "34/34 [==============================] - ETA: 0s - loss: 0.9980 - categorical_accuracy: 0.6124\n",
      "Epoch 00007: val_loss did not improve from 1.95312\n",
      "34/34 [==============================] - 49s 1s/step - loss: 0.9980 - categorical_accuracy: 0.6124 - val_loss: 3.2587 - val_categorical_accuracy: 0.2500 - lr: 0.0010\n",
      "Epoch 8/25\n",
      "34/34 [==============================] - ETA: 0s - loss: 0.8732 - categorical_accuracy: 0.6621\n",
      "Epoch 00008: val_loss did not improve from 1.95312\n",
      "34/34 [==============================] - 49s 1s/step - loss: 0.8732 - categorical_accuracy: 0.6621 - val_loss: 2.5986 - val_categorical_accuracy: 0.3800 - lr: 0.0010\n",
      "Epoch 9/25\n",
      "34/34 [==============================] - ETA: 0s - loss: 0.8025 - categorical_accuracy: 0.6983\n",
      "Epoch 00009: val_loss improved from 1.95312 to 1.78069, saving model to model_init_2024-05-0209_13_07.991341/model-00009-0.80249-0.69834-1.78069-0.39000.h5\n",
      "34/34 [==============================] - 50s 1s/step - loss: 0.8025 - categorical_accuracy: 0.6983 - val_loss: 1.7807 - val_categorical_accuracy: 0.3900 - lr: 0.0010\n",
      "Epoch 10/25\n",
      "34/34 [==============================] - ETA: 0s - loss: 0.6694 - categorical_accuracy: 0.7496\n",
      "Epoch 00010: val_loss did not improve from 1.78069\n",
      "34/34 [==============================] - 48s 1s/step - loss: 0.6694 - categorical_accuracy: 0.7496 - val_loss: 2.0993 - val_categorical_accuracy: 0.3500 - lr: 0.0010\n",
      "Epoch 11/25\n",
      "34/34 [==============================] - ETA: 0s - loss: 0.6378 - categorical_accuracy: 0.7707\n",
      "Epoch 00011: val_loss improved from 1.78069 to 1.08412, saving model to model_init_2024-05-0209_13_07.991341/model-00011-0.63780-0.77074-1.08412-0.59000.h5\n",
      "34/34 [==============================] - 49s 1s/step - loss: 0.6378 - categorical_accuracy: 0.7707 - val_loss: 1.0841 - val_categorical_accuracy: 0.5900 - lr: 0.0010\n",
      "Epoch 12/25\n",
      "34/34 [==============================] - ETA: 0s - loss: 0.6365 - categorical_accuracy: 0.7632\n",
      "Epoch 00012: val_loss did not improve from 1.08412\n",
      "34/34 [==============================] - 49s 1s/step - loss: 0.6365 - categorical_accuracy: 0.7632 - val_loss: 2.8925 - val_categorical_accuracy: 0.2400 - lr: 0.0010\n",
      "Epoch 13/25\n",
      "34/34 [==============================] - ETA: 0s - loss: 0.5328 - categorical_accuracy: 0.7979\n",
      "Epoch 00013: val_loss did not improve from 1.08412\n",
      "34/34 [==============================] - 48s 1s/step - loss: 0.5328 - categorical_accuracy: 0.7979 - val_loss: 3.7358 - val_categorical_accuracy: 0.2200 - lr: 0.0010\n",
      "Epoch 14/25\n",
      "34/34 [==============================] - ETA: 0s - loss: 0.4990 - categorical_accuracy: 0.8205\n",
      "Epoch 00014: val_loss did not improve from 1.08412\n",
      "34/34 [==============================] - 48s 1s/step - loss: 0.4990 - categorical_accuracy: 0.8205 - val_loss: 2.7213 - val_categorical_accuracy: 0.1900 - lr: 0.0010\n",
      "Epoch 15/25\n",
      "34/34 [==============================] - ETA: 0s - loss: 0.4477 - categorical_accuracy: 0.8431\n",
      "Epoch 00015: val_loss did not improve from 1.08412\n",
      "34/34 [==============================] - 49s 1s/step - loss: 0.4477 - categorical_accuracy: 0.8431 - val_loss: 1.2922 - val_categorical_accuracy: 0.4900 - lr: 0.0010\n",
      "Epoch 16/25\n",
      "34/34 [==============================] - ETA: 0s - loss: 0.3737 - categorical_accuracy: 0.8627\n",
      "Epoch 00016: val_loss did not improve from 1.08412\n",
      "34/34 [==============================] - 48s 1s/step - loss: 0.3737 - categorical_accuracy: 0.8627 - val_loss: 1.4334 - val_categorical_accuracy: 0.4700 - lr: 2.0000e-04\n",
      "Epoch 17/25\n",
      "34/34 [==============================] - ETA: 0s - loss: 0.3670 - categorical_accuracy: 0.8763\n",
      "Epoch 00017: val_loss did not improve from 1.08412\n",
      "34/34 [==============================] - 49s 1s/step - loss: 0.3670 - categorical_accuracy: 0.8763 - val_loss: 1.1952 - val_categorical_accuracy: 0.5400 - lr: 2.0000e-04\n",
      "Epoch 18/25\n",
      "34/34 [==============================] - ETA: 0s - loss: 0.3224 - categorical_accuracy: 0.8778\n",
      "Epoch 00018: val_loss did not improve from 1.08412\n",
      "34/34 [==============================] - 49s 1s/step - loss: 0.3224 - categorical_accuracy: 0.8778 - val_loss: 1.1885 - val_categorical_accuracy: 0.5300 - lr: 2.0000e-04\n",
      "Epoch 19/25\n",
      "34/34 [==============================] - ETA: 0s - loss: 0.3379 - categorical_accuracy: 0.8824\n",
      "Epoch 00019: val_loss improved from 1.08412 to 1.00987, saving model to model_init_2024-05-0209_13_07.991341/model-00019-0.33787-0.88235-1.00987-0.57000.h5\n",
      "34/34 [==============================] - 50s 1s/step - loss: 0.3379 - categorical_accuracy: 0.8824 - val_loss: 1.0099 - val_categorical_accuracy: 0.5700 - lr: 2.0000e-04\n",
      "Epoch 20/25\n",
      "34/34 [==============================] - ETA: 0s - loss: 0.3348 - categorical_accuracy: 0.8944\n",
      "Epoch 00020: val_loss improved from 1.00987 to 0.61206, saving model to model_init_2024-05-0209_13_07.991341/model-00020-0.33481-0.89442-0.61206-0.76000.h5\n",
      "34/34 [==============================] - 48s 1s/step - loss: 0.3348 - categorical_accuracy: 0.8944 - val_loss: 0.6121 - val_categorical_accuracy: 0.7600 - lr: 2.0000e-04\n",
      "Epoch 21/25\n",
      "34/34 [==============================] - ETA: 0s - loss: 0.3575 - categorical_accuracy: 0.8824\n",
      "Epoch 00021: val_loss did not improve from 0.61206\n",
      "34/34 [==============================] - 51s 2s/step - loss: 0.3575 - categorical_accuracy: 0.8824 - val_loss: 0.9936 - val_categorical_accuracy: 0.6600 - lr: 2.0000e-04\n",
      "Epoch 22/25\n",
      "34/34 [==============================] - ETA: 0s - loss: 0.3040 - categorical_accuracy: 0.8974\n",
      "Epoch 00022: val_loss did not improve from 0.61206\n",
      "34/34 [==============================] - 49s 1s/step - loss: 0.3040 - categorical_accuracy: 0.8974 - val_loss: 0.9391 - val_categorical_accuracy: 0.7000 - lr: 2.0000e-04\n",
      "Epoch 23/25\n",
      "34/34 [==============================] - ETA: 0s - loss: 0.2788 - categorical_accuracy: 0.9155\n",
      "Epoch 00023: val_loss did not improve from 0.61206\n",
      "34/34 [==============================] - 49s 1s/step - loss: 0.2788 - categorical_accuracy: 0.9155 - val_loss: 0.8775 - val_categorical_accuracy: 0.7500 - lr: 2.0000e-04\n",
      "Epoch 24/25\n",
      "34/34 [==============================] - ETA: 0s - loss: 0.2881 - categorical_accuracy: 0.9095\n",
      "Epoch 00024: val_loss did not improve from 0.61206\n",
      "34/34 [==============================] - 49s 1s/step - loss: 0.2881 - categorical_accuracy: 0.9095 - val_loss: 0.8000 - val_categorical_accuracy: 0.7300 - lr: 2.0000e-04\n",
      "Epoch 25/25\n",
      "34/34 [==============================] - ETA: 0s - loss: 0.2521 - categorical_accuracy: 0.9246\n",
      "Epoch 00025: val_loss did not improve from 0.61206\n",
      "34/34 [==============================] - 152s 5s/step - loss: 0.2521 - categorical_accuracy: 0.9246 - val_loss: 0.6605 - val_categorical_accuracy: 0.7800 - lr: 4.0000e-05\n"
     ]
    }
   ],
   "source": [
    "history = CNNlstm_2.fit(train_generator, steps_per_epoch=steps_per_epoch, epochs=num_epochs, verbose=1, \n",
    "                    callbacks=callbacks_list, validation_data=val_generator, \n",
    "                    validation_steps=validation_steps, class_weight=None,  initial_epoch=0)"
   ]
  },
  {
   "cell_type": "code",
   "execution_count": 153,
   "metadata": {},
   "outputs": [
    {
     "data": {
      "image/png": "[encoded data removed]",
      "text/plain": [
       "<Figure size 432x288 with 1 Axes>"
      ]
     },
     "metadata": {
      "needs_background": "light"
     },
     "output_type": "display_data"
    },
    {
     "data": {
      "image/png": "[encoded data removed]",
      "text/plain": [
       "<Figure size 432x288 with 1 Axes>"
      ]
     },
     "metadata": {
      "needs_background": "light"
     },
     "output_type": "display_data"
    }
   ],
   "source": [
    "# Plotting the result of Model 7 :\n",
    "\n",
    "# summarize history for accuracy\n",
    "plt.plot(history.history['categorical_accuracy'])\n",
    "plt.plot(history.history['val_categorical_accuracy'])\n",
    "plt.title('model accuracy')\n",
    "plt.ylabel('accuracy')\n",
    "plt.xlabel('epoch')\n",
    "plt.legend(['train', 'test'], loc='upper left')\n",
    "plt.show()\n",
    "\n",
    "# summarize history for loss\n",
    "plt.plot(history.history['loss'])\n",
    "plt.plot(history.history['val_loss'])\n",
    "plt.title('model loss')\n",
    "plt.ylabel('loss')\n",
    "plt.xlabel('epoch')\n",
    "plt.legend(['train', 'test'], loc='upper left')\n",
    "plt.show()"
   ]
  },
  {
   "cell_type": "code",
   "execution_count": 155,
   "metadata": {},
   "outputs": [
    {
     "name": "stdout",
     "output_type": "stream",
     "text": [
      "      Model Name  Model Accuracy  Model Loss  Val Accuracy    Val Loss\n",
      "0  modelConv3D_1       44.494721  136.417484     25.999999  219.879627\n",
      "0  modelConv3D_2       38.612369  153.423560     30.000001  178.754282\n",
      "0  modelConv3D_2       38.612369  153.423560     30.000001  178.754282\n",
      "0  modelConv3D_3       42.986426  145.889616     31.000000  177.600634\n",
      "0  modelConv3D_4       45.248869  134.927368     36.000001  141.790569\n",
      "0  modelConv3D_5       59.125191  101.061988     52.999997  128.816605\n",
      "0  modelConv3D_6       80.090499   55.362916     69.999999   83.913064\n",
      "0      CNNlstm_1       92.458522   25.206617     77.999997   66.047078\n",
      "0      CNNlstm_2       92.458522   25.206617     77.999997   66.047078\n"
     ]
    }
   ],
   "source": [
    "df1 = model_result(\"CNNlstm_2\",history.history['categorical_accuracy'][-1], history.history['loss'][-1] , history.history['val_categorical_accuracy'][-1], history.history['val_loss'][-1])\n",
    "\n",
    "model_detail_df = pd.concat([model_detail_df,df1])\n",
    "print(model_detail_df.head(20))"
   ]
  },
  {
   "cell_type": "markdown",
   "metadata": {},
   "source": [
    "# Model 8 : CNN - LSTM Model, Increase network paramaters"
   ]
  },
  {
   "cell_type": "code",
   "execution_count": 158,
   "metadata": {},
   "outputs": [
    {
     "name": "stdout",
     "output_type": "stream",
     "text": [
      "Model: \"sequential_19\"\n",
      "_________________________________________________________________\n",
      " Layer (type)                Output Shape              Param #   \n",
      "=================================================================\n",
      " conv3d_68 (Conv3D)          (None, 30, 120, 120, 16)  1312      \n",
      "                                                                 \n",
      " activation_68 (Activation)  (None, 30, 120, 120, 16)  0         \n",
      "                                                                 \n",
      " batch_normalization_118 (Ba  (None, 30, 120, 120, 16)  64       \n",
      " tchNormalization)                                               \n",
      "                                                                 \n",
      " conv3d_69 (Conv3D)          (None, 30, 120, 120, 16)  6928      \n",
      "                                                                 \n",
      " activation_69 (Activation)  (None, 30, 120, 120, 16)  0         \n",
      "                                                                 \n",
      " batch_normalization_119 (Ba  (None, 30, 120, 120, 16)  64       \n",
      " tchNormalization)                                               \n",
      "                                                                 \n",
      " max_pooling3d_56 (MaxPoolin  (None, 15, 60, 60, 16)   0         \n",
      " g3D)                                                            \n",
      "                                                                 \n",
      " conv3d_70 (Conv3D)          (None, 15, 60, 60, 32)    13856     \n",
      "                                                                 \n",
      " activation_70 (Activation)  (None, 15, 60, 60, 32)    0         \n",
      "                                                                 \n",
      " batch_normalization_120 (Ba  (None, 15, 60, 60, 32)   128       \n",
      " tchNormalization)                                               \n",
      "                                                                 \n",
      " conv3d_71 (Conv3D)          (None, 15, 60, 60, 32)    27680     \n",
      "                                                                 \n",
      " activation_71 (Activation)  (None, 15, 60, 60, 32)    0         \n",
      "                                                                 \n",
      " batch_normalization_121 (Ba  (None, 15, 60, 60, 32)   128       \n",
      " tchNormalization)                                               \n",
      "                                                                 \n",
      " max_pooling3d_57 (MaxPoolin  (None, 7, 30, 30, 32)    0         \n",
      " g3D)                                                            \n",
      "                                                                 \n",
      " conv3d_72 (Conv3D)          (None, 7, 30, 30, 64)     55360     \n",
      "                                                                 \n",
      " activation_72 (Activation)  (None, 7, 30, 30, 64)     0         \n",
      "                                                                 \n",
      " batch_normalization_122 (Ba  (None, 7, 30, 30, 64)    256       \n",
      " tchNormalization)                                               \n",
      "                                                                 \n",
      " conv3d_73 (Conv3D)          (None, 7, 30, 30, 64)     110656    \n",
      "                                                                 \n",
      " activation_73 (Activation)  (None, 7, 30, 30, 64)     0         \n",
      "                                                                 \n",
      " batch_normalization_123 (Ba  (None, 7, 30, 30, 64)    256       \n",
      " tchNormalization)                                               \n",
      "                                                                 \n",
      " max_pooling3d_58 (MaxPoolin  (None, 3, 15, 15, 64)    0         \n",
      " g3D)                                                            \n",
      "                                                                 \n",
      " conv3d_74 (Conv3D)          (None, 3, 15, 15, 128)    221312    \n",
      "                                                                 \n",
      " activation_74 (Activation)  (None, 3, 15, 15, 128)    0         \n",
      "                                                                 \n",
      " batch_normalization_124 (Ba  (None, 3, 15, 15, 128)   512       \n",
      " tchNormalization)                                               \n",
      "                                                                 \n",
      " conv3d_75 (Conv3D)          (None, 3, 15, 15, 128)    442496    \n",
      "                                                                 \n",
      " activation_75 (Activation)  (None, 3, 15, 15, 128)    0         \n",
      "                                                                 \n",
      " batch_normalization_125 (Ba  (None, 3, 15, 15, 128)   512       \n",
      " tchNormalization)                                               \n",
      "                                                                 \n",
      " max_pooling3d_59 (MaxPoolin  (None, 1, 7, 7, 128)     0         \n",
      " g3D)                                                            \n",
      "                                                                 \n",
      " flatten_19 (Flatten)        (None, 6272)              0         \n",
      "                                                                 \n",
      " dense_52 (Dense)            (None, 128)               802944    \n",
      "                                                                 \n",
      " batch_normalization_126 (Ba  (None, 128)              512       \n",
      " tchNormalization)                                               \n",
      "                                                                 \n",
      " dropout_39 (Dropout)        (None, 128)               0         \n",
      "                                                                 \n",
      " dense_53 (Dense)            (None, 128)               16512     \n",
      "                                                                 \n",
      " batch_normalization_127 (Ba  (None, 128)              512       \n",
      " tchNormalization)                                               \n",
      "                                                                 \n",
      " dropout_40 (Dropout)        (None, 128)               0         \n",
      "                                                                 \n",
      " dense_54 (Dense)            (None, 5)                 645       \n",
      "                                                                 \n",
      "=================================================================\n",
      "Total params: 1,702,645\n",
      "Trainable params: 1,701,173\n",
      "Non-trainable params: 1,472\n",
      "_________________________________________________________________\n",
      "None\n"
     ]
    }
   ],
   "source": [
    "input_shape=(30,120,120,3)\n",
    "\n",
    "CNNlstm_3 = Sequential()\n",
    "CNNlstm_3.add(Conv3D(16, (3,3,3), padding='same',\n",
    "         input_shape=(input_shape)))\n",
    "CNNlstm_3.add(Activation('relu'))\n",
    "CNNlstm_3.add(BatchNormalization())\n",
    "\n",
    "CNNlstm_3.add(Conv3D(16, (3,3,3), padding='same',\n",
    "         input_shape=(input_shape)))\n",
    "CNNlstm_3.add(Activation('relu'))\n",
    "CNNlstm_3.add(BatchNormalization())\n",
    "\n",
    "CNNlstm_3.add(MaxPooling3D(pool_size=(2, 2, 2)))\n",
    "\n",
    "CNNlstm_3.add(Conv3D(32, (3,3,3), padding='same'))\n",
    "CNNlstm_3.add(Activation('relu'))\n",
    "CNNlstm_3.add(BatchNormalization())\n",
    "\n",
    "CNNlstm_3.add(Conv3D(32, (3,3,3), padding='same'))\n",
    "CNNlstm_3.add(Activation('relu'))\n",
    "CNNlstm_3.add(BatchNormalization())\n",
    "\n",
    "CNNlstm_3.add(MaxPooling3D(pool_size=(2, 2, 2)))\n",
    "\n",
    "CNNlstm_3.add(Conv3D(64, (3,3,3), padding='same'))\n",
    "CNNlstm_3.add(Activation('relu'))\n",
    "CNNlstm_3.add(BatchNormalization())\n",
    "\n",
    "CNNlstm_3.add(Conv3D(64, (3,3,3), padding='same'))\n",
    "CNNlstm_3.add(Activation('relu'))\n",
    "CNNlstm_3.add(BatchNormalization())\n",
    "\n",
    "CNNlstm_3.add(MaxPooling3D(pool_size=(2, 2, 2)))\n",
    "\n",
    "CNNlstm_3.add(Conv3D(128, (3,3,3), padding='same'))\n",
    "CNNlstm_3.add(Activation('relu'))\n",
    "CNNlstm_3.add(BatchNormalization())\n",
    "\n",
    "CNNlstm_3.add(Conv3D(128, (3,3,3), padding='same'))\n",
    "CNNlstm_3.add(Activation('relu'))\n",
    "CNNlstm_3.add(BatchNormalization())\n",
    "CNNlstm_3.add(MaxPooling3D(pool_size=(2, 2, 2)))\n",
    "\n",
    "\n",
    "CNNlstm_3.add(Flatten())\n",
    "CNNlstm_3.add(Dense(128,activation='relu'))\n",
    "CNNlstm_3.add(BatchNormalization())\n",
    "CNNlstm_3.add(Dropout(0.25))\n",
    "\n",
    "CNNlstm_3.add(Dense(128,activation='relu'))\n",
    "CNNlstm_3.add(BatchNormalization())\n",
    "CNNlstm_3.add(Dropout(0.25))\n",
    "\n",
    "\n",
    "CNNlstm_3.add(Dense(5,activation='softmax'))\n",
    "\n",
    "optimiser = optimizers.Adam()\n",
    "CNNlstm_3.compile(optimizer=optimiser, loss='categorical_crossentropy', metrics=['categorical_accuracy'])\n",
    "\n",
    "print (CNNlstm_3.summary())"
   ]
  },
  {
   "cell_type": "code",
   "execution_count": 159,
   "metadata": {},
   "outputs": [
    {
     "name": "stdout",
     "output_type": "stream",
     "text": [
      "Total Params in model: 1702645\n"
     ]
    }
   ],
   "source": [
    "print(\"Total Params in model:\", CNNlstm_3.count_params())"
   ]
  },
  {
   "cell_type": "code",
   "execution_count": 160,
   "metadata": {},
   "outputs": [
    {
     "name": "stdout",
     "output_type": "stream",
     "text": [
      "# training sequences = 663\n",
      "# validation sequences = 100\n",
      "# epochs = 25\n"
     ]
    }
   ],
   "source": [
    "batch_size = 20\n",
    "curr_dt_time = datetime.datetime.now()\n",
    "train_path = 'datasets/Project_data/train'\n",
    "val_path = 'datasets/Project_data/val'\n",
    "num_train_sequences = len(train_doc)\n",
    "print('# training sequences =', num_train_sequences)\n",
    "num_val_sequences = len(val_doc)\n",
    "print('# validation sequences =', num_val_sequences)\n",
    "# choose the number of epochs\n",
    "num_epochs = 25\n",
    "print ('# epochs =', num_epochs)\n"
   ]
  },
  {
   "cell_type": "code",
   "execution_count": 161,
   "metadata": {},
   "outputs": [],
   "source": [
    "train_generator = generatorLSTM(train_path, train_doc, batch_size)\n",
    "val_generator = generatorLSTM(val_path, val_doc, batch_size)\n",
    "\n",
    "model_name = 'model_init' + '_' + str(curr_dt_time).replace(' ','').replace(':','_') + '/'\n",
    "    \n",
    "if not os.path.exists(model_name):\n",
    "    os.mkdir(model_name)\n",
    "        \n",
    "filepath = model_name + 'model-{epoch:05d}-{loss:.5f}-{categorical_accuracy:.5f}-{val_loss:.5f}-{val_categorical_accuracy:.5f}.h5'\n",
    "\n",
    "checkpoint = ModelCheckpoint(filepath, monitor='val_loss', verbose=1, save_best_only=False, save_weights_only= True, mode='auto')\n",
    "\n",
    "# write the REducelronplateau code here\n",
    "LR = ReduceLROnPlateau(monitor='val_loss', factor=0.2, patience=4)\n",
    "\n",
    "callbacks_list = [checkpoint, LR]\n",
    "\n",
    "if (num_train_sequences%batch_size) == 0:\n",
    "    steps_per_epoch = int(num_train_sequences/batch_size)\n",
    "else:\n",
    "    steps_per_epoch = (num_train_sequences//batch_size) + 1\n",
    "\n",
    "if (num_val_sequences%batch_size) == 0:\n",
    "    validation_steps = int(num_val_sequences/batch_size)\n",
    "else:\n",
    "    validation_steps = (num_val_sequences//batch_size) + 1"
   ]
  },
  {
   "cell_type": "code",
   "execution_count": 162,
   "metadata": {},
   "outputs": [
    {
     "name": "stdout",
     "output_type": "stream",
     "text": [
      "Source path =  datasets/Project_data/train ; batch size = 20\n",
      "Epoch 1/25\n",
      "34/34 [==============================] - ETA: 0s - loss: 1.6017 - categorical_accuracy: 0.3891Source path =  datasets/Project_data/val ; batch size = 20\n",
      "\n",
      "Epoch 00001: saving model to model_init_2024-05-0209_40_17.312999/model-00001-1.60167-0.38914-3.67718-0.21000.h5\n",
      "34/34 [==============================] - 87s 3s/step - loss: 1.6017 - categorical_accuracy: 0.3891 - val_loss: 3.6772 - val_categorical_accuracy: 0.2100 - lr: 0.0010\n",
      "Epoch 2/25\n",
      "34/34 [==============================] - ETA: 0s - loss: 1.2512 - categorical_accuracy: 0.5053\n",
      "Epoch 00002: saving model to model_init_2024-05-0209_40_17.312999/model-00002-1.25122-0.50528-2.94417-0.22000.h5\n",
      "34/34 [==============================] - 49s 1s/step - loss: 1.2512 - categorical_accuracy: 0.5053 - val_loss: 2.9442 - val_categorical_accuracy: 0.2200 - lr: 0.0010\n",
      "Epoch 3/25\n",
      "34/34 [==============================] - ETA: 0s - loss: 1.1135 - categorical_accuracy: 0.5596\n",
      "Epoch 00003: saving model to model_init_2024-05-0209_40_17.312999/model-00003-1.11352-0.55958-3.28341-0.22000.h5\n",
      "34/34 [==============================] - 49s 1s/step - loss: 1.1135 - categorical_accuracy: 0.5596 - val_loss: 3.2834 - val_categorical_accuracy: 0.2200 - lr: 0.0010\n",
      "Epoch 4/25\n",
      "34/34 [==============================] - ETA: 0s - loss: 1.0384 - categorical_accuracy: 0.5973\n",
      "Epoch 00004: saving model to model_init_2024-05-0209_40_17.312999/model-00004-1.03838-0.59729-1.90621-0.33000.h5\n",
      "34/34 [==============================] - 49s 1s/step - loss: 1.0384 - categorical_accuracy: 0.5973 - val_loss: 1.9062 - val_categorical_accuracy: 0.3300 - lr: 0.0010\n",
      "Epoch 5/25\n",
      "34/34 [==============================] - ETA: 0s - loss: 0.9397 - categorical_accuracy: 0.6018\n",
      "Epoch 00005: saving model to model_init_2024-05-0209_40_17.312999/model-00005-0.93968-0.60181-3.66998-0.21000.h5\n",
      "34/34 [==============================] - 49s 1s/step - loss: 0.9397 - categorical_accuracy: 0.6018 - val_loss: 3.6700 - val_categorical_accuracy: 0.2100 - lr: 0.0010\n",
      "Epoch 6/25\n",
      "34/34 [==============================] - ETA: 0s - loss: 0.9524 - categorical_accuracy: 0.6244\n",
      "Epoch 00006: saving model to model_init_2024-05-0209_40_17.312999/model-00006-0.95238-0.62443-3.33944-0.21000.h5\n",
      "34/34 [==============================] - 49s 1s/step - loss: 0.9524 - categorical_accuracy: 0.6244 - val_loss: 3.3394 - val_categorical_accuracy: 0.2100 - lr: 0.0010\n",
      "Epoch 7/25\n",
      "34/34 [==============================] - ETA: 0s - loss: 0.8248 - categorical_accuracy: 0.6893\n",
      "Epoch 00007: saving model to model_init_2024-05-0209_40_17.312999/model-00007-0.82478-0.68929-5.88427-0.19000.h5\n",
      "34/34 [==============================] - 49s 1s/step - loss: 0.8248 - categorical_accuracy: 0.6893 - val_loss: 5.8843 - val_categorical_accuracy: 0.1900 - lr: 0.0010\n",
      "Epoch 8/25\n",
      "34/34 [==============================] - ETA: 0s - loss: 0.7976 - categorical_accuracy: 0.6983\n",
      "Epoch 00008: saving model to model_init_2024-05-0209_40_17.312999/model-00008-0.79755-0.69834-3.27894-0.21000.h5\n",
      "34/34 [==============================] - 49s 1s/step - loss: 0.7976 - categorical_accuracy: 0.6983 - val_loss: 3.2789 - val_categorical_accuracy: 0.2100 - lr: 0.0010\n",
      "Epoch 9/25\n",
      "34/34 [==============================] - ETA: 0s - loss: 0.7910 - categorical_accuracy: 0.6908\n",
      "Epoch 00009: saving model to model_init_2024-05-0209_40_17.312999/model-00009-0.79101-0.69080-2.17972-0.35000.h5\n",
      "34/34 [==============================] - 49s 1s/step - loss: 0.7910 - categorical_accuracy: 0.6908 - val_loss: 2.1797 - val_categorical_accuracy: 0.3500 - lr: 2.0000e-04\n",
      "Epoch 10/25\n",
      "34/34 [==============================] - ETA: 0s - loss: 0.6560 - categorical_accuracy: 0.7421\n",
      "Epoch 00010: saving model to model_init_2024-05-0209_40_17.312999/model-00010-0.65598-0.74208-2.22178-0.31000.h5\n",
      "34/34 [==============================] - 49s 1s/step - loss: 0.6560 - categorical_accuracy: 0.7421 - val_loss: 2.2218 - val_categorical_accuracy: 0.3100 - lr: 2.0000e-04\n",
      "Epoch 11/25\n",
      "34/34 [==============================] - ETA: 0s - loss: 0.5534 - categorical_accuracy: 0.7753\n",
      "Epoch 00011: saving model to model_init_2024-05-0209_40_17.312999/model-00011-0.55341-0.77526-2.19715-0.30000.h5\n",
      "34/34 [==============================] - 50s 1s/step - loss: 0.5534 - categorical_accuracy: 0.7753 - val_loss: 2.1971 - val_categorical_accuracy: 0.3000 - lr: 2.0000e-04\n",
      "Epoch 12/25\n",
      "34/34 [==============================] - ETA: 0s - loss: 0.5594 - categorical_accuracy: 0.7813\n",
      "Epoch 00012: saving model to model_init_2024-05-0209_40_17.312999/model-00012-0.55943-0.78130-2.04101-0.30000.h5\n",
      "34/34 [==============================] - 49s 1s/step - loss: 0.5594 - categorical_accuracy: 0.7813 - val_loss: 2.0410 - val_categorical_accuracy: 0.3000 - lr: 2.0000e-04\n",
      "Epoch 13/25\n",
      "34/34 [==============================] - ETA: 0s - loss: 0.4885 - categorical_accuracy: 0.8341\n",
      "Epoch 00013: saving model to model_init_2024-05-0209_40_17.312999/model-00013-0.48850-0.83409-1.70403-0.44000.h5\n",
      "34/34 [==============================] - 49s 1s/step - loss: 0.4885 - categorical_accuracy: 0.8341 - val_loss: 1.7040 - val_categorical_accuracy: 0.4400 - lr: 4.0000e-05\n",
      "Epoch 14/25\n",
      "34/34 [==============================] - ETA: 0s - loss: 0.5428 - categorical_accuracy: 0.8024\n",
      "Epoch 00014: saving model to model_init_2024-05-0209_40_17.312999/model-00014-0.54277-0.80241-1.54078-0.45000.h5\n",
      "34/34 [==============================] - 49s 1s/step - loss: 0.5428 - categorical_accuracy: 0.8024 - val_loss: 1.5408 - val_categorical_accuracy: 0.4500 - lr: 4.0000e-05\n",
      "Epoch 15/25\n",
      "34/34 [==============================] - ETA: 0s - loss: 0.4857 - categorical_accuracy: 0.8281\n",
      "Epoch 00015: saving model to model_init_2024-05-0209_40_17.312999/model-00015-0.48567-0.82805-1.23505-0.52000.h5\n",
      "34/34 [==============================] - 49s 1s/step - loss: 0.4857 - categorical_accuracy: 0.8281 - val_loss: 1.2350 - val_categorical_accuracy: 0.5200 - lr: 4.0000e-05\n",
      "Epoch 16/25\n",
      "34/34 [==============================] - ETA: 0s - loss: 0.4959 - categorical_accuracy: 0.8175\n",
      "Epoch 00016: saving model to model_init_2024-05-0209_40_17.312999/model-00016-0.49594-0.81750-1.13380-0.58000.h5\n",
      "34/34 [==============================] - 49s 1s/step - loss: 0.4959 - categorical_accuracy: 0.8175 - val_loss: 1.1338 - val_categorical_accuracy: 0.5800 - lr: 4.0000e-05\n",
      "Epoch 17/25\n",
      "34/34 [==============================] - ETA: 0s - loss: 0.4543 - categorical_accuracy: 0.8250\n",
      "Epoch 00017: saving model to model_init_2024-05-0209_40_17.312999/model-00017-0.45434-0.82504-0.93142-0.66000.h5\n",
      "34/34 [==============================] - 49s 1s/step - loss: 0.4543 - categorical_accuracy: 0.8250 - val_loss: 0.9314 - val_categorical_accuracy: 0.6600 - lr: 4.0000e-05\n",
      "Epoch 18/25\n",
      "34/34 [==============================] - ETA: 0s - loss: 0.4070 - categorical_accuracy: 0.8582\n",
      "Epoch 00018: saving model to model_init_2024-05-0209_40_17.312999/model-00018-0.40702-0.85822-0.87850-0.70000.h5\n",
      "34/34 [==============================] - 49s 1s/step - loss: 0.4070 - categorical_accuracy: 0.8582 - val_loss: 0.8785 - val_categorical_accuracy: 0.7000 - lr: 4.0000e-05\n",
      "Epoch 19/25\n",
      "34/34 [==============================] - ETA: 0s - loss: 0.4586 - categorical_accuracy: 0.8250\n",
      "Epoch 00019: saving model to model_init_2024-05-0209_40_17.312999/model-00019-0.45861-0.82504-0.88179-0.69000.h5\n",
      "34/34 [==============================] - 50s 2s/step - loss: 0.4586 - categorical_accuracy: 0.8250 - val_loss: 0.8818 - val_categorical_accuracy: 0.6900 - lr: 4.0000e-05\n",
      "Epoch 20/25\n",
      "34/34 [==============================] - ETA: 0s - loss: 0.4393 - categorical_accuracy: 0.8416\n",
      "Epoch 00020: saving model to model_init_2024-05-0209_40_17.312999/model-00020-0.43927-0.84163-0.92180-0.70000.h5\n",
      "34/34 [==============================] - 49s 1s/step - loss: 0.4393 - categorical_accuracy: 0.8416 - val_loss: 0.9218 - val_categorical_accuracy: 0.7000 - lr: 4.0000e-05\n",
      "Epoch 21/25\n",
      "34/34 [==============================] - ETA: 0s - loss: 0.4492 - categorical_accuracy: 0.8311\n",
      "Epoch 00021: saving model to model_init_2024-05-0209_40_17.312999/model-00021-0.44920-0.83107-0.82730-0.71000.h5\n",
      "34/34 [==============================] - 49s 1s/step - loss: 0.4492 - categorical_accuracy: 0.8311 - val_loss: 0.8273 - val_categorical_accuracy: 0.7100 - lr: 4.0000e-05\n",
      "Epoch 22/25\n",
      "34/34 [==============================] - ETA: 0s - loss: 0.4201 - categorical_accuracy: 0.8416\n",
      "Epoch 00022: saving model to model_init_2024-05-0209_40_17.312999/model-00022-0.42008-0.84163-0.80329-0.75000.h5\n",
      "34/34 [==============================] - 49s 1s/step - loss: 0.4201 - categorical_accuracy: 0.8416 - val_loss: 0.8033 - val_categorical_accuracy: 0.7500 - lr: 4.0000e-05\n",
      "Epoch 23/25\n",
      "34/34 [==============================] - ETA: 0s - loss: 0.4197 - categorical_accuracy: 0.8552\n",
      "Epoch 00023: saving model to model_init_2024-05-0209_40_17.312999/model-00023-0.41967-0.85520-0.76983-0.76000.h5\n",
      "34/34 [==============================] - 50s 1s/step - loss: 0.4197 - categorical_accuracy: 0.8552 - val_loss: 0.7698 - val_categorical_accuracy: 0.7600 - lr: 4.0000e-05\n",
      "Epoch 24/25\n",
      "34/34 [==============================] - ETA: 0s - loss: 0.4464 - categorical_accuracy: 0.8265\n",
      "Epoch 00024: saving model to model_init_2024-05-0209_40_17.312999/model-00024-0.44639-0.82655-0.69003-0.78000.h5\n",
      "34/34 [==============================] - 50s 1s/step - loss: 0.4464 - categorical_accuracy: 0.8265 - val_loss: 0.6900 - val_categorical_accuracy: 0.7800 - lr: 4.0000e-05\n",
      "Epoch 25/25\n",
      "34/34 [==============================] - ETA: 0s - loss: 0.4024 - categorical_accuracy: 0.8597\n",
      "Epoch 00025: saving model to model_init_2024-05-0209_40_17.312999/model-00025-0.40237-0.85973-0.70206-0.79000.h5\n",
      "34/34 [==============================] - 50s 2s/step - loss: 0.4024 - categorical_accuracy: 0.8597 - val_loss: 0.7021 - val_categorical_accuracy: 0.7900 - lr: 4.0000e-05\n"
     ]
    }
   ],
   "source": [
    "history = CNNlstm_3.fit(train_generator, steps_per_epoch=steps_per_epoch, epochs=num_epochs, verbose=1, \n",
    "                    callbacks=callbacks_list, validation_data=val_generator, \n",
    "                    validation_steps=validation_steps, class_weight=None, workers=1, initial_epoch=0)"
   ]
  },
  {
   "cell_type": "code",
   "execution_count": 163,
   "metadata": {},
   "outputs": [
    {
     "data": {
      "image/png": "[encoded data removed]",
      "text/plain": [
       "<Figure size 432x288 with 1 Axes>"
      ]
     },
     "metadata": {
      "needs_background": "light"
     },
     "output_type": "display_data"
    },
    {
     "data": {
      "image/png": "[encoded data removed]",
      "text/plain": [
       "<Figure size 432x288 with 1 Axes>"
      ]
     },
     "metadata": {
      "needs_background": "light"
     },
     "output_type": "display_data"
    }
   ],
   "source": [
    "# Plotting the result of Model 8 :\n",
    "\n",
    "# summarize history for accuracy\n",
    "plt.plot(history.history['categorical_accuracy'])\n",
    "plt.plot(history.history['val_categorical_accuracy'])\n",
    "plt.title('model accuracy')\n",
    "plt.ylabel('accuracy')\n",
    "plt.xlabel('epoch')\n",
    "plt.legend(['train', 'test'], loc='upper left')\n",
    "plt.show()\n",
    "\n",
    "# summarize history for loss\n",
    "plt.plot(history.history['loss'])\n",
    "plt.plot(history.history['val_loss'])\n",
    "plt.title('model loss')\n",
    "plt.ylabel('loss')\n",
    "plt.xlabel('epoch')\n",
    "plt.legend(['train', 'test'], loc='upper left')\n",
    "plt.show()"
   ]
  },
  {
   "cell_type": "code",
   "execution_count": 164,
   "metadata": {},
   "outputs": [
    {
     "name": "stdout",
     "output_type": "stream",
     "text": [
      "      Model Name  Model Accuracy  Model Loss  Val Accuracy    Val Loss\n",
      "0  modelConv3D_1       44.494721  136.417484     25.999999  219.879627\n",
      "0  modelConv3D_2       38.612369  153.423560     30.000001  178.754282\n",
      "0  modelConv3D_2       38.612369  153.423560     30.000001  178.754282\n",
      "0  modelConv3D_3       42.986426  145.889616     31.000000  177.600634\n",
      "0  modelConv3D_4       45.248869  134.927368     36.000001  141.790569\n",
      "0  modelConv3D_5       59.125191  101.061988     52.999997  128.816605\n",
      "0  modelConv3D_6       80.090499   55.362916     69.999999   83.913064\n",
      "0      CNNlstm_1       92.458522   25.206617     77.999997   66.047078\n",
      "0      CNNlstm_2       92.458522   25.206617     77.999997   66.047078\n",
      "0      CNNlstm_3       85.972852   40.237352     79.000002   70.206344\n"
     ]
    }
   ],
   "source": [
    "df1 = model_result(\"CNNlstm_3\",history.history['categorical_accuracy'][-1], history.history['loss'][-1] , history.history['val_categorical_accuracy'][-1], history.history['val_loss'][-1])\n",
    "\n",
    "model_detail_df = pd.concat([model_detail_df,df1])\n",
    "print(model_detail_df.head(20))"
   ]
  },
  {
   "cell_type": "markdown",
   "metadata": {},
   "source": [
    "# Model 9 : CNN LSTM with GRU"
   ]
  },
  {
   "cell_type": "code",
   "execution_count": 168,
   "metadata": {},
   "outputs": [
    {
     "name": "stdout",
     "output_type": "stream",
     "text": [
      "Model: \"sequential_21\"\n",
      "_________________________________________________________________\n",
      " Layer (type)                Output Shape              Param #   \n",
      "=================================================================\n",
      " time_distributed_93 (TimeDi  (None, 30, 120, 120, 16)  448      \n",
      " stributed)                                                      \n",
      "                                                                 \n",
      " time_distributed_94 (TimeDi  (None, 30, 120, 120, 16)  64       \n",
      " stributed)                                                      \n",
      "                                                                 \n",
      " time_distributed_95 (TimeDi  (None, 30, 60, 60, 16)   0         \n",
      " stributed)                                                      \n",
      "                                                                 \n",
      " time_distributed_96 (TimeDi  (None, 30, 60, 60, 32)   4640      \n",
      " stributed)                                                      \n",
      "                                                                 \n",
      " time_distributed_97 (TimeDi  (None, 30, 60, 60, 32)   128       \n",
      " stributed)                                                      \n",
      "                                                                 \n",
      " time_distributed_98 (TimeDi  (None, 30, 30, 30, 32)   0         \n",
      " stributed)                                                      \n",
      "                                                                 \n",
      " time_distributed_99 (TimeDi  (None, 30, 30, 30, 64)   18496     \n",
      " stributed)                                                      \n",
      "                                                                 \n",
      " time_distributed_100 (TimeD  (None, 30, 30, 30, 64)   256       \n",
      " istributed)                                                     \n",
      "                                                                 \n",
      " time_distributed_101 (TimeD  (None, 30, 15, 15, 64)   0         \n",
      " istributed)                                                     \n",
      "                                                                 \n",
      " time_distributed_102 (TimeD  (None, 30, 15, 15, 128)  73856     \n",
      " istributed)                                                     \n",
      "                                                                 \n",
      " time_distributed_103 (TimeD  (None, 30, 15, 15, 128)  512       \n",
      " istributed)                                                     \n",
      "                                                                 \n",
      " time_distributed_104 (TimeD  (None, 30, 7, 7, 128)    0         \n",
      " istributed)                                                     \n",
      "                                                                 \n",
      " time_distributed_105 (TimeD  (None, 30, 6272)         0         \n",
      " istributed)                                                     \n",
      "                                                                 \n",
      " gru_1 (GRU)                 (None, 128)               2457984   \n",
      "                                                                 \n",
      " dropout_43 (Dropout)        (None, 128)               0         \n",
      "                                                                 \n",
      " dense_57 (Dense)            (None, 128)               16512     \n",
      "                                                                 \n",
      " dropout_44 (Dropout)        (None, 128)               0         \n",
      "                                                                 \n",
      " dense_58 (Dense)            (None, 5)                 645       \n",
      "                                                                 \n",
      "=================================================================\n",
      "Total params: 2,573,541\n",
      "Trainable params: 2,573,061\n",
      "Non-trainable params: 480\n",
      "_________________________________________________________________\n",
      "None\n"
     ]
    }
   ],
   "source": [
    "input_shape=(30,120,120,3)\n",
    "\n",
    "GRU_lstm = Sequential()\n",
    "\n",
    "GRU_lstm.add(TimeDistributed(Conv2D(16, (3, 3) , padding='same', activation='relu'),\n",
    "                          input_shape=(input_shape)))\n",
    "GRU_lstm.add(TimeDistributed(BatchNormalization()))\n",
    "GRU_lstm.add(TimeDistributed(MaxPooling2D((2, 2))))\n",
    "\n",
    "GRU_lstm.add(TimeDistributed(Conv2D(32, (3, 3) , padding='same', activation='relu')))\n",
    "GRU_lstm.add(TimeDistributed(BatchNormalization()))\n",
    "GRU_lstm.add(TimeDistributed(MaxPooling2D((2, 2))))\n",
    "\n",
    "GRU_lstm.add(TimeDistributed(Conv2D(64, (3, 3) , padding='same', activation='relu')))\n",
    "GRU_lstm.add(TimeDistributed(BatchNormalization()))\n",
    "GRU_lstm.add(TimeDistributed(MaxPooling2D((2, 2))))\n",
    "\n",
    "GRU_lstm.add(TimeDistributed(Conv2D(128, (3, 3) , padding='same', activation='relu')))\n",
    "GRU_lstm.add(TimeDistributed(BatchNormalization()))\n",
    "GRU_lstm.add(TimeDistributed(MaxPooling2D((2, 2))))\n",
    "\n",
    "\n",
    "GRU_lstm.add(TimeDistributed(Flatten()))\n",
    "\n",
    "\n",
    "GRU_lstm.add(GRU(128))\n",
    "GRU_lstm.add(Dropout(0.25))\n",
    "\n",
    "GRU_lstm.add(Dense(128,activation='relu'))\n",
    "GRU_lstm.add(Dropout(0.25))\n",
    "\n",
    "GRU_lstm.add(Dense(5, activation='softmax'))\n",
    "optimiser = optimizers.Adam()\n",
    "GRU_lstm.compile(optimizer=optimiser, loss='categorical_crossentropy', metrics=['categorical_accuracy'])\n",
    "print (GRU_lstm.summary())"
   ]
  },
  {
   "cell_type": "code",
   "execution_count": 169,
   "metadata": {},
   "outputs": [
    {
     "name": "stdout",
     "output_type": "stream",
     "text": [
      "Total Params in model: 2573541\n"
     ]
    }
   ],
   "source": [
    "print(\"Total Params in model:\", GRU_lstm.count_params())"
   ]
  },
  {
   "cell_type": "code",
   "execution_count": 170,
   "metadata": {},
   "outputs": [
    {
     "name": "stdout",
     "output_type": "stream",
     "text": [
      "# training sequences = 663\n",
      "# validation sequences = 100\n",
      "# epochs = 20\n"
     ]
    }
   ],
   "source": [
    "batch_size = 20\n",
    "curr_dt_time = datetime.datetime.now()\n",
    "train_path = 'datasets/Project_data/train'\n",
    "val_path = 'datasets/Project_data/val'\n",
    "num_train_sequences = len(train_doc)\n",
    "print('# training sequences =', num_train_sequences)\n",
    "num_val_sequences = len(val_doc)\n",
    "print('# validation sequences =', num_val_sequences)\n",
    "# choose the number of epochs\n",
    "num_epochs = 20\n",
    "print ('# epochs =', num_epochs)\n"
   ]
  },
  {
   "cell_type": "code",
   "execution_count": 171,
   "metadata": {},
   "outputs": [],
   "source": [
    "train_generator = generatorLSTM(train_path, train_doc, batch_size)\n",
    "val_generator = generatorLSTM(val_path, val_doc, batch_size)\n",
    "\n",
    "model_name = 'model_init' + '_' + str(curr_dt_time).replace(' ','').replace(':','_') + '/'\n",
    "    \n",
    "if not os.path.exists(model_name):\n",
    "    os.mkdir(model_name)\n",
    "        \n",
    "filepath = model_name + 'model-{epoch:05d}-{loss:.5f}-{categorical_accuracy:.5f}-{val_loss:.5f}-{val_categorical_accuracy:.5f}.h5'\n",
    "\n",
    "checkpoint = ModelCheckpoint(filepath, monitor='val_loss', verbose=1, save_best_only=True, save_weights_only=False, mode='auto')\n",
    "\n",
    "# write the REducelronplateau code here\n",
    "LR = ReduceLROnPlateau(monitor='val_loss', factor=0.2, patience=4)\n",
    "\n",
    "callbacks_list = [checkpoint, LR]\n",
    "\n",
    "if (num_train_sequences%batch_size) == 0:\n",
    "    steps_per_epoch = int(num_train_sequences/batch_size)\n",
    "else:\n",
    "    steps_per_epoch = (num_train_sequences//batch_size) + 1\n",
    "\n",
    "if (num_val_sequences%batch_size) == 0:\n",
    "    validation_steps = int(num_val_sequences/batch_size)\n",
    "else:\n",
    "    validation_steps = (num_val_sequences//batch_size) + 1"
   ]
  },
  {
   "cell_type": "code",
   "execution_count": 172,
   "metadata": {},
   "outputs": [
    {
     "name": "stdout",
     "output_type": "stream",
     "text": [
      "Source path =  datasets/Project_data/train ; batch size = 20\n",
      "Epoch 1/20\n",
      "34/34 [==============================] - ETA: 0s - loss: 1.5348 - categorical_accuracy: 0.3544Source path =  datasets/Project_data/val ; batch size = 20\n",
      "\n",
      "Epoch 00001: val_loss improved from inf to 2.30373, saving model to model_init_2024-05-0210_12_51.588914/model-00001-1.53477-0.35445-2.30373-0.30000.h5\n",
      "34/34 [==============================] - 53s 2s/step - loss: 1.5348 - categorical_accuracy: 0.3544 - val_loss: 2.3037 - val_categorical_accuracy: 0.3000 - lr: 0.0010\n",
      "Epoch 2/20\n",
      "34/34 [==============================] - ETA: 0s - loss: 1.2651 - categorical_accuracy: 0.4630\n",
      "Epoch 00002: val_loss did not improve from 2.30373\n",
      "34/34 [==============================] - 50s 2s/step - loss: 1.2651 - categorical_accuracy: 0.4630 - val_loss: 2.8042 - val_categorical_accuracy: 0.2300 - lr: 0.0010\n",
      "Epoch 3/20\n",
      "34/34 [==============================] - ETA: 0s - loss: 1.1068 - categorical_accuracy: 0.5158\n",
      "Epoch 00003: val_loss did not improve from 2.30373\n",
      "34/34 [==============================] - 50s 1s/step - loss: 1.1068 - categorical_accuracy: 0.5158 - val_loss: 2.4148 - val_categorical_accuracy: 0.2000 - lr: 0.0010\n",
      "Epoch 4/20\n",
      "34/34 [==============================] - ETA: 0s - loss: 0.9748 - categorical_accuracy: 0.5777\n",
      "Epoch 00004: val_loss did not improve from 2.30373\n",
      "34/34 [==============================] - 50s 1s/step - loss: 0.9748 - categorical_accuracy: 0.5777 - val_loss: 2.6010 - val_categorical_accuracy: 0.2400 - lr: 0.0010\n",
      "Epoch 5/20\n",
      "34/34 [==============================] - ETA: 0s - loss: 0.9427 - categorical_accuracy: 0.6184\n",
      "Epoch 00005: val_loss improved from 2.30373 to 2.08018, saving model to model_init_2024-05-0210_12_51.588914/model-00005-0.94267-0.61840-2.08018-0.28000.h5\n",
      "34/34 [==============================] - 50s 1s/step - loss: 0.9427 - categorical_accuracy: 0.6184 - val_loss: 2.0802 - val_categorical_accuracy: 0.2800 - lr: 0.0010\n",
      "Epoch 6/20\n",
      "34/34 [==============================] - ETA: 0s - loss: 0.8074 - categorical_accuracy: 0.6637\n",
      "Epoch 00006: val_loss did not improve from 2.08018\n",
      "34/34 [==============================] - 49s 1s/step - loss: 0.8074 - categorical_accuracy: 0.6637 - val_loss: 2.1751 - val_categorical_accuracy: 0.3800 - lr: 0.0010\n",
      "Epoch 7/20\n",
      "34/34 [==============================] - ETA: 0s - loss: 0.7508 - categorical_accuracy: 0.6923\n",
      "Epoch 00007: val_loss did not improve from 2.08018\n",
      "34/34 [==============================] - 50s 1s/step - loss: 0.7508 - categorical_accuracy: 0.6923 - val_loss: 2.3881 - val_categorical_accuracy: 0.2700 - lr: 0.0010\n",
      "Epoch 8/20\n",
      "34/34 [==============================] - ETA: 0s - loss: 0.6660 - categorical_accuracy: 0.7511\n",
      "Epoch 00008: val_loss did not improve from 2.08018\n",
      "34/34 [==============================] - 49s 1s/step - loss: 0.6660 - categorical_accuracy: 0.7511 - val_loss: 2.2345 - val_categorical_accuracy: 0.3700 - lr: 0.0010\n",
      "Epoch 9/20\n",
      "34/34 [==============================] - ETA: 0s - loss: 0.6384 - categorical_accuracy: 0.7285\n",
      "Epoch 00009: val_loss did not improve from 2.08018\n",
      "34/34 [==============================] - 49s 1s/step - loss: 0.6384 - categorical_accuracy: 0.7285 - val_loss: 2.4713 - val_categorical_accuracy: 0.3100 - lr: 0.0010\n",
      "Epoch 10/20\n",
      "34/34 [==============================] - ETA: 0s - loss: 0.5599 - categorical_accuracy: 0.7707\n",
      "Epoch 00010: val_loss did not improve from 2.08018\n",
      "34/34 [==============================] - 49s 1s/step - loss: 0.5599 - categorical_accuracy: 0.7707 - val_loss: 2.5073 - val_categorical_accuracy: 0.2600 - lr: 2.0000e-04\n",
      "Epoch 11/20\n",
      "34/34 [==============================] - ETA: 0s - loss: 0.4966 - categorical_accuracy: 0.8069\n",
      "Epoch 00011: val_loss did not improve from 2.08018\n",
      "34/34 [==============================] - 49s 1s/step - loss: 0.4966 - categorical_accuracy: 0.8069 - val_loss: 2.2426 - val_categorical_accuracy: 0.4200 - lr: 2.0000e-04\n",
      "Epoch 12/20\n",
      "34/34 [==============================] - ETA: 0s - loss: 0.4506 - categorical_accuracy: 0.8235\n",
      "Epoch 00012: val_loss improved from 2.08018 to 1.84428, saving model to model_init_2024-05-0210_12_51.588914/model-00012-0.45061-0.82353-1.84428-0.46000.h5\n",
      "34/34 [==============================] - 49s 1s/step - loss: 0.4506 - categorical_accuracy: 0.8235 - val_loss: 1.8443 - val_categorical_accuracy: 0.4600 - lr: 2.0000e-04\n",
      "Epoch 13/20\n",
      "34/34 [==============================] - ETA: 0s - loss: 0.3976 - categorical_accuracy: 0.8582\n",
      "Epoch 00013: val_loss did not improve from 1.84428\n",
      "34/34 [==============================] - 49s 1s/step - loss: 0.3976 - categorical_accuracy: 0.8582 - val_loss: 1.8977 - val_categorical_accuracy: 0.4600 - lr: 2.0000e-04\n",
      "Epoch 14/20\n",
      "34/34 [==============================] - ETA: 0s - loss: 0.3795 - categorical_accuracy: 0.8582\n",
      "Epoch 00014: val_loss improved from 1.84428 to 1.55438, saving model to model_init_2024-05-0210_12_51.588914/model-00014-0.37948-0.85822-1.55438-0.50000.h5\n",
      "34/34 [==============================] - 56s 2s/step - loss: 0.3795 - categorical_accuracy: 0.8582 - val_loss: 1.5544 - val_categorical_accuracy: 0.5000 - lr: 2.0000e-04\n",
      "Epoch 15/20\n",
      "34/34 [==============================] - ETA: 0s - loss: 0.3687 - categorical_accuracy: 0.8658\n",
      "Epoch 00015: val_loss improved from 1.55438 to 1.40881, saving model to model_init_2024-05-0210_12_51.588914/model-00015-0.36869-0.86576-1.40881-0.51000.h5\n",
      "34/34 [==============================] - 131s 4s/step - loss: 0.3687 - categorical_accuracy: 0.8658 - val_loss: 1.4088 - val_categorical_accuracy: 0.5100 - lr: 2.0000e-04\n",
      "Epoch 16/20\n",
      "34/34 [==============================] - ETA: 0s - loss: 0.3069 - categorical_accuracy: 0.8944\n",
      "Epoch 00016: val_loss improved from 1.40881 to 1.21939, saving model to model_init_2024-05-0210_12_51.588914/model-00016-0.30693-0.89442-1.21939-0.57000.h5\n",
      "34/34 [==============================] - 75s 2s/step - loss: 0.3069 - categorical_accuracy: 0.8944 - val_loss: 1.2194 - val_categorical_accuracy: 0.5700 - lr: 2.0000e-04\n",
      "Epoch 17/20\n",
      "34/34 [==============================] - ETA: 0s - loss: 0.3002 - categorical_accuracy: 0.8989\n",
      "Epoch 00017: val_loss improved from 1.21939 to 1.06691, saving model to model_init_2024-05-0210_12_51.588914/model-00017-0.30020-0.89894-1.06691-0.64000.h5\n",
      "34/34 [==============================] - 51s 2s/step - loss: 0.3002 - categorical_accuracy: 0.8989 - val_loss: 1.0669 - val_categorical_accuracy: 0.6400 - lr: 2.0000e-04\n",
      "Epoch 18/20\n",
      "34/34 [==============================] - ETA: 0s - loss: 0.2961 - categorical_accuracy: 0.9065\n",
      "Epoch 00018: val_loss improved from 1.06691 to 0.70008, saving model to model_init_2024-05-0210_12_51.588914/model-00018-0.29606-0.90649-0.70008-0.75000.h5\n",
      "34/34 [==============================] - 50s 1s/step - loss: 0.2961 - categorical_accuracy: 0.9065 - val_loss: 0.7001 - val_categorical_accuracy: 0.7500 - lr: 2.0000e-04\n",
      "Epoch 19/20\n",
      "34/34 [==============================] - ETA: 0s - loss: 0.2654 - categorical_accuracy: 0.9080\n",
      "Epoch 00019: val_loss did not improve from 0.70008\n",
      "34/34 [==============================] - 50s 2s/step - loss: 0.2654 - categorical_accuracy: 0.9080 - val_loss: 0.7033 - val_categorical_accuracy: 0.7300 - lr: 2.0000e-04\n",
      "Epoch 20/20\n",
      "34/34 [==============================] - ETA: 0s - loss: 0.2436 - categorical_accuracy: 0.9020\n",
      "Epoch 00020: val_loss improved from 0.70008 to 0.63146, saving model to model_init_2024-05-0210_12_51.588914/model-00020-0.24359-0.90196-0.63146-0.74000.h5\n",
      "34/34 [==============================] - 50s 2s/step - loss: 0.2436 - categorical_accuracy: 0.9020 - val_loss: 0.6315 - val_categorical_accuracy: 0.7400 - lr: 2.0000e-04\n"
     ]
    }
   ],
   "source": [
    "history = GRU_lstm.fit(train_generator, steps_per_epoch=steps_per_epoch, epochs=num_epochs, verbose=1, \n",
    "                    callbacks=callbacks_list, validation_data=val_generator, \n",
    "                    validation_steps=validation_steps, class_weight=None, initial_epoch=0)"
   ]
  },
  {
   "cell_type": "code",
   "execution_count": 175,
   "metadata": {},
   "outputs": [
    {
     "data": {
      "image/png": "[encoded data removed]",
      "text/plain": [
       "<Figure size 432x288 with 1 Axes>"
      ]
     },
     "metadata": {
      "needs_background": "light"
     },
     "output_type": "display_data"
    },
    {
     "data": {
      "image/png": "[encoded data removed]",
      "text/plain": [
       "<Figure size 432x288 with 1 Axes>"
      ]
     },
     "metadata": {
      "needs_background": "light"
     },
     "output_type": "display_data"
    }
   ],
   "source": [
    "# Plotting the result of Model 9:\n",
    "\n",
    "# summarize history for accuracy\n",
    "plt.plot(history.history['categorical_accuracy'])\n",
    "plt.plot(history.history['val_categorical_accuracy'])\n",
    "plt.title('model accuracy')\n",
    "plt.ylabel('accuracy')\n",
    "plt.xlabel('epoch')\n",
    "plt.legend(['train', 'test'], loc='upper left')\n",
    "plt.show()\n",
    "\n",
    "# summarize history for loss\n",
    "plt.plot(history.history['loss'])\n",
    "plt.plot(history.history['val_loss'])\n",
    "plt.title('model loss')\n",
    "plt.ylabel('loss')\n",
    "plt.xlabel('epoch')\n",
    "plt.legend(['train', 'test'], loc='upper left')\n",
    "plt.show()"
   ]
  },
  {
   "cell_type": "code",
   "execution_count": 174,
   "metadata": {},
   "outputs": [
    {
     "name": "stdout",
     "output_type": "stream",
     "text": [
      "      Model Name  Model Accuracy  Model Loss  Val Accuracy    Val Loss\n",
      "0  modelConv3D_1       44.494721  136.417484     25.999999  219.879627\n",
      "0  modelConv3D_2       38.612369  153.423560     30.000001  178.754282\n",
      "0  modelConv3D_2       38.612369  153.423560     30.000001  178.754282\n",
      "0  modelConv3D_3       42.986426  145.889616     31.000000  177.600634\n",
      "0  modelConv3D_4       45.248869  134.927368     36.000001  141.790569\n",
      "0  modelConv3D_5       59.125191  101.061988     52.999997  128.816605\n",
      "0  modelConv3D_6       80.090499   55.362916     69.999999   83.913064\n",
      "0      CNNlstm_1       92.458522   25.206617     77.999997   66.047078\n",
      "0      CNNlstm_2       92.458522   25.206617     77.999997   66.047078\n",
      "0      CNNlstm_3       85.972852   40.237352     79.000002   70.206344\n",
      "0       GRU_lstm       90.196079   24.359199     74.000001   63.145792\n"
     ]
    }
   ],
   "source": [
    "df1 = model_result(\"GRU_lstm\",history.history['categorical_accuracy'][-1], history.history['loss'][-1] , history.history['val_categorical_accuracy'][-1], history.history['val_loss'][-1])\n",
    "\n",
    "model_detail_df = pd.concat([model_detail_df,df1])\n",
    "print(model_detail_df.head(20))"
   ]
  },
  {
   "cell_type": "markdown",
   "metadata": {},
   "source": [
    "### Lets use the pre-trained model for the transfer learning."
   ]
  },
  {
   "cell_type": "markdown",
   "metadata": {},
   "source": [
    "# Model 10: Model with Transfer Learning"
   ]
  },
  {
   "cell_type": "code",
   "execution_count": 176,
   "metadata": {},
   "outputs": [
    {
     "name": "stdout",
     "output_type": "stream",
     "text": [
      "WARNING:tensorflow:`input_shape` is undefined or non-square, or `rows` is not in [128, 160, 192, 224]. Weights for input shape (224, 224) will be loaded as the default.\n",
      "Downloading data from https://storage.googleapis.com/tensorflow/keras-applications/mobilenet/mobilenet_1_0_224_tf_no_top.h5\n",
      "17227776/17225924 [==============================] - 2s 0us/step\n",
      "17235968/17225924 [==============================] - 2s 0us/step\n"
     ]
    }
   ],
   "source": [
    "# Importing the transfer learning model:\n",
    "from keras.applications import mobilenet\n",
    "\n",
    "mobilenet_transfer = mobilenet.MobileNet(weights='imagenet', include_top=False)"
   ]
  },
  {
   "cell_type": "code",
   "execution_count": 177,
   "metadata": {},
   "outputs": [],
   "source": [
    "# MobileNet V2 model accepts one of the following formats: (96, 96), (128, 128), (160, 160),(192, 192), or (224, 224).\n",
    "# Hence, we have got this warning for the input as we have not specified the input size while import."
   ]
  },
  {
   "cell_type": "code",
   "execution_count": 178,
   "metadata": {},
   "outputs": [
    {
     "name": "stdout",
     "output_type": "stream",
     "text": [
      "Model: \"sequential_22\"\n",
      "_________________________________________________________________\n",
      " Layer (type)                Output Shape              Param #   \n",
      "=================================================================\n",
      " time_distributed_106 (TimeD  (None, 18, 3, 3, 1024)   3228864   \n",
      " istributed)                                                     \n",
      "                                                                 \n",
      " time_distributed_107 (TimeD  (None, 18, 3, 3, 1024)   4096      \n",
      " istributed)                                                     \n",
      "                                                                 \n",
      " time_distributed_108 (TimeD  (None, 18, 1, 1, 1024)   0         \n",
      " istributed)                                                     \n",
      "                                                                 \n",
      " time_distributed_109 (TimeD  (None, 18, 1024)         0         \n",
      " istributed)                                                     \n",
      "                                                                 \n",
      " lstm_5 (LSTM)               (None, 128)               590336    \n",
      "                                                                 \n",
      " dropout_45 (Dropout)        (None, 128)               0         \n",
      "                                                                 \n",
      " dense_59 (Dense)            (None, 128)               16512     \n",
      "                                                                 \n",
      " dropout_46 (Dropout)        (None, 128)               0         \n",
      "                                                                 \n",
      " dense_60 (Dense)            (None, 5)                 645       \n",
      "                                                                 \n",
      "=================================================================\n",
      "Total params: 3,840,453\n",
      "Trainable params: 609,541\n",
      "Non-trainable params: 3,230,912\n",
      "_________________________________________________________________\n",
      "None\n"
     ]
    }
   ],
   "source": [
    "# Building the model :\n",
    "\n",
    "input_shape = (18,120,120,3)\n",
    "        \n",
    "mobileNetModel= Sequential()\n",
    "mobileNetModel.add(TimeDistributed(mobilenet_transfer,input_shape=(input_shape)))\n",
    "\n",
    "\n",
    "for layer in mobileNetModel.layers:\n",
    "    layer.trainable = False\n",
    "\n",
    "\n",
    "mobileNetModel.add(TimeDistributed(BatchNormalization()))\n",
    "mobileNetModel.add(TimeDistributed(MaxPooling2D((2, 2))))\n",
    "mobileNetModel.add(TimeDistributed(Flatten()))\n",
    "\n",
    "mobileNetModel.add(LSTM(128))\n",
    "mobileNetModel.add(Dropout(0.25))\n",
    "\n",
    "mobileNetModel.add(Dense(128,activation='relu'))\n",
    "mobileNetModel.add(Dropout(0.25))\n",
    "\n",
    "mobileNetModel.add(Dense(5, activation='softmax'))\n",
    "\n",
    "\n",
    "optimiser = optimizers.Adam()\n",
    "mobileNetModel.compile(optimizer=optimiser, loss='categorical_crossentropy', metrics=['categorical_accuracy'])\n",
    "print (mobileNetModel.summary())"
   ]
  },
  {
   "cell_type": "code",
   "execution_count": 179,
   "metadata": {},
   "outputs": [
    {
     "name": "stdout",
     "output_type": "stream",
     "text": [
      "Total Params in model: 3840453\n"
     ]
    }
   ],
   "source": [
    "print(\"Total Params in model:\", mobileNetModel.count_params())"
   ]
  },
  {
   "cell_type": "code",
   "execution_count": 180,
   "metadata": {},
   "outputs": [],
   "source": [
    "def generatorMobileNet(source_path, folder_list, batch_size):\n",
    "    print( 'Source path = ', source_path, '; batch size =', batch_size)\n",
    "    \n",
    "    #create a list of image numbers you want to use for a particular video\n",
    "    img_idx = [1,2,4,6,7,8,10,12,14,16,18,20,21,22,24,26,27,29]\n",
    "    #list(range(0,29,2))\n",
    "    \n",
    "    while True:\n",
    "        t = np.random.permutation(folder_list)\n",
    "        \n",
    "# calculate the number of batches\n",
    "        num_batches = int(len(t)/batch_size)\n",
    "        \n",
    "# we iterate over the number of batches\n",
    "        for batch in range(num_batches): \n",
    "            \n",
    "# x is the number of images you use for each video, (y,z) is the final size of the input images and 3 is the number of channels RGB          \n",
    "            batch_data = np.zeros((batch_size,18,120,120,3))\n",
    "# batch_labels is the one hot representation of the output\n",
    "            batch_labels = np.zeros((batch_size,5))\n",
    "\n",
    "# iterate over the batch_size    \n",
    "            for folder in range(batch_size): \n",
    "# read all the images in the folder        \n",
    "                imgs = os.listdir(source_path+'/'+ t[folder + (batch*batch_size)].split(';')[0]) \n",
    "#  Iterate over the frames/images of a folder to read them in    \n",
    "                for idx,item in enumerate(img_idx):\n",
    "                    image = cv2.imread(source_path+'/'+ t[folder + (batch*batch_size)].strip().split(';')[0]+'/'+imgs[item],cv2.IMREAD_UNCHANGED).astype(np.float32)\n",
    "                    \n",
    "#crop the images and resize them. Note that the images are of 2 different shape \n",
    "#and the conv3D will throw error if the inputs in a batch have different shapes\n",
    "                    if image.shape[1] == 160:\n",
    "                        image = cv2.resize(image[:,20:140,:],(120,120),interpolation = cv2.INTER_AREA).astype(np.float32)\n",
    "                    else:\n",
    "                        image = cv2.resize(image,(120,120),interpolation = cv2.INTER_AREA).astype(np.float32)\n",
    "                                \n",
    "#normalise and feed in the image\n",
    "\n",
    "                    batch_data[folder,idx,:,:,0] = (image[:,:,0])/255\n",
    "                    batch_data[folder,idx,:,:,1] = (image[:,:,1])/255\n",
    "                    batch_data[folder,idx,:,:,2] = (image[:,:,2])/255\n",
    "                    \n",
    "                batch_labels[folder, int(t[folder + (batch*batch_size)].strip().split(';')[2])] = 1\n",
    "#you yield the batch_data and the batch_labels, remember what does yield do                \n",
    "            yield batch_data, batch_labels \n",
    "\n",
    "        \n",
    "# write the code for the remaining data points which are left after full batches\n",
    "        if (len(t)%batch_size) != 0:\n",
    "            batch_data = np.zeros((len(t)%batch_size,18,120,120,3))\n",
    "            batch_labels = np.zeros((len(t)%batch_size,5))\n",
    "            for folder in range(len(t)%batch_size):\n",
    "                imgs = os.listdir(source_path+'/'+ t[folder + (num_batches*batch_size)].split(';')[0])\n",
    "                for idx,item in enumerate(img_idx):\n",
    "                    image = cv2.imread(source_path+'/'+ t[folder + (num_batches*batch_size)].strip().split(';')[0]+'/'+imgs[item],cv2.IMREAD_UNCHANGED).astype(np.float32)\n",
    "                    if image.shape[1] == 160:\n",
    "                        image = cv2.resize(image[:,20:140,:],(120,120),interpolation = cv2.INTER_AREA).astype(np.float32)\n",
    "                    else:\n",
    "                        image = cv2.resize(image,(120,120),interpolation = cv2.INTER_AREA).astype(np.float32)\n",
    "\n",
    "                    batch_data[folder,idx,:,:,0] = (image[:,:,0])/255\n",
    "                    batch_data[folder,idx,:,:,1] = (image[:,:,1])/255\n",
    "                    batch_data[folder,idx,:,:,2] = (image[:,:,2])/255\n",
    "\n",
    "                batch_labels[folder, int(t[folder + (num_batches*batch_size)].strip().split(';')[2])] = 1\n",
    "\n",
    "            yield batch_data, batch_labels"
   ]
  },
  {
   "cell_type": "code",
   "execution_count": 181,
   "metadata": {},
   "outputs": [
    {
     "name": "stdout",
     "output_type": "stream",
     "text": [
      "# training sequences = 663\n",
      "# validation sequences = 100\n",
      "# epochs = 20\n"
     ]
    }
   ],
   "source": [
    "batch_size = 5\n",
    "curr_dt_time = datetime.datetime.now()\n",
    "train_path = 'datasets/Project_data/train'\n",
    "val_path = 'datasets/Project_data/val'\n",
    "num_train_sequences = len(train_doc)\n",
    "print('# training sequences =', num_train_sequences)\n",
    "num_val_sequences = len(val_doc)\n",
    "print('# validation sequences =', num_val_sequences)\n",
    "# choose the number of epochs\n",
    "num_epochs = 20\n",
    "print ('# epochs =', num_epochs)\n"
   ]
  },
  {
   "cell_type": "code",
   "execution_count": 182,
   "metadata": {},
   "outputs": [],
   "source": [
    "train_generator = generatorMobileNet(train_path, train_doc, batch_size)\n",
    "val_generator = generatorMobileNet(val_path, val_doc, batch_size)\n",
    "\n",
    "model_name = 'model_init' + '_' + str(curr_dt_time).replace(' ','').replace(':','_') + '/'\n",
    "    \n",
    "if not os.path.exists(model_name):\n",
    "    os.mkdir(model_name)\n",
    "        \n",
    "filepath = model_name + 'model-{epoch:05d}-{loss:.5f}-{categorical_accuracy:.5f}-{val_loss:.5f}-{val_categorical_accuracy:.5f}.h5'\n",
    "\n",
    "checkpoint = ModelCheckpoint(filepath, monitor='val_loss', verbose=1, save_best_only=True, save_weights_only=False, mode='auto')\n",
    "\n",
    "# write the REducelronplateau code here\n",
    "LR = ReduceLROnPlateau(monitor='val_loss', factor=0.2, patience=4)\n",
    "\n",
    "callbacks_list = [checkpoint, LR]\n",
    "\n",
    "if (num_train_sequences%batch_size) == 0:\n",
    "    steps_per_epoch = int(num_train_sequences/batch_size)\n",
    "else:\n",
    "    steps_per_epoch = (num_train_sequences//batch_size) + 1\n",
    "\n",
    "if (num_val_sequences%batch_size) == 0:\n",
    "    validation_steps = int(num_val_sequences/batch_size)\n",
    "else:\n",
    "    validation_steps = (num_val_sequences//batch_size) + 1"
   ]
  },
  {
   "cell_type": "code",
   "execution_count": 183,
   "metadata": {},
   "outputs": [
    {
     "name": "stdout",
     "output_type": "stream",
     "text": [
      "Source path =  datasets/Project_data/train ; batch size = 5\n",
      "Epoch 1/20\n",
      "133/133 [==============================] - ETA: 0s - loss: 1.4017 - categorical_accuracy: 0.3982Source path =  datasets/Project_data/val ; batch size = 5\n",
      "\n",
      "Epoch 00001: val_loss improved from inf to 1.09817, saving model to model_init_2024-05-0210_41_24.647740/model-00001-1.40171-0.39819-1.09817-0.54000.h5\n",
      "133/133 [==============================] - 39s 267ms/step - loss: 1.4017 - categorical_accuracy: 0.3982 - val_loss: 1.0982 - val_categorical_accuracy: 0.5400 - lr: 0.0010\n",
      "Epoch 2/20\n",
      "133/133 [==============================] - ETA: 0s - loss: 0.9325 - categorical_accuracy: 0.6410\n",
      "Epoch 00002: val_loss improved from 1.09817 to 0.87388, saving model to model_init_2024-05-0210_41_24.647740/model-00002-0.93249-0.64103-0.87388-0.64000.h5\n",
      "133/133 [==============================] - 33s 252ms/step - loss: 0.9325 - categorical_accuracy: 0.6410 - val_loss: 0.8739 - val_categorical_accuracy: 0.6400 - lr: 0.0010\n",
      "Epoch 3/20\n",
      "133/133 [==============================] - ETA: 0s - loss: 0.6843 - categorical_accuracy: 0.7526\n",
      "Epoch 00003: val_loss improved from 0.87388 to 0.78444, saving model to model_init_2024-05-0210_41_24.647740/model-00003-0.68426-0.75264-0.78444-0.69000.h5\n",
      "133/133 [==============================] - 34s 255ms/step - loss: 0.6843 - categorical_accuracy: 0.7526 - val_loss: 0.7844 - val_categorical_accuracy: 0.6900 - lr: 0.0010\n",
      "Epoch 4/20\n",
      "133/133 [==============================] - ETA: 0s - loss: 0.3862 - categorical_accuracy: 0.8597\n",
      "Epoch 00004: val_loss improved from 0.78444 to 0.73910, saving model to model_init_2024-05-0210_41_24.647740/model-00004-0.38616-0.85973-0.73910-0.70000.h5\n",
      "133/133 [==============================] - 32s 245ms/step - loss: 0.3862 - categorical_accuracy: 0.8597 - val_loss: 0.7391 - val_categorical_accuracy: 0.7000 - lr: 0.0010\n",
      "Epoch 5/20\n",
      "133/133 [==============================] - ETA: 0s - loss: 0.2839 - categorical_accuracy: 0.9050\n",
      "Epoch 00005: val_loss did not improve from 0.73910\n",
      "133/133 [==============================] - 33s 245ms/step - loss: 0.2839 - categorical_accuracy: 0.9050 - val_loss: 0.7649 - val_categorical_accuracy: 0.6900 - lr: 0.0010\n",
      "Epoch 6/20\n",
      "133/133 [==============================] - ETA: 0s - loss: 0.1981 - categorical_accuracy: 0.9427\n",
      "Epoch 00006: val_loss did not improve from 0.73910\n",
      "133/133 [==============================] - 31s 234ms/step - loss: 0.1981 - categorical_accuracy: 0.9427 - val_loss: 0.8323 - val_categorical_accuracy: 0.7600 - lr: 0.0010\n",
      "Epoch 7/20\n",
      "133/133 [==============================] - ETA: 0s - loss: 0.0901 - categorical_accuracy: 0.9774\n",
      "Epoch 00007: val_loss did not improve from 0.73910\n",
      "133/133 [==============================] - 31s 232ms/step - loss: 0.0901 - categorical_accuracy: 0.9774 - val_loss: 0.8024 - val_categorical_accuracy: 0.7500 - lr: 0.0010\n",
      "Epoch 8/20\n",
      "133/133 [==============================] - ETA: 0s - loss: 0.1488 - categorical_accuracy: 0.9502\n",
      "Epoch 00008: val_loss did not improve from 0.73910\n",
      "133/133 [==============================] - 32s 243ms/step - loss: 0.1488 - categorical_accuracy: 0.9502 - val_loss: 0.9055 - val_categorical_accuracy: 0.6800 - lr: 0.0010\n",
      "Epoch 9/20\n",
      "133/133 [==============================] - ETA: 0s - loss: 0.0888 - categorical_accuracy: 0.9729\n",
      "Epoch 00009: val_loss did not improve from 0.73910\n",
      "133/133 [==============================] - 31s 233ms/step - loss: 0.0888 - categorical_accuracy: 0.9729 - val_loss: 0.7504 - val_categorical_accuracy: 0.7500 - lr: 2.0000e-04\n",
      "Epoch 10/20\n",
      "133/133 [==============================] - ETA: 0s - loss: 0.0371 - categorical_accuracy: 0.9955\n",
      "Epoch 00010: val_loss did not improve from 0.73910\n",
      "133/133 [==============================] - 30s 227ms/step - loss: 0.0371 - categorical_accuracy: 0.9955 - val_loss: 0.9720 - val_categorical_accuracy: 0.6900 - lr: 2.0000e-04\n",
      "Epoch 11/20\n",
      "133/133 [==============================] - ETA: 0s - loss: 0.0343 - categorical_accuracy: 0.9925\n",
      "Epoch 00011: val_loss did not improve from 0.73910\n",
      "133/133 [==============================] - 29s 222ms/step - loss: 0.0343 - categorical_accuracy: 0.9925 - val_loss: 1.1988 - val_categorical_accuracy: 0.6900 - lr: 2.0000e-04\n",
      "Epoch 12/20\n",
      "133/133 [==============================] - ETA: 0s - loss: 0.0311 - categorical_accuracy: 0.9925\n",
      "Epoch 00012: val_loss did not improve from 0.73910\n",
      "133/133 [==============================] - 31s 233ms/step - loss: 0.0311 - categorical_accuracy: 0.9925 - val_loss: 0.7704 - val_categorical_accuracy: 0.7700 - lr: 2.0000e-04\n",
      "Epoch 13/20\n",
      "133/133 [==============================] - ETA: 0s - loss: 0.0309 - categorical_accuracy: 0.9970\n",
      "Epoch 00013: val_loss did not improve from 0.73910\n",
      "133/133 [==============================] - 32s 242ms/step - loss: 0.0309 - categorical_accuracy: 0.9970 - val_loss: 0.8242 - val_categorical_accuracy: 0.7300 - lr: 4.0000e-05\n",
      "Epoch 14/20\n",
      "133/133 [==============================] - ETA: 0s - loss: 0.0247 - categorical_accuracy: 0.9940\n",
      "Epoch 00014: val_loss did not improve from 0.73910\n",
      "133/133 [==============================] - 30s 229ms/step - loss: 0.0247 - categorical_accuracy: 0.9940 - val_loss: 1.1568 - val_categorical_accuracy: 0.6600 - lr: 4.0000e-05\n",
      "Epoch 15/20\n",
      "133/133 [==============================] - ETA: 0s - loss: 0.0344 - categorical_accuracy: 0.9910\n",
      "Epoch 00015: val_loss did not improve from 0.73910\n",
      "133/133 [==============================] - 32s 238ms/step - loss: 0.0344 - categorical_accuracy: 0.9910 - val_loss: 0.8797 - val_categorical_accuracy: 0.7000 - lr: 4.0000e-05\n",
      "Epoch 16/20\n",
      "133/133 [==============================] - ETA: 0s - loss: 0.0225 - categorical_accuracy: 0.9985\n",
      "Epoch 00016: val_loss did not improve from 0.73910\n",
      "133/133 [==============================] - 32s 240ms/step - loss: 0.0225 - categorical_accuracy: 0.9985 - val_loss: 0.9121 - val_categorical_accuracy: 0.7400 - lr: 4.0000e-05\n",
      "Epoch 17/20\n",
      "133/133 [==============================] - ETA: 0s - loss: 0.0493 - categorical_accuracy: 0.9879\n",
      "Epoch 00017: val_loss did not improve from 0.73910\n",
      "133/133 [==============================] - 31s 235ms/step - loss: 0.0493 - categorical_accuracy: 0.9879 - val_loss: 0.9136 - val_categorical_accuracy: 0.7200 - lr: 8.0000e-06\n",
      "Epoch 18/20\n",
      "133/133 [==============================] - ETA: 0s - loss: 0.0200 - categorical_accuracy: 0.9940\n",
      "Epoch 00018: val_loss did not improve from 0.73910\n",
      "133/133 [==============================] - 31s 235ms/step - loss: 0.0200 - categorical_accuracy: 0.9940 - val_loss: 0.8080 - val_categorical_accuracy: 0.7700 - lr: 8.0000e-06\n",
      "Epoch 19/20\n",
      "133/133 [==============================] - ETA: 0s - loss: 0.0206 - categorical_accuracy: 0.9955\n",
      "Epoch 00019: val_loss did not improve from 0.73910\n",
      "133/133 [==============================] - 32s 245ms/step - loss: 0.0206 - categorical_accuracy: 0.9955 - val_loss: 0.8866 - val_categorical_accuracy: 0.7300 - lr: 8.0000e-06\n",
      "Epoch 20/20\n",
      "133/133 [==============================] - ETA: 0s - loss: 0.0204 - categorical_accuracy: 0.9940\n",
      "Epoch 00020: val_loss did not improve from 0.73910\n",
      "133/133 [==============================] - 31s 232ms/step - loss: 0.0204 - categorical_accuracy: 0.9940 - val_loss: 1.0072 - val_categorical_accuracy: 0.7200 - lr: 8.0000e-06\n"
     ]
    }
   ],
   "source": [
    "history = mobileNetModel.fit(train_generator, steps_per_epoch=steps_per_epoch, epochs=num_epochs, verbose=1, \n",
    "                    callbacks=callbacks_list, validation_data=val_generator, \n",
    "                    validation_steps=validation_steps, class_weight=None, workers=1, initial_epoch=0)"
   ]
  },
  {
   "cell_type": "code",
   "execution_count": 184,
   "metadata": {},
   "outputs": [
    {
     "data": {
      "image/png": "[encoded data removed]",
      "text/plain": [
       "<Figure size 432x288 with 1 Axes>"
      ]
     },
     "metadata": {
      "needs_background": "light"
     },
     "output_type": "display_data"
    },
    {
     "data": {
      "image/png": "[encoded data removed]",
      "text/plain": [
       "<Figure size 432x288 with 1 Axes>"
      ]
     },
     "metadata": {
      "needs_background": "light"
     },
     "output_type": "display_data"
    }
   ],
   "source": [
    "# Plotting the result of Model 10:\n",
    "\n",
    "# summarize history for accuracy\n",
    "plt.plot(history.history['categorical_accuracy'])\n",
    "plt.plot(history.history['val_categorical_accuracy'])\n",
    "plt.title('model accuracy')\n",
    "plt.ylabel('accuracy')\n",
    "plt.xlabel('epoch')\n",
    "plt.legend(['train', 'test'], loc='upper left')\n",
    "plt.show()\n",
    "\n",
    "# summarize history for loss\n",
    "plt.plot(history.history['loss'])\n",
    "plt.plot(history.history['val_loss'])\n",
    "plt.title('model loss')\n",
    "plt.ylabel('loss')\n",
    "plt.xlabel('epoch')\n",
    "plt.legend(['train', 'test'], loc='upper left')\n",
    "plt.show()"
   ]
  },
  {
   "cell_type": "code",
   "execution_count": 185,
   "metadata": {},
   "outputs": [
    {
     "name": "stdout",
     "output_type": "stream",
     "text": [
      "       Model Name  Model Accuracy  Model Loss  Val Accuracy    Val Loss\n",
      "0   modelConv3D_1       44.494721  136.417484     25.999999  219.879627\n",
      "0   modelConv3D_2       38.612369  153.423560     30.000001  178.754282\n",
      "0   modelConv3D_2       38.612369  153.423560     30.000001  178.754282\n",
      "0   modelConv3D_3       42.986426  145.889616     31.000000  177.600634\n",
      "0   modelConv3D_4       45.248869  134.927368     36.000001  141.790569\n",
      "0   modelConv3D_5       59.125191  101.061988     52.999997  128.816605\n",
      "0   modelConv3D_6       80.090499   55.362916     69.999999   83.913064\n",
      "0       CNNlstm_1       92.458522   25.206617     77.999997   66.047078\n",
      "0       CNNlstm_2       92.458522   25.206617     77.999997   66.047078\n",
      "0       CNNlstm_3       85.972852   40.237352     79.000002   70.206344\n",
      "0        GRU_lstm       90.196079   24.359199     74.000001   63.145792\n",
      "0  mobileNetModel       99.396682    2.035408     72.000003  100.715208\n"
     ]
    }
   ],
   "source": [
    "df1 = model_result(\"mobileNetModel\",history.history['categorical_accuracy'][-1], history.history['loss'][-1] , history.history['val_categorical_accuracy'][-1], history.history['val_loss'][-1])\n",
    "\n",
    "model_detail_df = pd.concat([model_detail_df,df1])\n",
    "print(model_detail_df.head(20))"
   ]
  },
  {
   "cell_type": "markdown",
   "metadata": {},
   "source": [
    "# Model 11: Transfer Learning with GRU and training all weights"
   ]
  },
  {
   "cell_type": "code",
   "execution_count": 186,
   "metadata": {},
   "outputs": [
    {
     "name": "stdout",
     "output_type": "stream",
     "text": [
      "WARNING:tensorflow:`input_shape` is undefined or non-square, or `rows` is not in [128, 160, 192, 224]. Weights for input shape (224, 224) will be loaded as the default.\n",
      "Model: \"sequential_22\"\n",
      "_________________________________________________________________\n",
      " Layer (type)                Output Shape              Param #   \n",
      "=================================================================\n",
      " time_distributed_106 (TimeD  (None, 18, 3, 3, 1024)   3228864   \n",
      " istributed)                                                     \n",
      "                                                                 \n",
      " time_distributed_107 (TimeD  (None, 18, 3, 3, 1024)   4096      \n",
      " istributed)                                                     \n",
      "                                                                 \n",
      " time_distributed_108 (TimeD  (None, 18, 1, 1, 1024)   0         \n",
      " istributed)                                                     \n",
      "                                                                 \n",
      " time_distributed_109 (TimeD  (None, 18, 1024)         0         \n",
      " istributed)                                                     \n",
      "                                                                 \n",
      " lstm_5 (LSTM)               (None, 128)               590336    \n",
      "                                                                 \n",
      " dropout_45 (Dropout)        (None, 128)               0         \n",
      "                                                                 \n",
      " dense_59 (Dense)            (None, 128)               16512     \n",
      "                                                                 \n",
      " dropout_46 (Dropout)        (None, 128)               0         \n",
      "                                                                 \n",
      " dense_60 (Dense)            (None, 5)                 645       \n",
      "                                                                 \n",
      "=================================================================\n",
      "Total params: 3,840,453\n",
      "Trainable params: 609,541\n",
      "Non-trainable params: 3,230,912\n",
      "_________________________________________________________________\n",
      "None\n"
     ]
    }
   ],
   "source": [
    "from keras.applications import mobilenet\n",
    "\n",
    "mobilenet_transfer = mobilenet.MobileNet(weights='imagenet', include_top=False)\n",
    "\n",
    "input_shape = (18,120,120,3)\n",
    "        \n",
    "mobileNetModelWeight = Sequential()\n",
    "mobileNetModelWeight.add(TimeDistributed(mobilenet_transfer,input_shape=(input_shape)))\n",
    "\n",
    "\n",
    "mobileNetModelWeight.add(TimeDistributed(BatchNormalization()))\n",
    "mobileNetModelWeight.add(TimeDistributed(MaxPooling2D((2, 2))))\n",
    "mobileNetModelWeight.add(TimeDistributed(Flatten()))\n",
    "\n",
    "mobileNetModelWeight.add(GRU(128))\n",
    "mobileNetModelWeight.add(Dropout(0.25))\n",
    "\n",
    "mobileNetModelWeight.add(Dense(128,activation='relu'))\n",
    "mobileNetModelWeight.add(Dropout(0.25))\n",
    "\n",
    "mobileNetModelWeight.add(Dense(5, activation='softmax'))\n",
    "\n",
    "\n",
    "optimiser = optimizers.Adam()\n",
    "mobileNetModelWeight.compile(optimizer=optimiser, loss='categorical_crossentropy', metrics=['categorical_accuracy'])\n",
    "print (mobileNetModel.summary())"
   ]
  },
  {
   "cell_type": "code",
   "execution_count": 187,
   "metadata": {},
   "outputs": [
    {
     "name": "stdout",
     "output_type": "stream",
     "text": [
      "Total Params in model: 3840453\n"
     ]
    }
   ],
   "source": [
    "print(\"Total Params in model:\", mobileNetModel.count_params())"
   ]
  },
  {
   "cell_type": "code",
   "execution_count": 189,
   "metadata": {},
   "outputs": [
    {
     "name": "stdout",
     "output_type": "stream",
     "text": [
      "# training sequences = 663\n",
      "# validation sequences = 100\n",
      "# epochs = 20\n"
     ]
    }
   ],
   "source": [
    "batch_size = 5\n",
    "curr_dt_time = datetime.datetime.now()\n",
    "train_path = 'datasets/Project_data/train'\n",
    "val_path = 'datasets/Project_data/val'\n",
    "num_train_sequences = len(train_doc)\n",
    "print('# training sequences =', num_train_sequences)\n",
    "num_val_sequences = len(val_doc)\n",
    "print('# validation sequences =', num_val_sequences)\n",
    "# choose the number of epochs\n",
    "num_epochs = 20\n",
    "print ('# epochs =', num_epochs)\n"
   ]
  },
  {
   "cell_type": "code",
   "execution_count": 190,
   "metadata": {},
   "outputs": [],
   "source": [
    "train_generator = generatorMobileNet(train_path, train_doc, batch_size)\n",
    "val_generator = generatorMobileNet(val_path, val_doc, batch_size)\n",
    "\n",
    "model_name = 'model_init' + '_' + str(curr_dt_time).replace(' ','').replace(':','_') + '/'\n",
    "    \n",
    "if not os.path.exists(model_name):\n",
    "    os.mkdir(model_name)\n",
    "        \n",
    "filepath = model_name + 'model-{epoch:05d}-{loss:.5f}-{categorical_accuracy:.5f}-{val_loss:.5f}-{val_categorical_accuracy:.5f}.h5'\n",
    "\n",
    "checkpoint = ModelCheckpoint(filepath, monitor='val_loss', verbose=1, save_best_only=True, save_weights_only=False, mode='auto')\n",
    "\n",
    "# write the REducelronplateau code here\n",
    "LR = ReduceLROnPlateau(monitor='val_loss', factor=0.2, patience=4)\n",
    "\n",
    "callbacks_list = [checkpoint, LR]\n",
    "\n",
    "if (num_train_sequences%batch_size) == 0:\n",
    "    steps_per_epoch = int(num_train_sequences/batch_size)\n",
    "else:\n",
    "    steps_per_epoch = (num_train_sequences//batch_size) + 1\n",
    "\n",
    "if (num_val_sequences%batch_size) == 0:\n",
    "    validation_steps = int(num_val_sequences/batch_size)\n",
    "else:\n",
    "    validation_steps = (num_val_sequences//batch_size) + 1"
   ]
  },
  {
   "cell_type": "code",
   "execution_count": 191,
   "metadata": {},
   "outputs": [
    {
     "name": "stdout",
     "output_type": "stream",
     "text": [
      "Source path =  datasets/Project_data/train ; batch size = 5\n",
      "Epoch 1/20\n",
      "133/133 [==============================] - ETA: 0s - loss: 1.3917 - categorical_accuracy: 0.4223Source path =  datasets/Project_data/val ; batch size = 5\n",
      "\n",
      "Epoch 00001: val_loss improved from inf to 1.01594, saving model to model_init_2024-05-0210_58_33.922156/model-00001-1.39170-0.42232-1.01594-0.58000.h5\n",
      "133/133 [==============================] - 40s 267ms/step - loss: 1.3917 - categorical_accuracy: 0.4223 - val_loss: 1.0159 - val_categorical_accuracy: 0.5800 - lr: 0.0010\n",
      "Epoch 2/20\n",
      "133/133 [==============================] - ETA: 0s - loss: 0.9304 - categorical_accuracy: 0.6425\n",
      "Epoch 00002: val_loss improved from 1.01594 to 0.58327, saving model to model_init_2024-05-0210_58_33.922156/model-00002-0.93044-0.64253-0.58327-0.76000.h5\n",
      "133/133 [==============================] - 34s 257ms/step - loss: 0.9304 - categorical_accuracy: 0.6425 - val_loss: 0.5833 - val_categorical_accuracy: 0.7600 - lr: 0.0010\n",
      "Epoch 3/20\n",
      "133/133 [==============================] - ETA: 0s - loss: 0.6719 - categorical_accuracy: 0.7421\n",
      "Epoch 00003: val_loss did not improve from 0.58327\n",
      "133/133 [==============================] - 34s 257ms/step - loss: 0.6719 - categorical_accuracy: 0.7421 - val_loss: 0.6528 - val_categorical_accuracy: 0.7600 - lr: 0.0010\n",
      "Epoch 4/20\n",
      "133/133 [==============================] - ETA: 0s - loss: 0.4897 - categorical_accuracy: 0.8084\n",
      "Epoch 00004: val_loss did not improve from 0.58327\n",
      "133/133 [==============================] - 33s 246ms/step - loss: 0.4897 - categorical_accuracy: 0.8084 - val_loss: 0.8414 - val_categorical_accuracy: 0.6600 - lr: 0.0010\n",
      "Epoch 5/20\n",
      "133/133 [==============================] - ETA: 0s - loss: 0.4696 - categorical_accuracy: 0.8356\n",
      "Epoch 00005: val_loss improved from 0.58327 to 0.46618, saving model to model_init_2024-05-0210_58_33.922156/model-00005-0.46961-0.83560-0.46618-0.84000.h5\n",
      "133/133 [==============================] - 34s 254ms/step - loss: 0.4696 - categorical_accuracy: 0.8356 - val_loss: 0.4662 - val_categorical_accuracy: 0.8400 - lr: 0.0010\n",
      "Epoch 6/20\n",
      "133/133 [==============================] - ETA: 0s - loss: 0.5258 - categorical_accuracy: 0.7979\n",
      "Epoch 00006: val_loss did not improve from 0.46618\n",
      "133/133 [==============================] - 34s 258ms/step - loss: 0.5258 - categorical_accuracy: 0.7979 - val_loss: 0.7178 - val_categorical_accuracy: 0.6700 - lr: 0.0010\n",
      "Epoch 7/20\n",
      "133/133 [==============================] - ETA: 0s - loss: 0.4908 - categorical_accuracy: 0.8220\n",
      "Epoch 00007: val_loss improved from 0.46618 to 0.42024, saving model to model_init_2024-05-0210_58_33.922156/model-00007-0.49080-0.82202-0.42024-0.84000.h5\n",
      "133/133 [==============================] - 36s 270ms/step - loss: 0.4908 - categorical_accuracy: 0.8220 - val_loss: 0.4202 - val_categorical_accuracy: 0.8400 - lr: 0.0010\n",
      "Epoch 8/20\n",
      "133/133 [==============================] - ETA: 0s - loss: 0.3744 - categorical_accuracy: 0.8703\n",
      "Epoch 00008: val_loss did not improve from 0.42024\n",
      "133/133 [==============================] - 35s 261ms/step - loss: 0.3744 - categorical_accuracy: 0.8703 - val_loss: 0.5764 - val_categorical_accuracy: 0.7500 - lr: 0.0010\n",
      "Epoch 9/20\n",
      "133/133 [==============================] - ETA: 0s - loss: 0.3307 - categorical_accuracy: 0.8808\n",
      "Epoch 00009: val_loss did not improve from 0.42024\n",
      "133/133 [==============================] - 33s 249ms/step - loss: 0.3307 - categorical_accuracy: 0.8808 - val_loss: 0.7985 - val_categorical_accuracy: 0.7600 - lr: 0.0010\n",
      "Epoch 10/20\n",
      "133/133 [==============================] - ETA: 0s - loss: 0.3377 - categorical_accuracy: 0.8763\n",
      "Epoch 00010: val_loss did not improve from 0.42024\n",
      "133/133 [==============================] - 34s 259ms/step - loss: 0.3377 - categorical_accuracy: 0.8763 - val_loss: 1.0563 - val_categorical_accuracy: 0.6200 - lr: 0.0010\n",
      "Epoch 11/20\n",
      "133/133 [==============================] - ETA: 0s - loss: 0.3879 - categorical_accuracy: 0.8703\n",
      "Epoch 00011: val_loss did not improve from 0.42024\n",
      "133/133 [==============================] - 34s 258ms/step - loss: 0.3879 - categorical_accuracy: 0.8703 - val_loss: 0.6988 - val_categorical_accuracy: 0.7200 - lr: 0.0010\n",
      "Epoch 12/20\n",
      "133/133 [==============================] - ETA: 0s - loss: 0.2481 - categorical_accuracy: 0.9246\n",
      "Epoch 00012: val_loss improved from 0.42024 to 0.16227, saving model to model_init_2024-05-0210_58_33.922156/model-00012-0.24808-0.92459-0.16227-0.94000.h5\n",
      "133/133 [==============================] - 35s 263ms/step - loss: 0.2481 - categorical_accuracy: 0.9246 - val_loss: 0.1623 - val_categorical_accuracy: 0.9400 - lr: 2.0000e-04\n",
      "Epoch 13/20\n",
      "133/133 [==============================] - ETA: 0s - loss: 0.1606 - categorical_accuracy: 0.9517\n",
      "Epoch 00013: val_loss improved from 0.16227 to 0.13634, saving model to model_init_2024-05-0210_58_33.922156/model-00013-0.16061-0.95173-0.13634-0.93000.h5\n",
      "133/133 [==============================] - 36s 267ms/step - loss: 0.1606 - categorical_accuracy: 0.9517 - val_loss: 0.1363 - val_categorical_accuracy: 0.9300 - lr: 2.0000e-04\n",
      "Epoch 14/20\n",
      "133/133 [==============================] - ETA: 0s - loss: 0.1506 - categorical_accuracy: 0.9412\n",
      "Epoch 00014: val_loss improved from 0.13634 to 0.11483, saving model to model_init_2024-05-0210_58_33.922156/model-00014-0.15056-0.94118-0.11483-0.97000.h5\n",
      "133/133 [==============================] - 33s 246ms/step - loss: 0.1506 - categorical_accuracy: 0.9412 - val_loss: 0.1148 - val_categorical_accuracy: 0.9700 - lr: 2.0000e-04\n",
      "Epoch 15/20\n",
      "133/133 [==============================] - ETA: 0s - loss: 0.1452 - categorical_accuracy: 0.9502\n",
      "Epoch 00015: val_loss did not improve from 0.11483\n",
      "133/133 [==============================] - 35s 261ms/step - loss: 0.1452 - categorical_accuracy: 0.9502 - val_loss: 0.1194 - val_categorical_accuracy: 0.9700 - lr: 2.0000e-04\n",
      "Epoch 16/20\n",
      "133/133 [==============================] - ETA: 0s - loss: 0.1172 - categorical_accuracy: 0.9593\n",
      "Epoch 00016: val_loss did not improve from 0.11483\n",
      "133/133 [==============================] - 35s 261ms/step - loss: 0.1172 - categorical_accuracy: 0.9593 - val_loss: 0.1738 - val_categorical_accuracy: 0.9400 - lr: 2.0000e-04\n",
      "Epoch 17/20\n",
      "133/133 [==============================] - ETA: 0s - loss: 0.0979 - categorical_accuracy: 0.9638\n",
      "Epoch 00017: val_loss improved from 0.11483 to 0.05383, saving model to model_init_2024-05-0210_58_33.922156/model-00017-0.09792-0.96380-0.05383-0.99000.h5\n",
      "133/133 [==============================] - 37s 278ms/step - loss: 0.0979 - categorical_accuracy: 0.9638 - val_loss: 0.0538 - val_categorical_accuracy: 0.9900 - lr: 2.0000e-04\n",
      "Epoch 18/20\n",
      "133/133 [==============================] - ETA: 0s - loss: 0.0874 - categorical_accuracy: 0.9759\n",
      "Epoch 00018: val_loss did not improve from 0.05383\n",
      "133/133 [==============================] - 35s 263ms/step - loss: 0.0874 - categorical_accuracy: 0.9759 - val_loss: 0.4534 - val_categorical_accuracy: 0.8500 - lr: 2.0000e-04\n",
      "Epoch 19/20\n",
      "133/133 [==============================] - ETA: 0s - loss: 0.0496 - categorical_accuracy: 0.9849\n",
      "Epoch 00019: val_loss did not improve from 0.05383\n",
      "133/133 [==============================] - 34s 253ms/step - loss: 0.0496 - categorical_accuracy: 0.9849 - val_loss: 0.1039 - val_categorical_accuracy: 0.9500 - lr: 2.0000e-04\n",
      "Epoch 20/20\n",
      "133/133 [==============================] - ETA: 0s - loss: 0.0604 - categorical_accuracy: 0.9849\n",
      "Epoch 00020: val_loss did not improve from 0.05383\n",
      "133/133 [==============================] - 35s 263ms/step - loss: 0.0604 - categorical_accuracy: 0.9849 - val_loss: 0.1204 - val_categorical_accuracy: 0.9400 - lr: 2.0000e-04\n"
     ]
    }
   ],
   "source": [
    "history = mobileNetModelWeight.fit(train_generator, steps_per_epoch=steps_per_epoch, epochs=num_epochs, verbose=1, \n",
    "                    callbacks=callbacks_list, validation_data=val_generator, \n",
    "                    validation_steps=validation_steps, class_weight=None, workers=1, initial_epoch=0)"
   ]
  },
  {
   "cell_type": "code",
   "execution_count": 193,
   "metadata": {},
   "outputs": [
    {
     "data": {
      "image/png": "[encoded data removed]",
      "text/plain": [
       "<Figure size 432x288 with 1 Axes>"
      ]
     },
     "metadata": {
      "needs_background": "light"
     },
     "output_type": "display_data"
    },
    {
     "data": {
      "image/png": "[encoded data removed]",
      "text/plain": [
       "<Figure size 432x288 with 1 Axes>"
      ]
     },
     "metadata": {
      "needs_background": "light"
     },
     "output_type": "display_data"
    }
   ],
   "source": [
    "# Plotting the result of Model 11:\n",
    "\n",
    "# summarize history for accuracy\n",
    "plt.plot(history.history['categorical_accuracy'])\n",
    "plt.plot(history.history['val_categorical_accuracy'])\n",
    "plt.title('model accuracy')\n",
    "plt.ylabel('accuracy')\n",
    "plt.xlabel('epoch')\n",
    "plt.legend(['train', 'test'], loc='upper left')\n",
    "plt.show()\n",
    "\n",
    "# summarize history for loss\n",
    "plt.plot(history.history['loss'])\n",
    "plt.plot(history.history['val_loss'])\n",
    "plt.title('model loss')\n",
    "plt.ylabel('loss')\n",
    "plt.xlabel('epoch')\n",
    "plt.legend(['train', 'test'], loc='upper left')\n",
    "plt.show()"
   ]
  },
  {
   "cell_type": "code",
   "execution_count": 194,
   "metadata": {},
   "outputs": [
    {
     "name": "stdout",
     "output_type": "stream",
     "text": [
      "             Model Name  Model Accuracy  Model Loss  Val Accuracy    Val Loss\n",
      "0         modelConv3D_1       44.494721  136.417484     25.999999  219.879627\n",
      "0         modelConv3D_2       38.612369  153.423560     30.000001  178.754282\n",
      "0         modelConv3D_2       38.612369  153.423560     30.000001  178.754282\n",
      "0         modelConv3D_3       42.986426  145.889616     31.000000  177.600634\n",
      "0         modelConv3D_4       45.248869  134.927368     36.000001  141.790569\n",
      "0         modelConv3D_5       59.125191  101.061988     52.999997  128.816605\n",
      "0         modelConv3D_6       80.090499   55.362916     69.999999   83.913064\n",
      "0             CNNlstm_1       92.458522   25.206617     77.999997   66.047078\n",
      "0             CNNlstm_2       92.458522   25.206617     77.999997   66.047078\n",
      "0             CNNlstm_3       85.972852   40.237352     79.000002   70.206344\n",
      "0              GRU_lstm       90.196079   24.359199     74.000001   63.145792\n",
      "0        mobileNetModel       99.396682    2.035408     72.000003  100.715208\n",
      "0  mobileNetModelWeight       98.491704    6.043084     94.000000   12.035847\n"
     ]
    }
   ],
   "source": [
    "df1 = model_result(\"mobileNetModelWeight\",history.history['categorical_accuracy'][-1], history.history['loss'][-1] , history.history['val_categorical_accuracy'][-1], history.history['val_loss'][-1])\n",
    "\n",
    "model_detail_df = pd.concat([model_detail_df,df1])\n",
    "print(model_detail_df.head(20))"
   ]
  },
  {
   "cell_type": "markdown",
   "metadata": {},
   "source": [
    "# Final Model Choosen :\n",
    "\n",
    "## Transfer Learning with GRU and training all weights\n",
    "#### model name :model-00017-0.09792-0.96380-0.05383-0.99000\n",
    "#### Train Accuracy : 98.5% and Validation Accuracy : 94%"
   ]
  },
  {
   "cell_type": "markdown",
   "metadata": {},
   "source": [
    "### *************************************************** END OF CASE STUDY *********************************************************"
   ]
  }
 ],
 "metadata": {
  "kernelspec": {
   "display_name": "Python 3 (ipykernel)",
   "language": "python",
   "name": "python3"
  },
  "language_info": {
   "codemirror_mode": {
    "name": "ipython",
    "version": 3
   },
   "file_extension": ".py",
   "mimetype": "text/x-python",
   "name": "python",
   "nbconvert_exporter": "python",
   "pygments_lexer": "ipython3",
   "version": "3.8.10"
  }
 },
 "nbformat": 4,
 "nbformat_minor": 4
}
